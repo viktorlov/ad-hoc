{
 "cells": [
  {
   "cell_type": "code",
   "execution_count": 15,
   "metadata": {
    "collapsed": true
   },
   "outputs": [],
   "source": [
    "from warnings import filterwarnings as _fw_\n",
    "\n",
    "import pandas as pd\n",
    "\n",
    "_fw_('ignore')\n"
   ]
  },
  {
   "cell_type": "code",
   "execution_count": 20,
   "outputs": [
    {
     "data": {
      "text/plain": "                               data    datetime\n0      [{'1'}, {'2'}, {'3'}, {'4'}]  2022-21-12\n1  [{'11'}, {'22'}, {'33'}, {'44'}]  2020-21-12",
      "text/html": "<div>\n<style scoped>\n    .dataframe tbody tr th:only-of-type {\n        vertical-align: middle;\n    }\n\n    .dataframe tbody tr th {\n        vertical-align: top;\n    }\n\n    .dataframe thead th {\n        text-align: right;\n    }\n</style>\n<table border=\"1\" class=\"dataframe\">\n  <thead>\n    <tr style=\"text-align: right;\">\n      <th></th>\n      <th>data</th>\n      <th>datetime</th>\n    </tr>\n  </thead>\n  <tbody>\n    <tr>\n      <th>0</th>\n      <td>[{'1'}, {'2'}, {'3'}, {'4'}]</td>\n      <td>2022-21-12</td>\n    </tr>\n    <tr>\n      <th>1</th>\n      <td>[{'11'}, {'22'}, {'33'}, {'44'}]</td>\n      <td>2020-21-12</td>\n    </tr>\n  </tbody>\n</table>\n</div>"
     },
     "execution_count": 20,
     "metadata": {},
     "output_type": "execute_result"
    }
   ],
   "source": [
    "df = pd.read_excel('manual.xlsx')\n",
    "df"
   ],
   "metadata": {
    "collapsed": false
   }
  },
  {
   "cell_type": "code",
   "execution_count": 21,
   "outputs": [
    {
     "data": {
      "text/plain": "data        object\ndatetime    object\ndtype: object"
     },
     "execution_count": 21,
     "metadata": {},
     "output_type": "execute_result"
    }
   ],
   "source": [
    "df.dtypes"
   ],
   "metadata": {
    "collapsed": false
   }
  },
  {
   "cell_type": "code",
   "execution_count": 22,
   "outputs": [
    {
     "data": {
      "text/plain": "                               data    datetime  data_1  data_2  data_3\n0      [{'1'}, {'2'}, {'3'}, {'4'}]  2022-21-12   {'1'}   {'2'}   {'2'}\n1  [{'11'}, {'22'}, {'33'}, {'44'}]  2020-21-12  {'11'}  {'22'}  {'22'}",
      "text/html": "<div>\n<style scoped>\n    .dataframe tbody tr th:only-of-type {\n        vertical-align: middle;\n    }\n\n    .dataframe tbody tr th {\n        vertical-align: top;\n    }\n\n    .dataframe thead th {\n        text-align: right;\n    }\n</style>\n<table border=\"1\" class=\"dataframe\">\n  <thead>\n    <tr style=\"text-align: right;\">\n      <th></th>\n      <th>data</th>\n      <th>datetime</th>\n      <th>data_1</th>\n      <th>data_2</th>\n      <th>data_3</th>\n    </tr>\n  </thead>\n  <tbody>\n    <tr>\n      <th>0</th>\n      <td>[{'1'}, {'2'}, {'3'}, {'4'}]</td>\n      <td>2022-21-12</td>\n      <td>{'1'}</td>\n      <td>{'2'}</td>\n      <td>{'2'}</td>\n    </tr>\n    <tr>\n      <th>1</th>\n      <td>[{'11'}, {'22'}, {'33'}, {'44'}]</td>\n      <td>2020-21-12</td>\n      <td>{'11'}</td>\n      <td>{'22'}</td>\n      <td>{'22'}</td>\n    </tr>\n  </tbody>\n</table>\n</div>"
     },
     "execution_count": 22,
     "metadata": {},
     "output_type": "execute_result"
    }
   ],
   "source": [
    "FX1 = lambda row_: row_[1:-1].split(', ')[0]\n",
    "FX2 = lambda row_: row_[1:-1].split(', ')[1]\n",
    "FX3 = lambda row_: row_[1:-1].split(', ')[2]\n",
    "df['data_1'] = df['data'].apply(FX1)\n",
    "df['data_2'] = df['data'].apply(FX2)\n",
    "df['data_3'] = df['data'].apply(FX2)\n",
    "df"
   ],
   "metadata": {
    "collapsed": false
   }
  },
  {
   "cell_type": "code",
   "execution_count": 23,
   "outputs": [
    {
     "data": {
      "text/plain": "     datetime    date\n0  2022-21-12   {'1'}\n1  2020-21-12  {'11'}\n0  2022-21-12   {'2'}\n1  2020-21-12  {'22'}\n0  2022-21-12   {'2'}\n1  2020-21-12  {'22'}",
      "text/html": "<div>\n<style scoped>\n    .dataframe tbody tr th:only-of-type {\n        vertical-align: middle;\n    }\n\n    .dataframe tbody tr th {\n        vertical-align: top;\n    }\n\n    .dataframe thead tr th {\n        text-align: left;\n    }\n</style>\n<table border=\"1\" class=\"dataframe\">\n  <thead>\n    <tr>\n      <th></th>\n      <th>datetime</th>\n      <th>date</th>\n    </tr>\n  </thead>\n  <tbody>\n    <tr>\n      <th>0</th>\n      <td>2022-21-12</td>\n      <td>{'1'}</td>\n    </tr>\n    <tr>\n      <th>1</th>\n      <td>2020-21-12</td>\n      <td>{'11'}</td>\n    </tr>\n    <tr>\n      <th>0</th>\n      <td>2022-21-12</td>\n      <td>{'2'}</td>\n    </tr>\n    <tr>\n      <th>1</th>\n      <td>2020-21-12</td>\n      <td>{'22'}</td>\n    </tr>\n    <tr>\n      <th>0</th>\n      <td>2022-21-12</td>\n      <td>{'2'}</td>\n    </tr>\n    <tr>\n      <th>1</th>\n      <td>2020-21-12</td>\n      <td>{'22'}</td>\n    </tr>\n  </tbody>\n</table>\n</div>"
     },
     "execution_count": 23,
     "metadata": {},
     "output_type": "execute_result"
    }
   ],
   "source": [
    "cols = [['datetime', 'date']]\n",
    "df1 = df[['datetime', 'data_1']]\n",
    "df2 = df[['datetime', 'data_2']]\n",
    "df3 = df[['datetime', 'data_3']]\n",
    "df1.columns = cols\n",
    "df2.columns = cols\n",
    "df3.columns = cols\n",
    "df_a = pd.concat([df1, df2, df3], axis=0)\n",
    "df_a"
   ],
   "metadata": {
    "collapsed": false
   }
  },
  {
   "cell_type": "code",
   "execution_count": 23,
   "outputs": [],
   "source": [],
   "metadata": {
    "collapsed": false
   }
  },
  {
   "cell_type": "code",
   "execution_count": 23,
   "outputs": [],
   "source": [],
   "metadata": {
    "collapsed": false
   }
  },
  {
   "cell_type": "code",
   "execution_count": 23,
   "outputs": [],
   "source": [],
   "metadata": {
    "collapsed": false
   }
  },
  {
   "cell_type": "code",
   "execution_count": 23,
   "outputs": [],
   "source": [],
   "metadata": {
    "collapsed": false
   }
  },
  {
   "cell_type": "code",
   "execution_count": 23,
   "outputs": [],
   "source": [],
   "metadata": {
    "collapsed": false
   }
  }
 ],
 "metadata": {
  "kernelspec": {
   "display_name": "Python 3",
   "language": "python",
   "name": "python3"
  },
  "language_info": {
   "codemirror_mode": {
    "name": "ipython",
    "version": 2
   },
   "file_extension": ".py",
   "mimetype": "text/x-python",
   "name": "python",
   "nbconvert_exporter": "python",
   "pygments_lexer": "ipython2",
   "version": "2.7.6"
  }
 },
 "nbformat": 4,
 "nbformat_minor": 0
}
