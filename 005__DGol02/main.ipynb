{
 "cells": [
  {
   "cell_type": "code",
   "execution_count": 11,
   "outputs": [],
   "source": [
    "import pandas as pd"
   ],
   "metadata": {
    "collapsed": false
   }
  },
  {
   "cell_type": "code",
   "execution_count": 12,
   "outputs": [],
   "source": [
    "df = pd.DataFrame({\"data\": [[{'1':'11'},{'2':'12'},{'3':'13'},], [{'11':'111'},{'22':'122'},{'33':'133'},], []],\n",
    "                   \"datetime\": ['2020-12-20', '2001-06-01', '1995-01-30']},\n",
    "                  index=[1, 2, 3])"
   ],
   "metadata": {
    "collapsed": false
   }
  },
  {
   "cell_type": "code",
   "execution_count": 13,
   "outputs": [
    {
     "data": {
      "text/plain": "            data    datetime\n1    {'1': '11'}  2020-12-20\n1    {'2': '12'}  2020-12-20\n1    {'3': '13'}  2020-12-20\n2  {'11': '111'}  2001-06-01\n2  {'22': '122'}  2001-06-01\n2  {'33': '133'}  2001-06-01\n3            NaN  1995-01-30",
      "text/html": "<div>\n<style scoped>\n    .dataframe tbody tr th:only-of-type {\n        vertical-align: middle;\n    }\n\n    .dataframe tbody tr th {\n        vertical-align: top;\n    }\n\n    .dataframe thead th {\n        text-align: right;\n    }\n</style>\n<table border=\"1\" class=\"dataframe\">\n  <thead>\n    <tr style=\"text-align: right;\">\n      <th></th>\n      <th>data</th>\n      <th>datetime</th>\n    </tr>\n  </thead>\n  <tbody>\n    <tr>\n      <th>1</th>\n      <td>{'1': '11'}</td>\n      <td>2020-12-20</td>\n    </tr>\n    <tr>\n      <th>1</th>\n      <td>{'2': '12'}</td>\n      <td>2020-12-20</td>\n    </tr>\n    <tr>\n      <th>1</th>\n      <td>{'3': '13'}</td>\n      <td>2020-12-20</td>\n    </tr>\n    <tr>\n      <th>2</th>\n      <td>{'11': '111'}</td>\n      <td>2001-06-01</td>\n    </tr>\n    <tr>\n      <th>2</th>\n      <td>{'22': '122'}</td>\n      <td>2001-06-01</td>\n    </tr>\n    <tr>\n      <th>2</th>\n      <td>{'33': '133'}</td>\n      <td>2001-06-01</td>\n    </tr>\n    <tr>\n      <th>3</th>\n      <td>NaN</td>\n      <td>1995-01-30</td>\n    </tr>\n  </tbody>\n</table>\n</div>"
     },
     "execution_count": 13,
     "metadata": {},
     "output_type": "execute_result"
    }
   ],
   "source": [
    "df.explode('data')"
   ],
   "metadata": {
    "collapsed": false
   }
  },
  {
   "cell_type": "code",
   "execution_count": 13,
   "outputs": [],
   "source": [],
   "metadata": {
    "collapsed": false
   }
  },
  {
   "cell_type": "code",
   "execution_count": 13,
   "outputs": [],
   "source": [],
   "metadata": {
    "collapsed": false
   }
  },
  {
   "cell_type": "code",
   "execution_count": 13,
   "outputs": [],
   "source": [],
   "metadata": {
    "collapsed": false
   }
  }
 ],
 "metadata": {
  "kernelspec": {
   "display_name": "Python 3",
   "language": "python",
   "name": "python3"
  },
  "language_info": {
   "codemirror_mode": {
    "name": "ipython",
    "version": 2
   },
   "file_extension": ".py",
   "mimetype": "text/x-python",
   "name": "python",
   "nbconvert_exporter": "python",
   "pygments_lexer": "ipython2",
   "version": "2.7.6"
  }
 },
 "nbformat": 4,
 "nbformat_minor": 0
}
