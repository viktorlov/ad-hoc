{
 "cells": [
  {
   "cell_type": "code",
   "execution_count": 4,
   "outputs": [],
   "source": [
    "import pandas as pd\n",
    "import sketch"
   ],
   "metadata": {
    "collapsed": false
   }
  },
  {
   "cell_type": "code",
   "execution_count": 3,
   "outputs": [
    {
     "data": {
      "text/plain": "                       team  points\n0          Mavs, West, East     112\n1               Spurs, West     104\n2  Nets, East, South, North     127",
      "text/html": "<div>\n<style scoped>\n    .dataframe tbody tr th:only-of-type {\n        vertical-align: middle;\n    }\n\n    .dataframe tbody tr th {\n        vertical-align: top;\n    }\n\n    .dataframe thead th {\n        text-align: right;\n    }\n</style>\n<table border=\"1\" class=\"dataframe\">\n  <thead>\n    <tr style=\"text-align: right;\">\n      <th></th>\n      <th>team</th>\n      <th>points</th>\n    </tr>\n  </thead>\n  <tbody>\n    <tr>\n      <th>0</th>\n      <td>Mavs, West, East</td>\n      <td>112</td>\n    </tr>\n    <tr>\n      <th>1</th>\n      <td>Spurs, West</td>\n      <td>104</td>\n    </tr>\n    <tr>\n      <th>2</th>\n      <td>Nets, East, South, North</td>\n      <td>127</td>\n    </tr>\n  </tbody>\n</table>\n</div>"
     },
     "execution_count": 3,
     "metadata": {},
     "output_type": "execute_result"
    }
   ],
   "source": [
    "#create DataFrame\n",
    "df = pd.DataFrame({'team': ['Mavs, West, East', 'Spurs, West', 'Nets, East, South, North',],\n",
    " 'points': [112, 104, 127]})\n",
    "\n",
    "#view DataFrame\n",
    "df"
   ],
   "metadata": {
    "collapsed": false
   }
  },
  {
   "cell_type": "code",
   "execution_count": 5,
   "outputs": [
    {
     "data": {
      "text/plain": "<IPython.core.display.HTML object>",
      "text/html": "<div style=\"display:flex;flex-direction:row;justify-content:space-between;\">\n                <pre style=\"width: 100%; white-space: pre-wrap;\" id=\"59b57797-a4b4-44c3-ae51-0baf1493d794\">\n# Split team each part on new line\ndf['team'] = df['team'].str.split(',')\ndf = df.explode('team')\n</pre>\n                <button style=\"height: fit-content;\" onclick=\"navigator.clipboard.writeText(JSON.parse(atob(`IlxuIyBTcGxpdCB0ZWFtIGVhY2ggcGFydCBvbiBuZXcgbGluZVxuZGZbJ3RlYW0nXSA9IGRmWyd0ZWFtJ10uc3RyLnNwbGl0KCcsJylcbmRmID0gZGYuZXhwbG9kZSgndGVhbScpXG4i`)))\">Copy</button>\n                </div>"
     },
     "metadata": {},
     "output_type": "display_data"
    }
   ],
   "source": [
    "df.sketch.howto(\"Split team each part on new line\")"
   ],
   "metadata": {
    "collapsed": false
   }
  },
  {
   "cell_type": "code",
   "execution_count": 6,
   "outputs": [
    {
     "data": {
      "text/plain": "     team  points\n0    Mavs     112\n0    West     112\n0    East     112\n1   Spurs     104\n1    West     104\n2    Nets     127\n2    East     127\n2   South     127\n2   North     127",
      "text/html": "<div>\n<style scoped>\n    .dataframe tbody tr th:only-of-type {\n        vertical-align: middle;\n    }\n\n    .dataframe tbody tr th {\n        vertical-align: top;\n    }\n\n    .dataframe thead th {\n        text-align: right;\n    }\n</style>\n<table border=\"1\" class=\"dataframe\">\n  <thead>\n    <tr style=\"text-align: right;\">\n      <th></th>\n      <th>team</th>\n      <th>points</th>\n    </tr>\n  </thead>\n  <tbody>\n    <tr>\n      <th>0</th>\n      <td>Mavs</td>\n      <td>112</td>\n    </tr>\n    <tr>\n      <th>0</th>\n      <td>West</td>\n      <td>112</td>\n    </tr>\n    <tr>\n      <th>0</th>\n      <td>East</td>\n      <td>112</td>\n    </tr>\n    <tr>\n      <th>1</th>\n      <td>Spurs</td>\n      <td>104</td>\n    </tr>\n    <tr>\n      <th>1</th>\n      <td>West</td>\n      <td>104</td>\n    </tr>\n    <tr>\n      <th>2</th>\n      <td>Nets</td>\n      <td>127</td>\n    </tr>\n    <tr>\n      <th>2</th>\n      <td>East</td>\n      <td>127</td>\n    </tr>\n    <tr>\n      <th>2</th>\n      <td>South</td>\n      <td>127</td>\n    </tr>\n    <tr>\n      <th>2</th>\n      <td>North</td>\n      <td>127</td>\n    </tr>\n  </tbody>\n</table>\n</div>"
     },
     "execution_count": 6,
     "metadata": {},
     "output_type": "execute_result"
    }
   ],
   "source": [
    "# Split team each part on new line\n",
    "df['team'] = df['team'].str.split(',')\n",
    "df = df.explode('team')\n",
    "df"
   ],
   "metadata": {
    "collapsed": false
   }
  }
 ],
 "metadata": {
  "kernelspec": {
   "display_name": "Python 3",
   "language": "python",
   "name": "python3"
  },
  "language_info": {
   "codemirror_mode": {
    "name": "ipython",
    "version": 2
   },
   "file_extension": ".py",
   "mimetype": "text/x-python",
   "name": "python",
   "nbconvert_exporter": "python",
   "pygments_lexer": "ipython2",
   "version": "2.7.6"
  }
 },
 "nbformat": 4,
 "nbformat_minor": 0
}
