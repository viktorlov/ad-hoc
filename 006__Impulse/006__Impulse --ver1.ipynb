{
 "cells": [
  {
   "cell_type": "code",
   "execution_count": 117,
   "metadata": {
    "collapsed": true
   },
   "outputs": [],
   "source": [
    "import pandas as pd"
   ]
  },
  {
   "cell_type": "code",
   "execution_count": 118,
   "outputs": [],
   "source": [
    "df_raw = pd.read_excel('006__Impulse dataset.xlsx', None)\n",
    "\n",
    "try:\n",
    "    df.drop(df.index, inplace=True)\n",
    "except NameError:\n",
    "    pass"
   ],
   "metadata": {
    "collapsed": false
   }
  },
  {
   "cell_type": "code",
   "execution_count": 119,
   "outputs": [
    {
     "name": "stdout",
     "output_type": "stream",
     "text": [
      "0 Основная комната – Зрители\n",
      "1 QA – Зрители\n",
      "2 DA – Зрители\n",
      "3 Маркетинг – зрители\n",
      "4 Дизайн – зрители\n",
      "5 Python – зрители\n",
      "6 Java – Зрители\n",
      "7 Веб – зрители\n"
     ]
    }
   ],
   "source": [
    "# список листов книги эксель\n",
    "sheets = list(df_raw.keys())\n",
    "for k, v in enumerate(sheets):\n",
    "    print(k, v)"
   ],
   "metadata": {
    "collapsed": false
   }
  },
  {
   "cell_type": "code",
   "execution_count": 120,
   "outputs": [],
   "source": [
    "# список нужных колонок листа\n",
    "columns = ['Дата', 'Имя участника',\n",
    "           'На вебинаре с', 'Досмотрел до', 'Интервалы', 'присутствия', 'Продолжительность',\n",
    "           'Устройство', 'Клик по кнопке',\n",
    "           'Город', 'Регион', 'Ссылка входа', 'Переход с']\n",
    "\n",
    "mapping = {'Дата': 'date',\n",
    "           'Имя участника': 'name',\n",
    "           'На вебинаре с': 'webinar_from',\n",
    "           'Досмотрел до': 'webinar_to',\n",
    "           'Интервалы': 'interval_from',\n",
    "           'присутствия': 'interval_to',\n",
    "           'Продолжительность': 'duration',\n",
    "           'Устройство': 'device',\n",
    "           'Клик по кнопке': 'click_to',\n",
    "           'Город': 'city',\n",
    "           'Регион': 'region',\n",
    "           'Ссылка входа': 'entrance_link',\n",
    "           'Переход с': 'source_link'}"
   ],
   "metadata": {
    "collapsed": false
   }
  },
  {
   "cell_type": "code",
   "execution_count": 121,
   "outputs": [],
   "source": [
    "def dataframe_processing(_df_raw_,\n",
    "                         _sheet_index_,\n",
    "                         _columns_):\n",
    "    cdf = pd.DataFrame(_df_raw_[sheets[_sheet_index_]][_columns_])\n",
    "\n",
    "    cdf = cdf.rename(columns=mapping)\n",
    "\n",
    "    cdf.loc[cdf['name'].notnull(), cdf.columns != 'name'] = \\\n",
    "        cdf.loc[cdf['name'].notnull(), cdf.columns != 'name'].fillna(\"____\")\n",
    "    cdf = cdf.ffill(axis=0)\n",
    "    cdf['click_to'] = cdf['click_to'].str.split(', ')\n",
    "    cdf = cdf.explode('click_to')\n",
    "    cdf = cdf[cdf['webinar_to'] != \"____\"].dropna()\n",
    "\n",
    "    cdf[['Button_Name', 'Button_Time']] = cdf['click_to'].str.split(' в ', expand=True)\n",
    "    cdf = cdf.replace({'____': '', None: ''})\n",
    "\n",
    "    cdf['date'] = pd.to_datetime(cdf['date'])\n",
    "\n",
    "    try:\n",
    "        cdf['webinar_from'] = pd.to_datetime(cdf['webinar_from'], format='%H:%M').dt.time\n",
    "        cdf['webinar_to'] = pd.to_datetime(cdf['webinar_to'], format='%H:%M').dt.time\n",
    "    except ValueError:\n",
    "        cdf['webinar_from'] = pd.to_datetime(cdf['webinar_from'], format='%H:%M:%S').dt.time\n",
    "        cdf['webinar_to'] = pd.to_datetime(cdf['webinar_to'], format='%H:%M:%S').dt.time\n",
    "\n",
    "    cdf['interval_from'] = pd.to_datetime(cdf['interval_from'], format='%H:%M:%S').dt.time\n",
    "    cdf['interval_to'] = pd.to_datetime(cdf['interval_to'], format='%H:%M:%S').dt.time\n",
    "\n",
    "    from datetime import datetime\n",
    "    cdf['Button_Time'] = cdf['Button_Time'].apply(\n",
    "        lambda x: datetime.strptime(str(x), '%H:%M').time() if x != '' else '')\n",
    "\n",
    "    return cdf"
   ],
   "metadata": {
    "collapsed": false
   }
  },
  {
   "cell_type": "code",
   "execution_count": 124,
   "outputs": [
    {
     "data": {
      "text/plain": "                    date            name webinar_from webinar_to  \\\n0    2023-01-14 11:56:00  Коротаев Павел     11:56:00   12:35:00   \n1    2023-01-14 11:56:00     Роман Орлов     11:56:00   15:59:00   \n2    2023-01-14 11:56:00         Борисыч     11:56:00   15:58:00   \n3    2023-01-14 11:56:00         Борисыч     11:56:00   15:58:00   \n4    2023-01-14 11:56:00         Борисыч     11:56:00   15:58:00   \n...                  ...             ...          ...        ...   \n5496 2023-01-14 11:56:00       Анатолий+     15:50:00   15:52:00   \n5497 2023-01-14 11:56:00          Дарья+     15:51:00   15:54:00   \n5498 2023-01-14 11:56:00           Alina     15:54:00   15:55:00   \n5499 2023-01-14 11:56:00   тест тестович     15:54:00   15:58:00   \n5500 2023-01-14 11:56:00             Ana     15:54:00   15:56:00   \n\n     interval_from interval_to    duration device  \\\n0         11:56:57    12:35:42   38.750000     ПК   \n1         11:56:57    15:59:28  242.516667     ПК   \n2         11:56:57    12:45:42   48.750000    моб   \n3         12:47:52    12:47:57    0.083333    моб   \n4         12:50:47    12:50:52    0.083333    моб   \n...            ...         ...         ...    ...   \n5496      15:50:48    15:52:23    1.583333     ПК   \n5497      15:51:18    15:54:03    2.750000    моб   \n5498      15:54:08    15:55:33    1.416667    моб   \n5499      15:54:38    15:58:48    4.166667     ПК   \n5500      15:54:43    15:56:48    2.083333    моб   \n\n                          click_to              city               region  \\\n0     «Python-разработчик» в 12:35            Липецк     Липецкая область   \n1                                             Москва               Москва   \n2                                             Москва               Москва   \n3                                             Москва               Москва   \n4                                             Москва               Москва   \n...                            ...               ...                  ...   \n5496                                Набережные Челны            Татарстан   \n5497                                         Саратов  Саратовская область   \n5498                                         Тбилиси              Тбилиси   \n5499                                          Батуми     Одесская область   \n5500                                                                        \n\n                                          entrance_link  \\\n0     https://start.bizon365.ru/room/81268/impulse_g...   \n1     https://start.bizon365.ru/room/81268/impulse_g...   \n2     https://start.bizon365.ru/room/81268/impulse_g...   \n3     https://start.bizon365.ru/room/81268/impulse_g...   \n4     https://start.bizon365.ru/room/81268/impulse_g...   \n...                                                 ...   \n5496  https://start.bizon365.ru/room/81268/impulse_g...   \n5497  https://start.bizon365.ru/room/81268/impulse_g...   \n5498  https://start.bizon365.ru/room/81268/impulse_g...   \n5499  https://start.bizon365.ru/room/81268/impulse_g...   \n5500  https://start.bizon365.ru/room/81268/impulse_g...   \n\n                  source_link           Button_Name Button_Time  \n0     https://www.google.com/  «Python-разработчик»    12:35:00  \n1                                                                \n2                                                                \n3                                                                \n4                                                                \n...                       ...                   ...         ...  \n5496   https://click.mail.ru/                                    \n5497                                                             \n5498                                                             \n5499                                                             \n5500                                                             \n\n[7048 rows x 15 columns]",
      "text/html": "<div>\n<style scoped>\n    .dataframe tbody tr th:only-of-type {\n        vertical-align: middle;\n    }\n\n    .dataframe tbody tr th {\n        vertical-align: top;\n    }\n\n    .dataframe thead th {\n        text-align: right;\n    }\n</style>\n<table border=\"1\" class=\"dataframe\">\n  <thead>\n    <tr style=\"text-align: right;\">\n      <th></th>\n      <th>date</th>\n      <th>name</th>\n      <th>webinar_from</th>\n      <th>webinar_to</th>\n      <th>interval_from</th>\n      <th>interval_to</th>\n      <th>duration</th>\n      <th>device</th>\n      <th>click_to</th>\n      <th>city</th>\n      <th>region</th>\n      <th>entrance_link</th>\n      <th>source_link</th>\n      <th>Button_Name</th>\n      <th>Button_Time</th>\n    </tr>\n  </thead>\n  <tbody>\n    <tr>\n      <th>0</th>\n      <td>2023-01-14 11:56:00</td>\n      <td>Коротаев Павел</td>\n      <td>11:56:00</td>\n      <td>12:35:00</td>\n      <td>11:56:57</td>\n      <td>12:35:42</td>\n      <td>38.750000</td>\n      <td>ПК</td>\n      <td>«Python-разработчик» в 12:35</td>\n      <td>Липецк</td>\n      <td>Липецкая область</td>\n      <td>https://start.bizon365.ru/room/81268/impulse_g...</td>\n      <td>https://www.google.com/</td>\n      <td>«Python-разработчик»</td>\n      <td>12:35:00</td>\n    </tr>\n    <tr>\n      <th>1</th>\n      <td>2023-01-14 11:56:00</td>\n      <td>Роман Орлов</td>\n      <td>11:56:00</td>\n      <td>15:59:00</td>\n      <td>11:56:57</td>\n      <td>15:59:28</td>\n      <td>242.516667</td>\n      <td>ПК</td>\n      <td></td>\n      <td>Москва</td>\n      <td>Москва</td>\n      <td>https://start.bizon365.ru/room/81268/impulse_g...</td>\n      <td></td>\n      <td></td>\n      <td></td>\n    </tr>\n    <tr>\n      <th>2</th>\n      <td>2023-01-14 11:56:00</td>\n      <td>Борисыч</td>\n      <td>11:56:00</td>\n      <td>15:58:00</td>\n      <td>11:56:57</td>\n      <td>12:45:42</td>\n      <td>48.750000</td>\n      <td>моб</td>\n      <td></td>\n      <td>Москва</td>\n      <td>Москва</td>\n      <td>https://start.bizon365.ru/room/81268/impulse_g...</td>\n      <td></td>\n      <td></td>\n      <td></td>\n    </tr>\n    <tr>\n      <th>3</th>\n      <td>2023-01-14 11:56:00</td>\n      <td>Борисыч</td>\n      <td>11:56:00</td>\n      <td>15:58:00</td>\n      <td>12:47:52</td>\n      <td>12:47:57</td>\n      <td>0.083333</td>\n      <td>моб</td>\n      <td></td>\n      <td>Москва</td>\n      <td>Москва</td>\n      <td>https://start.bizon365.ru/room/81268/impulse_g...</td>\n      <td></td>\n      <td></td>\n      <td></td>\n    </tr>\n    <tr>\n      <th>4</th>\n      <td>2023-01-14 11:56:00</td>\n      <td>Борисыч</td>\n      <td>11:56:00</td>\n      <td>15:58:00</td>\n      <td>12:50:47</td>\n      <td>12:50:52</td>\n      <td>0.083333</td>\n      <td>моб</td>\n      <td></td>\n      <td>Москва</td>\n      <td>Москва</td>\n      <td>https://start.bizon365.ru/room/81268/impulse_g...</td>\n      <td></td>\n      <td></td>\n      <td></td>\n    </tr>\n    <tr>\n      <th>...</th>\n      <td>...</td>\n      <td>...</td>\n      <td>...</td>\n      <td>...</td>\n      <td>...</td>\n      <td>...</td>\n      <td>...</td>\n      <td>...</td>\n      <td>...</td>\n      <td>...</td>\n      <td>...</td>\n      <td>...</td>\n      <td>...</td>\n      <td>...</td>\n      <td>...</td>\n    </tr>\n    <tr>\n      <th>5496</th>\n      <td>2023-01-14 11:56:00</td>\n      <td>Анатолий+</td>\n      <td>15:50:00</td>\n      <td>15:52:00</td>\n      <td>15:50:48</td>\n      <td>15:52:23</td>\n      <td>1.583333</td>\n      <td>ПК</td>\n      <td></td>\n      <td>Набережные Челны</td>\n      <td>Татарстан</td>\n      <td>https://start.bizon365.ru/room/81268/impulse_g...</td>\n      <td>https://click.mail.ru/</td>\n      <td></td>\n      <td></td>\n    </tr>\n    <tr>\n      <th>5497</th>\n      <td>2023-01-14 11:56:00</td>\n      <td>Дарья+</td>\n      <td>15:51:00</td>\n      <td>15:54:00</td>\n      <td>15:51:18</td>\n      <td>15:54:03</td>\n      <td>2.750000</td>\n      <td>моб</td>\n      <td></td>\n      <td>Саратов</td>\n      <td>Саратовская область</td>\n      <td>https://start.bizon365.ru/room/81268/impulse_g...</td>\n      <td></td>\n      <td></td>\n      <td></td>\n    </tr>\n    <tr>\n      <th>5498</th>\n      <td>2023-01-14 11:56:00</td>\n      <td>Alina</td>\n      <td>15:54:00</td>\n      <td>15:55:00</td>\n      <td>15:54:08</td>\n      <td>15:55:33</td>\n      <td>1.416667</td>\n      <td>моб</td>\n      <td></td>\n      <td>Тбилиси</td>\n      <td>Тбилиси</td>\n      <td>https://start.bizon365.ru/room/81268/impulse_g...</td>\n      <td></td>\n      <td></td>\n      <td></td>\n    </tr>\n    <tr>\n      <th>5499</th>\n      <td>2023-01-14 11:56:00</td>\n      <td>тест тестович</td>\n      <td>15:54:00</td>\n      <td>15:58:00</td>\n      <td>15:54:38</td>\n      <td>15:58:48</td>\n      <td>4.166667</td>\n      <td>ПК</td>\n      <td></td>\n      <td>Батуми</td>\n      <td>Одесская область</td>\n      <td>https://start.bizon365.ru/room/81268/impulse_g...</td>\n      <td></td>\n      <td></td>\n      <td></td>\n    </tr>\n    <tr>\n      <th>5500</th>\n      <td>2023-01-14 11:56:00</td>\n      <td>Ana</td>\n      <td>15:54:00</td>\n      <td>15:56:00</td>\n      <td>15:54:43</td>\n      <td>15:56:48</td>\n      <td>2.083333</td>\n      <td>моб</td>\n      <td></td>\n      <td></td>\n      <td></td>\n      <td>https://start.bizon365.ru/room/81268/impulse_g...</td>\n      <td></td>\n      <td></td>\n      <td></td>\n    </tr>\n  </tbody>\n</table>\n<p>7048 rows × 15 columns</p>\n</div>"
     },
     "execution_count": 124,
     "metadata": {},
     "output_type": "execute_result"
    }
   ],
   "source": [
    "current = dataframe_processing(df_raw, 0, columns)\n",
    "current"
   ],
   "metadata": {
    "collapsed": false
   }
  },
  {
   "cell_type": "code",
   "execution_count": 157,
   "outputs": [
    {
     "data": {
      "text/plain": "datetime.time(11, 56)"
     },
     "execution_count": 157,
     "metadata": {},
     "output_type": "execute_result"
    }
   ],
   "source": [
    "min_webinar = current.webinar_from.min()\n",
    "max_webinar = current.webinar_to.max()\n",
    "webinar_range = pd.date_range(str(min_webinar), str(max_webinar), freq=\"1min\").time\n",
    "\n",
    "webinar_range[0]"
   ],
   "metadata": {
    "collapsed": false
   }
  },
  {
   "cell_type": "code",
   "execution_count": 156,
   "outputs": [
    {
     "data": {
      "text/plain": "       time _in_ _out_   qa   da marketing design python java  web\n0  11:56:00  NaN   NaN  NaN  NaN       NaN    NaN    NaN  NaN  NaN\n1  11:57:00  NaN   NaN  NaN  NaN       NaN    NaN    NaN  NaN  NaN\n2  11:58:00  NaN   NaN  NaN  NaN       NaN    NaN    NaN  NaN  NaN",
      "text/html": "<div>\n<style scoped>\n    .dataframe tbody tr th:only-of-type {\n        vertical-align: middle;\n    }\n\n    .dataframe tbody tr th {\n        vertical-align: top;\n    }\n\n    .dataframe thead th {\n        text-align: right;\n    }\n</style>\n<table border=\"1\" class=\"dataframe\">\n  <thead>\n    <tr style=\"text-align: right;\">\n      <th></th>\n      <th>time</th>\n      <th>_in_</th>\n      <th>_out_</th>\n      <th>qa</th>\n      <th>da</th>\n      <th>marketing</th>\n      <th>design</th>\n      <th>python</th>\n      <th>java</th>\n      <th>web</th>\n    </tr>\n  </thead>\n  <tbody>\n    <tr>\n      <th>0</th>\n      <td>11:56:00</td>\n      <td>NaN</td>\n      <td>NaN</td>\n      <td>NaN</td>\n      <td>NaN</td>\n      <td>NaN</td>\n      <td>NaN</td>\n      <td>NaN</td>\n      <td>NaN</td>\n      <td>NaN</td>\n    </tr>\n    <tr>\n      <th>1</th>\n      <td>11:57:00</td>\n      <td>NaN</td>\n      <td>NaN</td>\n      <td>NaN</td>\n      <td>NaN</td>\n      <td>NaN</td>\n      <td>NaN</td>\n      <td>NaN</td>\n      <td>NaN</td>\n      <td>NaN</td>\n    </tr>\n    <tr>\n      <th>2</th>\n      <td>11:58:00</td>\n      <td>NaN</td>\n      <td>NaN</td>\n      <td>NaN</td>\n      <td>NaN</td>\n      <td>NaN</td>\n      <td>NaN</td>\n      <td>NaN</td>\n      <td>NaN</td>\n      <td>NaN</td>\n    </tr>\n  </tbody>\n</table>\n</div>"
     },
     "execution_count": 156,
     "metadata": {},
     "output_type": "execute_result"
    }
   ],
   "source": [
    "result = pd.DataFrame(columns=['_in_', '_out_',\n",
    "                               'qa',\n",
    "                               'da',\n",
    "                               'marketing',\n",
    "                               'design',\n",
    "                               'python',\n",
    "                               'java',\n",
    "                               'web'],\n",
    "                      index=webinar_range).reset_index()\n",
    "result.rename(columns={'index': 'time'}).head(3)"
   ],
   "metadata": {
    "collapsed": false
   }
  },
  {
   "cell_type": "code",
   "execution_count": 123,
   "outputs": [],
   "source": [
    "lag = 3"
   ],
   "metadata": {
    "collapsed": false
   }
  },
  {
   "cell_type": "code",
   "execution_count": 158,
   "outputs": [
    {
     "data": {
      "text/plain": "                 date            name webinar_from webinar_to interval_from  \\\n0 2023-01-14 11:56:00  Коротаев Павел     11:56:00   12:35:00      11:56:57   \n1 2023-01-14 11:56:00     Роман Орлов     11:56:00   15:59:00      11:56:57   \n2 2023-01-14 11:56:00         Борисыч     11:56:00   15:58:00      11:56:57   \n\n  interval_to    duration device                      click_to    city  \\\n0    12:35:42   38.750000     ПК  «Python-разработчик» в 12:35  Липецк   \n1    15:59:28  242.516667     ПК                                Москва   \n2    12:45:42   48.750000    моб                                Москва   \n\n             region                                      entrance_link  \\\n0  Липецкая область  https://start.bizon365.ru/room/81268/impulse_g...   \n1            Москва  https://start.bizon365.ru/room/81268/impulse_g...   \n2            Москва  https://start.bizon365.ru/room/81268/impulse_g...   \n\n               source_link           Button_Name Button_Time  \n0  https://www.google.com/  «Python-разработчик»    12:35:00  \n1                                                             \n2                                                             ",
      "text/html": "<div>\n<style scoped>\n    .dataframe tbody tr th:only-of-type {\n        vertical-align: middle;\n    }\n\n    .dataframe tbody tr th {\n        vertical-align: top;\n    }\n\n    .dataframe thead th {\n        text-align: right;\n    }\n</style>\n<table border=\"1\" class=\"dataframe\">\n  <thead>\n    <tr style=\"text-align: right;\">\n      <th></th>\n      <th>date</th>\n      <th>name</th>\n      <th>webinar_from</th>\n      <th>webinar_to</th>\n      <th>interval_from</th>\n      <th>interval_to</th>\n      <th>duration</th>\n      <th>device</th>\n      <th>click_to</th>\n      <th>city</th>\n      <th>region</th>\n      <th>entrance_link</th>\n      <th>source_link</th>\n      <th>Button_Name</th>\n      <th>Button_Time</th>\n    </tr>\n  </thead>\n  <tbody>\n    <tr>\n      <th>0</th>\n      <td>2023-01-14 11:56:00</td>\n      <td>Коротаев Павел</td>\n      <td>11:56:00</td>\n      <td>12:35:00</td>\n      <td>11:56:57</td>\n      <td>12:35:42</td>\n      <td>38.750000</td>\n      <td>ПК</td>\n      <td>«Python-разработчик» в 12:35</td>\n      <td>Липецк</td>\n      <td>Липецкая область</td>\n      <td>https://start.bizon365.ru/room/81268/impulse_g...</td>\n      <td>https://www.google.com/</td>\n      <td>«Python-разработчик»</td>\n      <td>12:35:00</td>\n    </tr>\n    <tr>\n      <th>1</th>\n      <td>2023-01-14 11:56:00</td>\n      <td>Роман Орлов</td>\n      <td>11:56:00</td>\n      <td>15:59:00</td>\n      <td>11:56:57</td>\n      <td>15:59:28</td>\n      <td>242.516667</td>\n      <td>ПК</td>\n      <td></td>\n      <td>Москва</td>\n      <td>Москва</td>\n      <td>https://start.bizon365.ru/room/81268/impulse_g...</td>\n      <td></td>\n      <td></td>\n      <td></td>\n    </tr>\n    <tr>\n      <th>2</th>\n      <td>2023-01-14 11:56:00</td>\n      <td>Борисыч</td>\n      <td>11:56:00</td>\n      <td>15:58:00</td>\n      <td>11:56:57</td>\n      <td>12:45:42</td>\n      <td>48.750000</td>\n      <td>моб</td>\n      <td></td>\n      <td>Москва</td>\n      <td>Москва</td>\n      <td>https://start.bizon365.ru/room/81268/impulse_g...</td>\n      <td></td>\n      <td></td>\n      <td></td>\n    </tr>\n  </tbody>\n</table>\n</div>"
     },
     "execution_count": 158,
     "metadata": {},
     "output_type": "execute_result"
    }
   ],
   "source": [
    "current.head(3)"
   ],
   "metadata": {
    "collapsed": false
   }
  },
  {
   "cell_type": "code",
   "execution_count": 199,
   "outputs": [
    {
     "data": {
      "text/plain": "<IPython.core.display.HTML object>",
      "text/html": "<div style=\"display:flex;flex-direction:row;justify-content:space-between;\">\n                <pre style=\"width: 100%; white-space: pre-wrap;\" id=\"90897209-7b86-459a-8df1-0e747c6cb890\">\nlag = 5\ncurrent.loc[(current['webinar_from'] > '11:56:00') & (current['webinar_to'] < '11:57:00') & (current['duration'] > lag), 'name']\n</pre>\n                <button style=\"height: fit-content;\" onclick=\"navigator.clipboard.writeText(JSON.parse(atob(`IlxubGFnID0gNVxuY3VycmVudC5sb2NbKGN1cnJlbnRbJ3dlYmluYXJfZnJvbSddID4gJzExOjU2OjAwJykgJiAoY3VycmVudFsnd2ViaW5hcl90byddIDwgJzExOjU3OjAwJykgJiAoY3VycmVudFsnZHVyYXRpb24nXSA+IGxhZyksICduYW1lJ11cbiI=`)))\">Copy</button>\n                </div>"
     },
     "metadata": {},
     "output_type": "display_data"
    }
   ],
   "source": [
    "current.sketch.howto(\"loc 'name' if 'webinar_from'>11:56:00 and 'webinar_to'<11:57:00 and 'duration'>'lag'\")"
   ],
   "metadata": {
    "collapsed": false
   }
  },
  {
   "cell_type": "code",
   "execution_count": 198,
   "outputs": [
    {
     "name": "stdout",
     "output_type": "stream",
     "text": [
      "[datetime.time(11, 56), datetime.time(11, 57)]\n",
      "                    date              name webinar_from webinar_to  \\\n",
      "0    2023-01-14 11:56:00    Коротаев Павел     11:56:00   12:35:00   \n",
      "1    2023-01-14 11:56:00       Роман Орлов     11:56:00   15:59:00   \n",
      "2    2023-01-14 11:56:00           Борисыч     11:56:00   15:58:00   \n",
      "3    2023-01-14 11:56:00           Борисыч     11:56:00   15:58:00   \n",
      "4    2023-01-14 11:56:00           Борисыч     11:56:00   15:58:00   \n",
      "...                  ...               ...          ...        ...   \n",
      "1598 2023-01-14 11:56:00              Саид     11:57:00   12:15:00   \n",
      "1599 2023-01-14 11:56:00              Саид     11:57:00   12:15:00   \n",
      "1601 2023-01-14 11:56:00  Копаев Станислав     11:57:00   12:23:00   \n",
      "1602 2023-01-14 11:56:00           Дмитрий     11:57:00   15:30:00   \n",
      "1603 2023-01-14 11:56:00           Дмитрий     11:57:00   15:30:00   \n",
      "\n",
      "     interval_from interval_to    duration device  \\\n",
      "0         11:56:57    12:35:42   38.750000     ПК   \n",
      "1         11:56:57    15:59:28  242.516667     ПК   \n",
      "2         11:56:57    12:45:42   48.750000    моб   \n",
      "3         12:47:52    12:47:57    0.083333    моб   \n",
      "4         12:50:47    12:50:52    0.083333    моб   \n",
      "...            ...         ...         ...    ...   \n",
      "1598      11:57:57    12:02:32    4.583333     ПК   \n",
      "1599      12:14:17    12:15:27    1.166667     ПК   \n",
      "1601      11:57:57    12:23:27   25.500000    моб   \n",
      "1602      11:57:57    12:38:02   40.083333     ПК   \n",
      "1603      13:56:32    15:30:03   93.516667     ПК   \n",
      "\n",
      "                          click_to     city               region  \\\n",
      "0     «Python-разработчик» в 12:35   Липецк     Липецкая область   \n",
      "1                                    Москва               Москва   \n",
      "2                                    Москва               Москва   \n",
      "3                                    Москва               Москва   \n",
      "4                                    Москва               Москва   \n",
      "...                            ...      ...                  ...   \n",
      "1598                                Ташкент              Ташкент   \n",
      "1599                                Ташкент              Ташкент   \n",
      "1601                                 Москва               Москва   \n",
      "1602          «Маркетолог» в 12:37   Гродно  Гродненская область   \n",
      "1603          «Маркетолог» в 12:37   Гродно  Гродненская область   \n",
      "\n",
      "                                          entrance_link  \\\n",
      "0     https://start.bizon365.ru/room/81268/impulse_g...   \n",
      "1     https://start.bizon365.ru/room/81268/impulse_g...   \n",
      "2     https://start.bizon365.ru/room/81268/impulse_g...   \n",
      "3     https://start.bizon365.ru/room/81268/impulse_g...   \n",
      "4     https://start.bizon365.ru/room/81268/impulse_g...   \n",
      "...                                                 ...   \n",
      "1598  https://start.bizon365.ru/room/81268/impulse_g...   \n",
      "1599  https://start.bizon365.ru/room/81268/impulse_g...   \n",
      "1601  https://start.bizon365.ru/room/81268/impulse_g...   \n",
      "1602  https://start.bizon365.ru/room/81268/impulse_g...   \n",
      "1603  https://start.bizon365.ru/room/81268/impulse_g...   \n",
      "\n",
      "                  source_link           Button_Name Button_Time  \n",
      "0     https://www.google.com/  «Python-разработчик»    12:35:00  \n",
      "1                                                                \n",
      "2                                                                \n",
      "3                                                                \n",
      "4                                                                \n",
      "...                       ...                   ...         ...  \n",
      "1598                                                             \n",
      "1599                                                             \n",
      "1601                                                             \n",
      "1602                                   «Маркетолог»    12:37:00  \n",
      "1603                                   «Маркетолог»    12:37:00  \n",
      "\n",
      "[1535 rows x 15 columns]\n"
     ]
    }
   ],
   "source": [
    "\n",
    "lag = 0\n",
    "\n",
    "# Count the number of rows where webinar_from is greater than 11:56:00, webinar_to is less than 11:57:00, and duration is greater than lag\n",
    "print([webinar_range[0], webinar_range[1]])\n",
    "print(current[(current['webinar_from'] >= webinar_range[0]) &\n",
    "              (current['webinar_from'] <= webinar_range[1])])\n"
   ],
   "metadata": {
    "collapsed": false
   }
  },
  {
   "cell_type": "code",
   "execution_count": 224,
   "outputs": [
    {
     "data": {
      "text/plain": "218"
     },
     "execution_count": 224,
     "metadata": {},
     "output_type": "execute_result"
    }
   ],
   "source": [
    "lag = 3\n",
    "current.loc[(current['interval_from'] >= webinar_range[0]) &\n",
    "            (current['interval_from'] <= webinar_range[1]) &\n",
    "            (current['duration'] >= lag)].reset_index()['name'].nunique()\n"
   ],
   "metadata": {
    "collapsed": false
   }
  },
  {
   "cell_type": "code",
   "execution_count": null,
   "outputs": [],
   "source": [],
   "metadata": {
    "collapsed": false
   }
  },
  {
   "cell_type": "code",
   "execution_count": null,
   "outputs": [],
   "source": [],
   "metadata": {
    "collapsed": false
   }
  },
  {
   "cell_type": "code",
   "execution_count": null,
   "outputs": [],
   "source": [],
   "metadata": {
    "collapsed": false
   }
  }
 ],
 "metadata": {
  "kernelspec": {
   "display_name": "Python 3",
   "language": "python",
   "name": "python3"
  },
  "language_info": {
   "codemirror_mode": {
    "name": "ipython",
    "version": 2
   },
   "file_extension": ".py",
   "mimetype": "text/x-python",
   "name": "python",
   "nbconvert_exporter": "python",
   "pygments_lexer": "ipython2",
   "version": "2.7.6"
  }
 },
 "nbformat": 4,
 "nbformat_minor": 0
}
