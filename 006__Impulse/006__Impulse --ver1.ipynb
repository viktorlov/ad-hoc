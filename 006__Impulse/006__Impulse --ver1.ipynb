{
 "cells": [
  {
   "cell_type": "code",
   "execution_count": 1,
   "metadata": {
    "collapsed": true
   },
   "outputs": [],
   "source": [
    "import pandas as pd"
   ]
  },
  {
   "cell_type": "code",
   "execution_count": 2,
   "outputs": [],
   "source": [
    "df_raw = pd.read_excel('006__Impulse dataset.xlsx', None)\n",
    "\n",
    "try:\n",
    "    df.drop(df.index, inplace=True)\n",
    "except NameError:\n",
    "    pass"
   ],
   "metadata": {
    "collapsed": false
   }
  },
  {
   "cell_type": "code",
   "execution_count": 3,
   "outputs": [
    {
     "name": "stdout",
     "output_type": "stream",
     "text": [
      "0 Основная комната – Зрители\n",
      "1 QA – Зрители\n",
      "2 DA – Зрители\n",
      "3 Маркетинг – зрители\n",
      "4 Дизайн – зрители\n",
      "5 Python – зрители\n",
      "6 Java – Зрители\n",
      "7 Веб – зрители\n"
     ]
    }
   ],
   "source": [
    "# список листов книги эксель\n",
    "sheets = list(df_raw.keys())\n",
    "for k, v in enumerate(sheets):\n",
    "    print(k, v)"
   ],
   "metadata": {
    "collapsed": false
   }
  },
  {
   "cell_type": "code",
   "execution_count": 4,
   "outputs": [],
   "source": [
    "# список нужных колонок листа\n",
    "columns = ['Дата', 'Имя участника',\n",
    "           'На вебинаре с', 'Досмотрел до', 'Интервалы', 'присутствия',\n",
    "           'Устройство', 'Клик по кнопке',\n",
    "           'Город', 'Регион', 'Ссылка входа', 'Переход с']"
   ],
   "metadata": {
    "collapsed": false
   }
  },
  {
   "cell_type": "code",
   "execution_count": 5,
   "outputs": [],
   "source": [
    "def dataframe_processing(_df_raw_,\n",
    "                         _sheet_index_,\n",
    "                         _columns_):\n",
    "    cdf = pd.DataFrame(_df_raw_[sheets[_sheet_index_]][_columns_])\n",
    "\n",
    "    cdf.loc[cdf['Имя участника'].notnull(), cdf.columns != 'Имя участника'] = \\\n",
    "        cdf.loc[cdf['Имя участника'].notnull(), cdf.columns != 'Имя участника'].fillna(\"____\")\n",
    "    cdf = cdf.ffill(axis=0)\n",
    "    cdf['Клик по кнопке'] = cdf['Клик по кнопке'].str.split(', ')\n",
    "    cdf = cdf.explode('Клик по кнопке')\n",
    "    cdf = cdf[cdf['На вебинаре с'] != \"____\"].dropna()\n",
    "\n",
    "    cdf[['Button_Name', 'Button_Time']] = cdf['Клик по кнопке'].str.split(' в ', expand=True)\n",
    "    cdf = cdf.replace({'____': '',\n",
    "                     None: ''})\n",
    "\n",
    "    cdf['Дата'] = pd.to_datetime(cdf['Дата'])\n",
    "\n",
    "    try:\n",
    "        cdf['На вебинаре с'] = pd.to_datetime(cdf['На вебинаре с'], format='%H:%M').dt.time\n",
    "        cdf['Досмотрел до'] = pd.to_datetime(cdf['Досмотрел до'], format='%H:%M').dt.time\n",
    "    except ValueError:\n",
    "        cdf['На вебинаре с'] = pd.to_datetime(cdf['На вебинаре с'], format='%H:%M:%S').dt.time\n",
    "        cdf['Досмотрел до'] = pd.to_datetime(cdf['Досмотрел до'], format='%H:%M:%S').dt.time\n",
    "\n",
    "    cdf['Интервалы'] = pd.to_datetime(cdf['Интервалы'], format='%H:%M:%S').dt.time\n",
    "    cdf['присутствия'] = pd.to_datetime(cdf['присутствия'], format='%H:%M:%S').dt.time\n",
    "\n",
    "    from datetime import datetime\n",
    "    cdf['Button_Time'] = cdf['Button_Time'].apply(lambda x: datetime.strptime(str(x), '%H:%M').time() if x != '' else '')\n",
    "\n",
    "    return cdf"
   ],
   "metadata": {
    "collapsed": false
   }
  },
  {
   "cell_type": "code",
   "execution_count": 6,
   "outputs": [
    {
     "data": {
      "text/plain": "                   Дата    Имя участника На вебинаре с Досмотрел до Интервалы  \\\n0   2023-01-14 12:22:00        Владислав      12:35:00     13:53:00  12:35:22   \n0   2023-01-14 12:22:00        Владислав      12:35:00     13:53:00  12:35:22   \n1   2023-01-14 12:22:00         Людмила+      12:35:00     13:23:00  12:35:27   \n2   2023-01-14 12:22:00             Юлия      12:35:00     12:47:00  12:35:27   \n3   2023-01-14 12:22:00    Андрей+Пругло      12:35:00     13:33:00  12:35:32   \n..                  ...              ...           ...          ...       ...   \n995 2023-01-14 12:22:00           Михаил      13:48:00     13:56:00  13:48:12   \n996 2023-01-14 12:22:00           Ольга+      13:49:00     13:49:00  13:49:12   \n997 2023-01-14 12:22:00            Ольга      13:49:00     13:50:00  13:49:17   \n998 2023-01-14 12:22:00  Ольга Журавлева      13:50:00     13:52:00  13:50:22   \n999 2023-01-14 12:22:00          Евгений      13:51:00     13:52:00  13:51:12   \n\n    присутствия Устройство                  Клик по кнопке            Город  \\\n0      13:53:12         ПК    «Python-разработчик» в 13:21                    \n0      13:53:12         ПК       «Главная комната» в 13:53                    \n1      13:23:12        моб                                            Томск   \n2      12:47:27        моб                                  Санкт-Петербург   \n3      12:39:02        моб                                        Краснодар   \n..          ...        ...                             ...              ...   \n995    13:56:52         ПК                                            Минск   \n996    13:49:47        моб  «Графический дизайнер» в 13:49      Новосибирск   \n997    13:50:47         ПК       «Главная комната» в 13:50                    \n998    13:52:17        моб                                           Москва   \n999    13:52:52         ПК       «Главная комната» в 13:52           Риддер   \n\n                             Регион  \\\n0                                     \n0                                     \n1                   Томская область   \n2                   Санкт-Петербург   \n3                Краснодарский край   \n..                              ...   \n995                           Минск   \n996           Новосибирская область   \n997                                   \n998                          Москва   \n999  Восточно-Казахстанская область   \n\n                                          Ссылка входа  \\\n0    https://start.bizon365.ru/room/81268/impulse_q...   \n0    https://start.bizon365.ru/room/81268/impulse_q...   \n1    https://start.bizon365.ru/room/81268/impulse_q...   \n2    https://start.bizon365.ru/room/81268/impulse_q...   \n3    https://start.bizon365.ru/room/81268/impulse_q...   \n..                                                 ...   \n995  https://start.bizon365.ru/room/81268/impulse_q...   \n996  https://start.bizon365.ru/room/81268/impulse_q...   \n997  https://start.bizon365.ru/room/81268/impulse_q...   \n998  https://start.bizon365.ru/room/81268/impulse_q...   \n999  https://start.bizon365.ru/room/81268/impulse_q...   \n\n                                             Переход с  \\\n0    https://start.bizon365.ru/room/81268/impulse_g...   \n0    https://start.bizon365.ru/room/81268/impulse_g...   \n1    https://start.bizon365.ru/room/81268/impulse_g...   \n2    https://start.bizon365.ru/room/81268/impulse_g...   \n3    https://start.bizon365.ru/room/81268/impulse_g...   \n..                                                 ...   \n995                                                      \n996  https://start.bizon365.ru/room/81268/impulse_g...   \n997  https://start.bizon365.ru/room/81268/impulse_d...   \n998  https://start.bizon365.ru/room/81268/impulse_d...   \n999  https://start.bizon365.ru/room/81268/impulse_g...   \n\n                Button_Name Button_Time  \n0      «Python-разработчик»    13:21:00  \n0         «Главная комната»    13:53:00  \n1                                        \n2                                        \n3                                        \n..                      ...         ...  \n995                                      \n996  «Графический дизайнер»    13:49:00  \n997       «Главная комната»    13:50:00  \n998                                      \n999       «Главная комната»    13:52:00  \n\n[1749 rows x 14 columns]",
      "text/html": "<div>\n<style scoped>\n    .dataframe tbody tr th:only-of-type {\n        vertical-align: middle;\n    }\n\n    .dataframe tbody tr th {\n        vertical-align: top;\n    }\n\n    .dataframe thead th {\n        text-align: right;\n    }\n</style>\n<table border=\"1\" class=\"dataframe\">\n  <thead>\n    <tr style=\"text-align: right;\">\n      <th></th>\n      <th>Дата</th>\n      <th>Имя участника</th>\n      <th>На вебинаре с</th>\n      <th>Досмотрел до</th>\n      <th>Интервалы</th>\n      <th>присутствия</th>\n      <th>Устройство</th>\n      <th>Клик по кнопке</th>\n      <th>Город</th>\n      <th>Регион</th>\n      <th>Ссылка входа</th>\n      <th>Переход с</th>\n      <th>Button_Name</th>\n      <th>Button_Time</th>\n    </tr>\n  </thead>\n  <tbody>\n    <tr>\n      <th>0</th>\n      <td>2023-01-14 12:22:00</td>\n      <td>Владислав</td>\n      <td>12:35:00</td>\n      <td>13:53:00</td>\n      <td>12:35:22</td>\n      <td>13:53:12</td>\n      <td>ПК</td>\n      <td>«Python-разработчик» в 13:21</td>\n      <td></td>\n      <td></td>\n      <td>https://start.bizon365.ru/room/81268/impulse_q...</td>\n      <td>https://start.bizon365.ru/room/81268/impulse_g...</td>\n      <td>«Python-разработчик»</td>\n      <td>13:21:00</td>\n    </tr>\n    <tr>\n      <th>0</th>\n      <td>2023-01-14 12:22:00</td>\n      <td>Владислав</td>\n      <td>12:35:00</td>\n      <td>13:53:00</td>\n      <td>12:35:22</td>\n      <td>13:53:12</td>\n      <td>ПК</td>\n      <td>«Главная комната» в 13:53</td>\n      <td></td>\n      <td></td>\n      <td>https://start.bizon365.ru/room/81268/impulse_q...</td>\n      <td>https://start.bizon365.ru/room/81268/impulse_g...</td>\n      <td>«Главная комната»</td>\n      <td>13:53:00</td>\n    </tr>\n    <tr>\n      <th>1</th>\n      <td>2023-01-14 12:22:00</td>\n      <td>Людмила+</td>\n      <td>12:35:00</td>\n      <td>13:23:00</td>\n      <td>12:35:27</td>\n      <td>13:23:12</td>\n      <td>моб</td>\n      <td></td>\n      <td>Томск</td>\n      <td>Томская область</td>\n      <td>https://start.bizon365.ru/room/81268/impulse_q...</td>\n      <td>https://start.bizon365.ru/room/81268/impulse_g...</td>\n      <td></td>\n      <td></td>\n    </tr>\n    <tr>\n      <th>2</th>\n      <td>2023-01-14 12:22:00</td>\n      <td>Юлия</td>\n      <td>12:35:00</td>\n      <td>12:47:00</td>\n      <td>12:35:27</td>\n      <td>12:47:27</td>\n      <td>моб</td>\n      <td></td>\n      <td>Санкт-Петербург</td>\n      <td>Санкт-Петербург</td>\n      <td>https://start.bizon365.ru/room/81268/impulse_q...</td>\n      <td>https://start.bizon365.ru/room/81268/impulse_g...</td>\n      <td></td>\n      <td></td>\n    </tr>\n    <tr>\n      <th>3</th>\n      <td>2023-01-14 12:22:00</td>\n      <td>Андрей+Пругло</td>\n      <td>12:35:00</td>\n      <td>13:33:00</td>\n      <td>12:35:32</td>\n      <td>12:39:02</td>\n      <td>моб</td>\n      <td></td>\n      <td>Краснодар</td>\n      <td>Краснодарский край</td>\n      <td>https://start.bizon365.ru/room/81268/impulse_q...</td>\n      <td>https://start.bizon365.ru/room/81268/impulse_g...</td>\n      <td></td>\n      <td></td>\n    </tr>\n    <tr>\n      <th>...</th>\n      <td>...</td>\n      <td>...</td>\n      <td>...</td>\n      <td>...</td>\n      <td>...</td>\n      <td>...</td>\n      <td>...</td>\n      <td>...</td>\n      <td>...</td>\n      <td>...</td>\n      <td>...</td>\n      <td>...</td>\n      <td>...</td>\n      <td>...</td>\n    </tr>\n    <tr>\n      <th>995</th>\n      <td>2023-01-14 12:22:00</td>\n      <td>Михаил</td>\n      <td>13:48:00</td>\n      <td>13:56:00</td>\n      <td>13:48:12</td>\n      <td>13:56:52</td>\n      <td>ПК</td>\n      <td></td>\n      <td>Минск</td>\n      <td>Минск</td>\n      <td>https://start.bizon365.ru/room/81268/impulse_q...</td>\n      <td></td>\n      <td></td>\n      <td></td>\n    </tr>\n    <tr>\n      <th>996</th>\n      <td>2023-01-14 12:22:00</td>\n      <td>Ольга+</td>\n      <td>13:49:00</td>\n      <td>13:49:00</td>\n      <td>13:49:12</td>\n      <td>13:49:47</td>\n      <td>моб</td>\n      <td>«Графический дизайнер» в 13:49</td>\n      <td>Новосибирск</td>\n      <td>Новосибирская область</td>\n      <td>https://start.bizon365.ru/room/81268/impulse_q...</td>\n      <td>https://start.bizon365.ru/room/81268/impulse_g...</td>\n      <td>«Графический дизайнер»</td>\n      <td>13:49:00</td>\n    </tr>\n    <tr>\n      <th>997</th>\n      <td>2023-01-14 12:22:00</td>\n      <td>Ольга</td>\n      <td>13:49:00</td>\n      <td>13:50:00</td>\n      <td>13:49:17</td>\n      <td>13:50:47</td>\n      <td>ПК</td>\n      <td>«Главная комната» в 13:50</td>\n      <td></td>\n      <td></td>\n      <td>https://start.bizon365.ru/room/81268/impulse_q...</td>\n      <td>https://start.bizon365.ru/room/81268/impulse_d...</td>\n      <td>«Главная комната»</td>\n      <td>13:50:00</td>\n    </tr>\n    <tr>\n      <th>998</th>\n      <td>2023-01-14 12:22:00</td>\n      <td>Ольга Журавлева</td>\n      <td>13:50:00</td>\n      <td>13:52:00</td>\n      <td>13:50:22</td>\n      <td>13:52:17</td>\n      <td>моб</td>\n      <td></td>\n      <td>Москва</td>\n      <td>Москва</td>\n      <td>https://start.bizon365.ru/room/81268/impulse_q...</td>\n      <td>https://start.bizon365.ru/room/81268/impulse_d...</td>\n      <td></td>\n      <td></td>\n    </tr>\n    <tr>\n      <th>999</th>\n      <td>2023-01-14 12:22:00</td>\n      <td>Евгений</td>\n      <td>13:51:00</td>\n      <td>13:52:00</td>\n      <td>13:51:12</td>\n      <td>13:52:52</td>\n      <td>ПК</td>\n      <td>«Главная комната» в 13:52</td>\n      <td>Риддер</td>\n      <td>Восточно-Казахстанская область</td>\n      <td>https://start.bizon365.ru/room/81268/impulse_q...</td>\n      <td>https://start.bizon365.ru/room/81268/impulse_g...</td>\n      <td>«Главная комната»</td>\n      <td>13:52:00</td>\n    </tr>\n  </tbody>\n</table>\n<p>1749 rows × 14 columns</p>\n</div>"
     },
     "execution_count": 6,
     "metadata": {},
     "output_type": "execute_result"
    }
   ],
   "source": [
    "current = dataframe_processing(df_raw, 1, columns)\n",
    "current"
   ],
   "metadata": {
    "collapsed": false
   }
  },
  {
   "cell_type": "code",
   "execution_count": 6,
   "outputs": [],
   "source": [],
   "metadata": {
    "collapsed": false
   }
  }
 ],
 "metadata": {
  "kernelspec": {
   "display_name": "Python 3",
   "language": "python",
   "name": "python3"
  },
  "language_info": {
   "codemirror_mode": {
    "name": "ipython",
    "version": 2
   },
   "file_extension": ".py",
   "mimetype": "text/x-python",
   "name": "python",
   "nbconvert_exporter": "python",
   "pygments_lexer": "ipython2",
   "version": "2.7.6"
  }
 },
 "nbformat": 4,
 "nbformat_minor": 0
}
