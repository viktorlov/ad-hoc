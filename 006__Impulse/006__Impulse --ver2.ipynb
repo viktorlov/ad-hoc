{
 "cells": [
  {
   "cell_type": "code",
   "execution_count": 1,
   "metadata": {
    "collapsed": true
   },
   "outputs": [],
   "source": [
    "import pandas as pd"
   ]
  },
  {
   "cell_type": "code",
   "execution_count": 2,
   "outputs": [],
   "source": [
    "df_raw = pd.read_excel('006__Impulse dataset.xlsx', None)\n",
    "\n",
    "try:\n",
    "    df.drop(df.index, inplace=True)\n",
    "except NameError:\n",
    "    pass"
   ],
   "metadata": {
    "collapsed": false
   }
  },
  {
   "cell_type": "code",
   "execution_count": 3,
   "outputs": [
    {
     "name": "stdout",
     "output_type": "stream",
     "text": [
      "0 Основная комната – Зрители\n",
      "1 QA – Зрители\n",
      "2 DA – Зрители\n",
      "3 Маркетинг – зрители\n",
      "4 Дизайн – зрители\n",
      "5 Python – зрители\n",
      "6 Java – Зрители\n",
      "7 Веб – зрители\n"
     ]
    }
   ],
   "source": [
    "# список листов книги эксель\n",
    "sheets = list(df_raw.keys())\n",
    "for k, v in enumerate(sheets):\n",
    "    print(k, v)"
   ],
   "metadata": {
    "collapsed": false
   }
  },
  {
   "cell_type": "code",
   "execution_count": 4,
   "outputs": [],
   "source": [
    "# список нужных колонок листа\n",
    "columns = ['Дата', 'Имя участника',\n",
    "           'На вебинаре с', 'Досмотрел до', 'Интервалы', 'присутствия', 'Продолжительность',\n",
    "           'Устройство', 'Клик по кнопке',\n",
    "           'Город', 'Регион', 'Ссылка входа', 'Переход с']\n",
    "\n",
    "mapping = {'Дата': 'date',\n",
    "           'Имя участника': 'name',\n",
    "           'На вебинаре с': 'webinar_from',\n",
    "           'Досмотрел до': 'webinar_to',\n",
    "           'Интервалы': 'interval_from',\n",
    "           'присутствия': 'interval_to',\n",
    "           'Продолжительность': 'duration',\n",
    "           'Устройство': 'device',\n",
    "           'Клик по кнопке': 'click_to',\n",
    "           'Город': 'city',\n",
    "           'Регион': 'region',\n",
    "           'Ссылка входа': 'entrance_link',\n",
    "           'Переход с': 'source_link'}"
   ],
   "metadata": {
    "collapsed": false
   }
  },
  {
   "cell_type": "code",
   "execution_count": 5,
   "outputs": [],
   "source": [],
   "metadata": {
    "collapsed": false
   }
  },
  {
   "cell_type": "code",
   "execution_count": 6,
   "outputs": [],
   "source": [
    "def dataframe_processing(_df_raw_,\n",
    "                         _sheet_index_,\n",
    "                         _columns_):\n",
    "    cdf = pd.DataFrame(_df_raw_[sheets[_sheet_index_]][_columns_])\n",
    "\n",
    "    cdf = cdf.rename(columns=mapping)\n",
    "\n",
    "    import hashlib\n",
    "    import numpy as np\n",
    "\n",
    "    cdf['hash'] = np.nan\n",
    "\n",
    "    for index, row in cdf.iterrows():\n",
    "        if not pd.isnull(row['name']):\n",
    "            row_string = ''.join(str(value) for value in row.values)\n",
    "            cdf.at[index, 'hash'] = hashlib.sha256(row_string.encode('utf-8')).hexdigest()[:32]\n",
    "\n",
    "    cdf.loc[cdf['name'].notnull(), cdf.columns != 'name'] = \\\n",
    "        cdf.loc[cdf['name'].notnull(), cdf.columns != 'name'].fillna(\"__EMPTY__\")\n",
    "\n",
    "    cdf = cdf.ffill(axis=0)\n",
    "\n",
    "    cdf['click_to'] = cdf['click_to'].str.split(', ')\n",
    "    cdf = cdf.explode('click_to')\n",
    "\n",
    "    cdf = cdf[cdf['webinar_to'] != \"__EMPTY__\"].dropna()\n",
    "\n",
    "    cdf[['Button_Name', 'Button_Time']] = cdf['click_to'].str.split(' в ', expand=True)\n",
    "\n",
    "    cdf = cdf.replace({'__EMPTY__': '', None: ''})\n",
    "\n",
    "    cdf['date'] = pd.to_datetime(cdf['date'])\n",
    "\n",
    "    try:\n",
    "        cdf['webinar_from'] = pd.to_datetime(cdf['webinar_from'], format='%H:%M').dt.time\n",
    "        cdf['webinar_to'] = pd.to_datetime(cdf['webinar_to'], format='%H:%M').dt.time\n",
    "    except ValueError:\n",
    "        cdf['webinar_from'] = pd.to_datetime(cdf['webinar_from'], format='%H:%M:%S').dt.time\n",
    "        cdf['webinar_to'] = pd.to_datetime(cdf['webinar_to'], format='%H:%M:%S').dt.time\n",
    "\n",
    "    cdf['interval_from'] = pd.to_datetime(cdf['interval_from'], format='%H:%M:%S').dt.time\n",
    "    cdf['interval_to'] = pd.to_datetime(cdf['interval_to'], format='%H:%M:%S').dt.time\n",
    "\n",
    "    from datetime import datetime\n",
    "\n",
    "    cdf['Button_Time'] = cdf['Button_Time'].apply(\n",
    "        lambda x: datetime.strptime(str(x), '%H:%M').time() if x != '' else '')\n",
    "\n",
    "    return cdf"
   ],
   "metadata": {
    "collapsed": false
   }
  },
  {
   "cell_type": "code",
   "execution_count": 72,
   "outputs": [
    {
     "data": {
      "text/plain": "                    date            name webinar_from webinar_to  \\\n0    2023-01-14 11:56:00  Коротаев Павел     11:56:00   12:35:00   \n1    2023-01-14 11:56:00     Роман Орлов     11:56:00   15:59:00   \n2    2023-01-14 11:56:00         Борисыч     11:56:00   15:58:00   \n3    2023-01-14 11:56:00         Борисыч     11:56:00   15:58:00   \n4    2023-01-14 11:56:00         Борисыч     11:56:00   15:58:00   \n...                  ...             ...          ...        ...   \n5496 2023-01-14 11:56:00       Анатолий+     15:50:00   15:52:00   \n5497 2023-01-14 11:56:00          Дарья+     15:51:00   15:54:00   \n5498 2023-01-14 11:56:00           Alina     15:54:00   15:55:00   \n5499 2023-01-14 11:56:00   тест тестович     15:54:00   15:58:00   \n5500 2023-01-14 11:56:00             Ana     15:54:00   15:56:00   \n\n     interval_from interval_to    duration device  \\\n0         11:56:57    12:35:42   38.750000     ПК   \n1         11:56:57    15:59:28  242.516667     ПК   \n2         11:56:57    12:45:42   48.750000    моб   \n3         12:47:52    12:47:57    0.083333    моб   \n4         12:50:47    12:50:52    0.083333    моб   \n...            ...         ...         ...    ...   \n5496      15:50:48    15:52:23    1.583333     ПК   \n5497      15:51:18    15:54:03    2.750000    моб   \n5498      15:54:08    15:55:33    1.416667    моб   \n5499      15:54:38    15:58:48    4.166667     ПК   \n5500      15:54:43    15:56:48    2.083333    моб   \n\n                          click_to              city               region  \\\n0     «Python-разработчик» в 12:35            Липецк     Липецкая область   \n1                                             Москва               Москва   \n2                                             Москва               Москва   \n3                                             Москва               Москва   \n4                                             Москва               Москва   \n...                            ...               ...                  ...   \n5496                                Набережные Челны            Татарстан   \n5497                                         Саратов  Саратовская область   \n5498                                         Тбилиси              Тбилиси   \n5499                                          Батуми     Одесская область   \n5500                                                                        \n\n                                          entrance_link  \\\n0     https://start.bizon365.ru/room/81268/impulse_g...   \n1     https://start.bizon365.ru/room/81268/impulse_g...   \n2     https://start.bizon365.ru/room/81268/impulse_g...   \n3     https://start.bizon365.ru/room/81268/impulse_g...   \n4     https://start.bizon365.ru/room/81268/impulse_g...   \n...                                                 ...   \n5496  https://start.bizon365.ru/room/81268/impulse_g...   \n5497  https://start.bizon365.ru/room/81268/impulse_g...   \n5498  https://start.bizon365.ru/room/81268/impulse_g...   \n5499  https://start.bizon365.ru/room/81268/impulse_g...   \n5500  https://start.bizon365.ru/room/81268/impulse_g...   \n\n                  source_link                              hash  \\\n0     https://www.google.com/  85d625a5e8532ca50445b9c942cb4714   \n1                              ccf483404af198dba6fca159ad30d89d   \n2                              219062b0200f6d2c9e40884e5424ce3f   \n3                              219062b0200f6d2c9e40884e5424ce3f   \n4                              219062b0200f6d2c9e40884e5424ce3f   \n...                       ...                               ...   \n5496   https://click.mail.ru/  9dc01785eddbed990b3ed2a553746ae3   \n5497                           9eb74523f744b14954d53e51c1cd734d   \n5498                           dd1f1dae2d9edd44ba1a4ea1b9fb4cd7   \n5499                           0c535fd9b0b8972da356f4d8a726ada5   \n5500                           8339112711bf9a4b5845af568b858123   \n\n               Button_Name Button_Time  \n0     «Python-разработчик»    12:35:00  \n1                                       \n2                                       \n3                                       \n4                                       \n...                    ...         ...  \n5496                                    \n5497                                    \n5498                                    \n5499                                    \n5500                                    \n\n[7048 rows x 16 columns]",
      "text/html": "<div>\n<style scoped>\n    .dataframe tbody tr th:only-of-type {\n        vertical-align: middle;\n    }\n\n    .dataframe tbody tr th {\n        vertical-align: top;\n    }\n\n    .dataframe thead th {\n        text-align: right;\n    }\n</style>\n<table border=\"1\" class=\"dataframe\">\n  <thead>\n    <tr style=\"text-align: right;\">\n      <th></th>\n      <th>date</th>\n      <th>name</th>\n      <th>webinar_from</th>\n      <th>webinar_to</th>\n      <th>interval_from</th>\n      <th>interval_to</th>\n      <th>duration</th>\n      <th>device</th>\n      <th>click_to</th>\n      <th>city</th>\n      <th>region</th>\n      <th>entrance_link</th>\n      <th>source_link</th>\n      <th>hash</th>\n      <th>Button_Name</th>\n      <th>Button_Time</th>\n    </tr>\n  </thead>\n  <tbody>\n    <tr>\n      <th>0</th>\n      <td>2023-01-14 11:56:00</td>\n      <td>Коротаев Павел</td>\n      <td>11:56:00</td>\n      <td>12:35:00</td>\n      <td>11:56:57</td>\n      <td>12:35:42</td>\n      <td>38.750000</td>\n      <td>ПК</td>\n      <td>«Python-разработчик» в 12:35</td>\n      <td>Липецк</td>\n      <td>Липецкая область</td>\n      <td>https://start.bizon365.ru/room/81268/impulse_g...</td>\n      <td>https://www.google.com/</td>\n      <td>85d625a5e8532ca50445b9c942cb4714</td>\n      <td>«Python-разработчик»</td>\n      <td>12:35:00</td>\n    </tr>\n    <tr>\n      <th>1</th>\n      <td>2023-01-14 11:56:00</td>\n      <td>Роман Орлов</td>\n      <td>11:56:00</td>\n      <td>15:59:00</td>\n      <td>11:56:57</td>\n      <td>15:59:28</td>\n      <td>242.516667</td>\n      <td>ПК</td>\n      <td></td>\n      <td>Москва</td>\n      <td>Москва</td>\n      <td>https://start.bizon365.ru/room/81268/impulse_g...</td>\n      <td></td>\n      <td>ccf483404af198dba6fca159ad30d89d</td>\n      <td></td>\n      <td></td>\n    </tr>\n    <tr>\n      <th>2</th>\n      <td>2023-01-14 11:56:00</td>\n      <td>Борисыч</td>\n      <td>11:56:00</td>\n      <td>15:58:00</td>\n      <td>11:56:57</td>\n      <td>12:45:42</td>\n      <td>48.750000</td>\n      <td>моб</td>\n      <td></td>\n      <td>Москва</td>\n      <td>Москва</td>\n      <td>https://start.bizon365.ru/room/81268/impulse_g...</td>\n      <td></td>\n      <td>219062b0200f6d2c9e40884e5424ce3f</td>\n      <td></td>\n      <td></td>\n    </tr>\n    <tr>\n      <th>3</th>\n      <td>2023-01-14 11:56:00</td>\n      <td>Борисыч</td>\n      <td>11:56:00</td>\n      <td>15:58:00</td>\n      <td>12:47:52</td>\n      <td>12:47:57</td>\n      <td>0.083333</td>\n      <td>моб</td>\n      <td></td>\n      <td>Москва</td>\n      <td>Москва</td>\n      <td>https://start.bizon365.ru/room/81268/impulse_g...</td>\n      <td></td>\n      <td>219062b0200f6d2c9e40884e5424ce3f</td>\n      <td></td>\n      <td></td>\n    </tr>\n    <tr>\n      <th>4</th>\n      <td>2023-01-14 11:56:00</td>\n      <td>Борисыч</td>\n      <td>11:56:00</td>\n      <td>15:58:00</td>\n      <td>12:50:47</td>\n      <td>12:50:52</td>\n      <td>0.083333</td>\n      <td>моб</td>\n      <td></td>\n      <td>Москва</td>\n      <td>Москва</td>\n      <td>https://start.bizon365.ru/room/81268/impulse_g...</td>\n      <td></td>\n      <td>219062b0200f6d2c9e40884e5424ce3f</td>\n      <td></td>\n      <td></td>\n    </tr>\n    <tr>\n      <th>...</th>\n      <td>...</td>\n      <td>...</td>\n      <td>...</td>\n      <td>...</td>\n      <td>...</td>\n      <td>...</td>\n      <td>...</td>\n      <td>...</td>\n      <td>...</td>\n      <td>...</td>\n      <td>...</td>\n      <td>...</td>\n      <td>...</td>\n      <td>...</td>\n      <td>...</td>\n      <td>...</td>\n    </tr>\n    <tr>\n      <th>5496</th>\n      <td>2023-01-14 11:56:00</td>\n      <td>Анатолий+</td>\n      <td>15:50:00</td>\n      <td>15:52:00</td>\n      <td>15:50:48</td>\n      <td>15:52:23</td>\n      <td>1.583333</td>\n      <td>ПК</td>\n      <td></td>\n      <td>Набережные Челны</td>\n      <td>Татарстан</td>\n      <td>https://start.bizon365.ru/room/81268/impulse_g...</td>\n      <td>https://click.mail.ru/</td>\n      <td>9dc01785eddbed990b3ed2a553746ae3</td>\n      <td></td>\n      <td></td>\n    </tr>\n    <tr>\n      <th>5497</th>\n      <td>2023-01-14 11:56:00</td>\n      <td>Дарья+</td>\n      <td>15:51:00</td>\n      <td>15:54:00</td>\n      <td>15:51:18</td>\n      <td>15:54:03</td>\n      <td>2.750000</td>\n      <td>моб</td>\n      <td></td>\n      <td>Саратов</td>\n      <td>Саратовская область</td>\n      <td>https://start.bizon365.ru/room/81268/impulse_g...</td>\n      <td></td>\n      <td>9eb74523f744b14954d53e51c1cd734d</td>\n      <td></td>\n      <td></td>\n    </tr>\n    <tr>\n      <th>5498</th>\n      <td>2023-01-14 11:56:00</td>\n      <td>Alina</td>\n      <td>15:54:00</td>\n      <td>15:55:00</td>\n      <td>15:54:08</td>\n      <td>15:55:33</td>\n      <td>1.416667</td>\n      <td>моб</td>\n      <td></td>\n      <td>Тбилиси</td>\n      <td>Тбилиси</td>\n      <td>https://start.bizon365.ru/room/81268/impulse_g...</td>\n      <td></td>\n      <td>dd1f1dae2d9edd44ba1a4ea1b9fb4cd7</td>\n      <td></td>\n      <td></td>\n    </tr>\n    <tr>\n      <th>5499</th>\n      <td>2023-01-14 11:56:00</td>\n      <td>тест тестович</td>\n      <td>15:54:00</td>\n      <td>15:58:00</td>\n      <td>15:54:38</td>\n      <td>15:58:48</td>\n      <td>4.166667</td>\n      <td>ПК</td>\n      <td></td>\n      <td>Батуми</td>\n      <td>Одесская область</td>\n      <td>https://start.bizon365.ru/room/81268/impulse_g...</td>\n      <td></td>\n      <td>0c535fd9b0b8972da356f4d8a726ada5</td>\n      <td></td>\n      <td></td>\n    </tr>\n    <tr>\n      <th>5500</th>\n      <td>2023-01-14 11:56:00</td>\n      <td>Ana</td>\n      <td>15:54:00</td>\n      <td>15:56:00</td>\n      <td>15:54:43</td>\n      <td>15:56:48</td>\n      <td>2.083333</td>\n      <td>моб</td>\n      <td></td>\n      <td></td>\n      <td></td>\n      <td>https://start.bizon365.ru/room/81268/impulse_g...</td>\n      <td></td>\n      <td>8339112711bf9a4b5845af568b858123</td>\n      <td></td>\n      <td></td>\n    </tr>\n  </tbody>\n</table>\n<p>7048 rows × 16 columns</p>\n</div>"
     },
     "execution_count": 72,
     "metadata": {},
     "output_type": "execute_result"
    }
   ],
   "source": [
    "current = dataframe_processing(df_raw, 0, columns)\n",
    "current"
   ],
   "metadata": {
    "collapsed": false
   }
  },
  {
   "cell_type": "code",
   "execution_count": 9,
   "outputs": [],
   "source": [
    "from datetime import timedelta, datetime\n",
    "\n",
    "\n",
    "def time_plus(_time_, _timedelta_):\n",
    "    start = datetime(2000, 1, 1,\n",
    "                     hour=_time_.hour,\n",
    "                     minute=_time_.minute,\n",
    "                     second=_time_.second)\n",
    "    end = start + _timedelta_\n",
    "    return end.time()\n",
    "\n",
    "\n",
    "min_webinar = time_plus(current.webinar_from.min(), timedelta(minutes=-1))\n",
    "max_webinar = time_plus(current.webinar_to.max(), timedelta(minutes=3))\n",
    "webinar_range = pd.date_range(str(min_webinar), str(max_webinar), freq=\"1min\").time"
   ],
   "metadata": {
    "collapsed": false
   }
  },
  {
   "cell_type": "code",
   "execution_count": 10,
   "outputs": [],
   "source": [
    "result = pd.DataFrame(columns=['_in_', '_out_',\n",
    "                               'qa',\n",
    "                               'da',\n",
    "                               'marketing',\n",
    "                               'design',\n",
    "                               'python',\n",
    "                               'java',\n",
    "                               'web'],\n",
    "                      index=webinar_range).reset_index()\n",
    "result = result.rename(columns={'index': 'time'})"
   ],
   "metadata": {
    "collapsed": false
   }
  },
  {
   "cell_type": "code",
   "execution_count": 11,
   "outputs": [
    {
     "data": {
      "text/plain": "         time _in_ _out_ qa   da marketing design python java  web\n0    11:55:00    0     0  0  NaN       NaN    NaN    NaN  NaN  NaN\n1    11:56:00  340     0  0  NaN       NaN    NaN    NaN  NaN  NaN\n2    11:57:00   58     0  0  NaN       NaN    NaN    NaN  NaN  NaN\n3    11:58:00   70     0  0  NaN       NaN    NaN    NaN  NaN  NaN\n4    11:59:00   79     0  0  NaN       NaN    NaN    NaN  NaN  NaN\n..        ...  ...   ... ..  ...       ...    ...    ...  ...  ...\n243  15:58:00    0    56  0  NaN       NaN    NaN    NaN  NaN  NaN\n244  15:59:00    0   215  0  NaN       NaN    NaN    NaN  NaN  NaN\n245  16:00:00    0     0  0  NaN       NaN    NaN    NaN  NaN  NaN\n246  16:01:00    0     0  0  NaN       NaN    NaN    NaN  NaN  NaN\n247  16:02:00    0     0  0  NaN       NaN    NaN    NaN  NaN  NaN\n\n[248 rows x 10 columns]",
      "text/html": "<div>\n<style scoped>\n    .dataframe tbody tr th:only-of-type {\n        vertical-align: middle;\n    }\n\n    .dataframe tbody tr th {\n        vertical-align: top;\n    }\n\n    .dataframe thead th {\n        text-align: right;\n    }\n</style>\n<table border=\"1\" class=\"dataframe\">\n  <thead>\n    <tr style=\"text-align: right;\">\n      <th></th>\n      <th>time</th>\n      <th>_in_</th>\n      <th>_out_</th>\n      <th>qa</th>\n      <th>da</th>\n      <th>marketing</th>\n      <th>design</th>\n      <th>python</th>\n      <th>java</th>\n      <th>web</th>\n    </tr>\n  </thead>\n  <tbody>\n    <tr>\n      <th>0</th>\n      <td>11:55:00</td>\n      <td>0</td>\n      <td>0</td>\n      <td>0</td>\n      <td>NaN</td>\n      <td>NaN</td>\n      <td>NaN</td>\n      <td>NaN</td>\n      <td>NaN</td>\n      <td>NaN</td>\n    </tr>\n    <tr>\n      <th>1</th>\n      <td>11:56:00</td>\n      <td>340</td>\n      <td>0</td>\n      <td>0</td>\n      <td>NaN</td>\n      <td>NaN</td>\n      <td>NaN</td>\n      <td>NaN</td>\n      <td>NaN</td>\n      <td>NaN</td>\n    </tr>\n    <tr>\n      <th>2</th>\n      <td>11:57:00</td>\n      <td>58</td>\n      <td>0</td>\n      <td>0</td>\n      <td>NaN</td>\n      <td>NaN</td>\n      <td>NaN</td>\n      <td>NaN</td>\n      <td>NaN</td>\n      <td>NaN</td>\n    </tr>\n    <tr>\n      <th>3</th>\n      <td>11:58:00</td>\n      <td>70</td>\n      <td>0</td>\n      <td>0</td>\n      <td>NaN</td>\n      <td>NaN</td>\n      <td>NaN</td>\n      <td>NaN</td>\n      <td>NaN</td>\n      <td>NaN</td>\n    </tr>\n    <tr>\n      <th>4</th>\n      <td>11:59:00</td>\n      <td>79</td>\n      <td>0</td>\n      <td>0</td>\n      <td>NaN</td>\n      <td>NaN</td>\n      <td>NaN</td>\n      <td>NaN</td>\n      <td>NaN</td>\n      <td>NaN</td>\n    </tr>\n    <tr>\n      <th>...</th>\n      <td>...</td>\n      <td>...</td>\n      <td>...</td>\n      <td>...</td>\n      <td>...</td>\n      <td>...</td>\n      <td>...</td>\n      <td>...</td>\n      <td>...</td>\n      <td>...</td>\n    </tr>\n    <tr>\n      <th>243</th>\n      <td>15:58:00</td>\n      <td>0</td>\n      <td>56</td>\n      <td>0</td>\n      <td>NaN</td>\n      <td>NaN</td>\n      <td>NaN</td>\n      <td>NaN</td>\n      <td>NaN</td>\n      <td>NaN</td>\n    </tr>\n    <tr>\n      <th>244</th>\n      <td>15:59:00</td>\n      <td>0</td>\n      <td>215</td>\n      <td>0</td>\n      <td>NaN</td>\n      <td>NaN</td>\n      <td>NaN</td>\n      <td>NaN</td>\n      <td>NaN</td>\n      <td>NaN</td>\n    </tr>\n    <tr>\n      <th>245</th>\n      <td>16:00:00</td>\n      <td>0</td>\n      <td>0</td>\n      <td>0</td>\n      <td>NaN</td>\n      <td>NaN</td>\n      <td>NaN</td>\n      <td>NaN</td>\n      <td>NaN</td>\n      <td>NaN</td>\n    </tr>\n    <tr>\n      <th>246</th>\n      <td>16:01:00</td>\n      <td>0</td>\n      <td>0</td>\n      <td>0</td>\n      <td>NaN</td>\n      <td>NaN</td>\n      <td>NaN</td>\n      <td>NaN</td>\n      <td>NaN</td>\n      <td>NaN</td>\n    </tr>\n    <tr>\n      <th>247</th>\n      <td>16:02:00</td>\n      <td>0</td>\n      <td>0</td>\n      <td>0</td>\n      <td>NaN</td>\n      <td>NaN</td>\n      <td>NaN</td>\n      <td>NaN</td>\n      <td>NaN</td>\n      <td>NaN</td>\n    </tr>\n  </tbody>\n</table>\n<p>248 rows × 10 columns</p>\n</div>"
     },
     "execution_count": 11,
     "metadata": {},
     "output_type": "execute_result"
    }
   ],
   "source": [
    "lag = 3\n",
    "\n",
    "for index, row in result.iterrows():\n",
    "    try:\n",
    "        result.at[index, '_in_'] = current.loc[(current['interval_from'] >= webinar_range[index]) &\n",
    "                                               (current['interval_from'] <= webinar_range[index + 1]) &\n",
    "                                               (current['duration'] >= lag)].reset_index()['hash'].nunique()\n",
    "\n",
    "        result.at[index, '_out_'] = current.loc[(current['interval_to'] >= webinar_range[index]) &\n",
    "                                                (current['interval_to'] <= webinar_range[index + 1]) &\n",
    "                                                (current['duration'] >= lag)].reset_index()['hash'].nunique()\n",
    "\n",
    "        result.at[index, 'qa'] = current.loc[(current['Button_Time'] == webinar_range[index]) &\n",
    "                                             (current['Button_Name'] == '«Инженер по тестированию»')].reset_index()[\n",
    "            'hash'].nunique()  #TODO учесть диапазон времён!! Посчитать без учёта диапазона, и с учётом диапазона.\n",
    "\n",
    "    except IndexError:\n",
    "        result.at[index, '_in_'] = 0\n",
    "        result.at[index, '_out_'] = 0\n",
    "        result.at[index, 'qa'] = 0\n",
    "\n",
    "result"
   ],
   "metadata": {
    "collapsed": false
   }
  },
  {
   "cell_type": "code",
   "execution_count": 11,
   "outputs": [],
   "source": [],
   "metadata": {
    "collapsed": false
   }
  },
  {
   "cell_type": "code",
   "execution_count": 70,
   "outputs": [],
   "source": [
    "# result.sketch.howto(\"\")"
   ],
   "metadata": {
    "collapsed": false
   }
  },
  {
   "cell_type": "code",
   "execution_count": 54,
   "outputs": [
    {
     "data": {
      "text/plain": "<Figure size 1400x700 with 1 Axes>",
      "image/png": "[encoded data removed]"
     },
     "metadata": {},
     "output_type": "display_data"
    }
   ],
   "source": [
    "# import matplotlib.pyplot as plt\n",
    "#\n",
    "# # Create a figure and an axes\n",
    "# fig, ax = plt.subplots(figsize=(14, 7))\n",
    "#\n",
    "# plt.style.use(style='ggplot')\n",
    "# plt.xticks([])\n",
    "#\n",
    "# # Plot the data\n",
    "# ax.bar(result['time'].astype(str), result['_in_'], label='_in_', color='green')\n",
    "# ax.bar(result['time'].astype(str), result['_out_'], label='_out_', color='red')\n",
    "#\n",
    "# # Set the x-axis label\n",
    "# ax.set_xlabel('Time')\n",
    "#\n",
    "# # Set the y-axis label\n",
    "# ax.set_ylabel('Number of visitors')\n",
    "#\n",
    "# # # Add a legend\n",
    "# # ax.legend()\n",
    "#\n",
    "# # Show the plot\n",
    "# plt.show()\n"
   ],
   "metadata": {
    "collapsed": false
   }
  },
  {
   "cell_type": "code",
   "execution_count": 68,
   "outputs": [],
   "source": [],
   "metadata": {
    "collapsed": false
   }
  },
  {
   "cell_type": "code",
   "execution_count": 59,
   "outputs": [],
   "source": [],
   "metadata": {
    "collapsed": false
   }
  },
  {
   "cell_type": "code",
   "execution_count": 60,
   "outputs": [],
   "source": [],
   "metadata": {
    "collapsed": false
   }
  },
  {
   "cell_type": "code",
   "execution_count": null,
   "outputs": [],
   "source": [],
   "metadata": {
    "collapsed": false
   }
  }
 ],
 "metadata": {
  "kernelspec": {
   "display_name": "Python 3",
   "language": "python",
   "name": "python3"
  },
  "language_info": {
   "codemirror_mode": {
    "name": "ipython",
    "version": 2
   },
   "file_extension": ".py",
   "mimetype": "text/x-python",
   "name": "python",
   "nbconvert_exporter": "python",
   "pygments_lexer": "ipython2",
   "version": "2.7.6"
  }
 },
 "nbformat": 4,
 "nbformat_minor": 0
}
