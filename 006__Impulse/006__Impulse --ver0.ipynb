{
 "cells": [
  {
   "cell_type": "code",
   "execution_count": 33,
   "metadata": {
    "collapsed": true
   },
   "outputs": [],
   "source": [
    "import pandas as pd"
   ]
  },
  {
   "cell_type": "code",
   "execution_count": 34,
   "outputs": [],
   "source": [
    "df_raw = pd.read_excel('006__Impulse dataset.xlsx', None)\n",
    "\n",
    "try:\n",
    "    df.drop(df.index, inplace=True)\n",
    "except NameError:\n",
    "    pass"
   ],
   "metadata": {
    "collapsed": false
   }
  },
  {
   "cell_type": "code",
   "execution_count": 35,
   "outputs": [
    {
     "name": "stdout",
     "output_type": "stream",
     "text": [
      "0 Основная комната – Зрители\n",
      "1 QA – Зрители\n",
      "2 DA – Зрители\n",
      "3 Маркетинг – зрители\n",
      "4 Дизайн – зрители\n",
      "5 Python – зрители\n",
      "6 Java – Зрители\n",
      "7 Веб – зрители\n"
     ]
    }
   ],
   "source": [
    "# список листов книги эксель\n",
    "sheets = list(df_raw.keys())\n",
    "for k, v in enumerate(sheets):\n",
    "    print(k,v)"
   ],
   "metadata": {
    "collapsed": false
   }
  },
  {
   "cell_type": "code",
   "execution_count": 36,
   "outputs": [],
   "source": [
    "# список нужных колонок листа\n",
    "columns = ['Дата', 'Имя участника',\n",
    "           'На вебинаре с', 'Досмотрел до', 'Интервалы', 'присутствия',\n",
    "           'Устройство', 'Клик по кнопке',\n",
    "           'Город', 'Регион',\n",
    "           'Ссылка входа', 'Переход с']"
   ],
   "metadata": {
    "collapsed": false
   }
  },
  {
   "cell_type": "code",
   "execution_count": 37,
   "outputs": [],
   "source": [
    "import sketch"
   ],
   "metadata": {
    "collapsed": false
   }
  },
  {
   "cell_type": "code",
   "execution_count": 38,
   "outputs": [],
   "source": [
    "df = pd.DataFrame(df_raw[sheets[0]][columns])"
   ],
   "metadata": {
    "collapsed": false
   }
  },
  {
   "cell_type": "code",
   "execution_count": 39,
   "outputs": [],
   "source": [
    "df.loc[df['Имя участника'].notnull(), df.columns != 'Имя участника'] = \\\n",
    "    df.loc[df['Имя участника'].notnull(), df.columns != 'Имя участника'].fillna(\"____\")\n",
    "df = df.ffill(axis=0)\n",
    "df['Клик по кнопке'] = df['Клик по кнопке'].str.split(', ')\n",
    "df = df.explode('Клик по кнопке')\n",
    "df = df[df['На вебинаре с'] != \"____\"].dropna()\n",
    "\n",
    "df[['Button_Name', 'Button_Time']] = df['Клик по кнопке'].str.split(' в ', expand=True)\n",
    "df = df.replace({'____': '',\n",
    "                 None: ''})\n",
    "\n",
    "df['Дата'] = pd.to_datetime(df['Дата'])\n",
    "\n",
    "try:\n",
    "    df['На вебинаре с'] = pd.to_datetime(df['На вебинаре с'], format='%H:%M').dt.time\n",
    "    df['Досмотрел до'] = pd.to_datetime(df['Досмотрел до'], format='%H:%M').dt.time\n",
    "except ValueError:\n",
    "    df['На вебинаре с'] = pd.to_datetime(df['На вебинаре с'], format='%H:%M:%S').dt.time\n",
    "    df['Досмотрел до'] = pd.to_datetime(df['Досмотрел до'], format='%H:%M:%S').dt.time\n",
    "\n",
    "df['Интервалы'] = pd.to_datetime(df['Интервалы'], format='%H:%M:%S').dt.time\n",
    "df['присутствия'] = pd.to_datetime(df['присутствия'], format='%H:%M:%S').dt.time\n",
    "\n",
    "from datetime import datetime\n",
    "df['Button_Time'] = df['Button_Time'].apply(lambda x: datetime.strptime(str(x), '%H:%M').time() if x != '' else '')"
   ],
   "metadata": {
    "collapsed": false
   }
  },
  {
   "cell_type": "code",
   "execution_count": 40,
   "outputs": [
    {
     "data": {
      "text/plain": "                    Дата   Имя участника На вебинаре с Досмотрел до Интервалы  \\\n0    2023-01-14 11:56:00  Коротаев Павел      11:56:00     12:35:00  11:56:57   \n1    2023-01-14 11:56:00     Роман Орлов      11:56:00     15:59:00  11:56:57   \n2    2023-01-14 11:56:00         Борисыч      11:56:00     15:58:00  11:56:57   \n3    2023-01-14 11:56:00         Борисыч      11:56:00     15:58:00  12:47:52   \n4    2023-01-14 11:56:00         Борисыч      11:56:00     15:58:00  12:50:47   \n...                  ...             ...           ...          ...       ...   \n5497 2023-01-14 11:56:00       Анатолий+      15:50:00     15:52:00  15:50:48   \n5498 2023-01-14 11:56:00          Дарья+      15:51:00     15:54:00  15:51:18   \n5499 2023-01-14 11:56:00           Alina      15:54:00     15:55:00  15:54:08   \n5500 2023-01-14 11:56:00   тест тестович      15:54:00     15:58:00  15:54:38   \n5501 2023-01-14 11:56:00             Ana      15:54:00     15:56:00  15:54:43   \n\n     присутствия Устройство                Клик по кнопке             Город  \\\n0       12:35:42         ПК  «Python-разработчик» в 12:35            Липецк   \n1       15:59:28         ПК                                          Москва   \n2       12:45:42        моб                                          Москва   \n3       12:47:57        моб                                          Москва   \n4       12:50:52        моб                                          Москва   \n...          ...        ...                           ...               ...   \n5497    15:52:23         ПК                                Набережные Челны   \n5498    15:54:03        моб                                         Саратов   \n5499    15:55:33        моб                                         Тбилиси   \n5500    15:58:48         ПК                                          Батуми   \n5501    15:56:48        моб                                                   \n\n                   Регион                                       Ссылка входа  \\\n0        Липецкая область  https://start.bizon365.ru/room/81268/impulse_g...   \n1                  Москва  https://start.bizon365.ru/room/81268/impulse_g...   \n2                  Москва  https://start.bizon365.ru/room/81268/impulse_g...   \n3                  Москва  https://start.bizon365.ru/room/81268/impulse_g...   \n4                  Москва  https://start.bizon365.ru/room/81268/impulse_g...   \n...                   ...                                                ...   \n5497            Татарстан  https://start.bizon365.ru/room/81268/impulse_g...   \n5498  Саратовская область  https://start.bizon365.ru/room/81268/impulse_g...   \n5499              Тбилиси  https://start.bizon365.ru/room/81268/impulse_g...   \n5500     Одесская область  https://start.bizon365.ru/room/81268/impulse_g...   \n5501                       https://start.bizon365.ru/room/81268/impulse_g...   \n\n                    Переход с           Button_Name Button_Time  \n0     https://www.google.com/  «Python-разработчик»    12:35:00  \n1                                                                \n2                                                                \n3                                                                \n4                                                                \n...                       ...                   ...         ...  \n5497   https://click.mail.ru/                                    \n5498                                                             \n5499                                                             \n5500                                                             \n5501                                                             \n\n[7048 rows x 14 columns]",
      "text/html": "<div>\n<style scoped>\n    .dataframe tbody tr th:only-of-type {\n        vertical-align: middle;\n    }\n\n    .dataframe tbody tr th {\n        vertical-align: top;\n    }\n\n    .dataframe thead th {\n        text-align: right;\n    }\n</style>\n<table border=\"1\" class=\"dataframe\">\n  <thead>\n    <tr style=\"text-align: right;\">\n      <th></th>\n      <th>Дата</th>\n      <th>Имя участника</th>\n      <th>На вебинаре с</th>\n      <th>Досмотрел до</th>\n      <th>Интервалы</th>\n      <th>присутствия</th>\n      <th>Устройство</th>\n      <th>Клик по кнопке</th>\n      <th>Город</th>\n      <th>Регион</th>\n      <th>Ссылка входа</th>\n      <th>Переход с</th>\n      <th>Button_Name</th>\n      <th>Button_Time</th>\n    </tr>\n  </thead>\n  <tbody>\n    <tr>\n      <th>0</th>\n      <td>2023-01-14 11:56:00</td>\n      <td>Коротаев Павел</td>\n      <td>11:56:00</td>\n      <td>12:35:00</td>\n      <td>11:56:57</td>\n      <td>12:35:42</td>\n      <td>ПК</td>\n      <td>«Python-разработчик» в 12:35</td>\n      <td>Липецк</td>\n      <td>Липецкая область</td>\n      <td>https://start.bizon365.ru/room/81268/impulse_g...</td>\n      <td>https://www.google.com/</td>\n      <td>«Python-разработчик»</td>\n      <td>12:35:00</td>\n    </tr>\n    <tr>\n      <th>1</th>\n      <td>2023-01-14 11:56:00</td>\n      <td>Роман Орлов</td>\n      <td>11:56:00</td>\n      <td>15:59:00</td>\n      <td>11:56:57</td>\n      <td>15:59:28</td>\n      <td>ПК</td>\n      <td></td>\n      <td>Москва</td>\n      <td>Москва</td>\n      <td>https://start.bizon365.ru/room/81268/impulse_g...</td>\n      <td></td>\n      <td></td>\n      <td></td>\n    </tr>\n    <tr>\n      <th>2</th>\n      <td>2023-01-14 11:56:00</td>\n      <td>Борисыч</td>\n      <td>11:56:00</td>\n      <td>15:58:00</td>\n      <td>11:56:57</td>\n      <td>12:45:42</td>\n      <td>моб</td>\n      <td></td>\n      <td>Москва</td>\n      <td>Москва</td>\n      <td>https://start.bizon365.ru/room/81268/impulse_g...</td>\n      <td></td>\n      <td></td>\n      <td></td>\n    </tr>\n    <tr>\n      <th>3</th>\n      <td>2023-01-14 11:56:00</td>\n      <td>Борисыч</td>\n      <td>11:56:00</td>\n      <td>15:58:00</td>\n      <td>12:47:52</td>\n      <td>12:47:57</td>\n      <td>моб</td>\n      <td></td>\n      <td>Москва</td>\n      <td>Москва</td>\n      <td>https://start.bizon365.ru/room/81268/impulse_g...</td>\n      <td></td>\n      <td></td>\n      <td></td>\n    </tr>\n    <tr>\n      <th>4</th>\n      <td>2023-01-14 11:56:00</td>\n      <td>Борисыч</td>\n      <td>11:56:00</td>\n      <td>15:58:00</td>\n      <td>12:50:47</td>\n      <td>12:50:52</td>\n      <td>моб</td>\n      <td></td>\n      <td>Москва</td>\n      <td>Москва</td>\n      <td>https://start.bizon365.ru/room/81268/impulse_g...</td>\n      <td></td>\n      <td></td>\n      <td></td>\n    </tr>\n    <tr>\n      <th>...</th>\n      <td>...</td>\n      <td>...</td>\n      <td>...</td>\n      <td>...</td>\n      <td>...</td>\n      <td>...</td>\n      <td>...</td>\n      <td>...</td>\n      <td>...</td>\n      <td>...</td>\n      <td>...</td>\n      <td>...</td>\n      <td>...</td>\n      <td>...</td>\n    </tr>\n    <tr>\n      <th>5497</th>\n      <td>2023-01-14 11:56:00</td>\n      <td>Анатолий+</td>\n      <td>15:50:00</td>\n      <td>15:52:00</td>\n      <td>15:50:48</td>\n      <td>15:52:23</td>\n      <td>ПК</td>\n      <td></td>\n      <td>Набережные Челны</td>\n      <td>Татарстан</td>\n      <td>https://start.bizon365.ru/room/81268/impulse_g...</td>\n      <td>https://click.mail.ru/</td>\n      <td></td>\n      <td></td>\n    </tr>\n    <tr>\n      <th>5498</th>\n      <td>2023-01-14 11:56:00</td>\n      <td>Дарья+</td>\n      <td>15:51:00</td>\n      <td>15:54:00</td>\n      <td>15:51:18</td>\n      <td>15:54:03</td>\n      <td>моб</td>\n      <td></td>\n      <td>Саратов</td>\n      <td>Саратовская область</td>\n      <td>https://start.bizon365.ru/room/81268/impulse_g...</td>\n      <td></td>\n      <td></td>\n      <td></td>\n    </tr>\n    <tr>\n      <th>5499</th>\n      <td>2023-01-14 11:56:00</td>\n      <td>Alina</td>\n      <td>15:54:00</td>\n      <td>15:55:00</td>\n      <td>15:54:08</td>\n      <td>15:55:33</td>\n      <td>моб</td>\n      <td></td>\n      <td>Тбилиси</td>\n      <td>Тбилиси</td>\n      <td>https://start.bizon365.ru/room/81268/impulse_g...</td>\n      <td></td>\n      <td></td>\n      <td></td>\n    </tr>\n    <tr>\n      <th>5500</th>\n      <td>2023-01-14 11:56:00</td>\n      <td>тест тестович</td>\n      <td>15:54:00</td>\n      <td>15:58:00</td>\n      <td>15:54:38</td>\n      <td>15:58:48</td>\n      <td>ПК</td>\n      <td></td>\n      <td>Батуми</td>\n      <td>Одесская область</td>\n      <td>https://start.bizon365.ru/room/81268/impulse_g...</td>\n      <td></td>\n      <td></td>\n      <td></td>\n    </tr>\n    <tr>\n      <th>5501</th>\n      <td>2023-01-14 11:56:00</td>\n      <td>Ana</td>\n      <td>15:54:00</td>\n      <td>15:56:00</td>\n      <td>15:54:43</td>\n      <td>15:56:48</td>\n      <td>моб</td>\n      <td></td>\n      <td></td>\n      <td></td>\n      <td>https://start.bizon365.ru/room/81268/impulse_g...</td>\n      <td></td>\n      <td></td>\n      <td></td>\n    </tr>\n  </tbody>\n</table>\n<p>7048 rows × 14 columns</p>\n</div>"
     },
     "execution_count": 40,
     "metadata": {},
     "output_type": "execute_result"
    }
   ],
   "source": [
    "df"
   ],
   "metadata": {
    "collapsed": false
   }
  },
  {
   "cell_type": "code",
   "execution_count": 40,
   "outputs": [],
   "source": [],
   "metadata": {
    "collapsed": false
   }
  }
 ],
 "metadata": {
  "kernelspec": {
   "display_name": "Python 3",
   "language": "python",
   "name": "python3"
  },
  "language_info": {
   "codemirror_mode": {
    "name": "ipython",
    "version": 2
   },
   "file_extension": ".py",
   "mimetype": "text/x-python",
   "name": "python",
   "nbconvert_exporter": "python",
   "pygments_lexer": "ipython2",
   "version": "2.7.6"
  }
 },
 "nbformat": 4,
 "nbformat_minor": 0
}
