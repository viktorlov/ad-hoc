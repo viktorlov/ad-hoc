{
 "cells": [
  {
   "cell_type": "code",
   "execution_count": 54,
   "metadata": {
    "collapsed": true
   },
   "outputs": [],
   "source": [
    "import pandas as pd"
   ]
  },
  {
   "cell_type": "code",
   "execution_count": 55,
   "outputs": [],
   "source": [
    "df = pd.read_csv('list_services.csv', usecols=['services'])"
   ],
   "metadata": {
    "collapsed": false
   }
  },
  {
   "cell_type": "code",
   "execution_count": 56,
   "outputs": [
    {
     "data": {
      "text/plain": "                                              services  \\\n161  [{'id': 10922882, 'title': 'Моделирование лица...   \n130                                                 []   \n67   [{'id': 10922851, 'title': 'Альгинатная маска'...   \n\n                                titles  \n161  Моделирование лица и тела/120 мин  \n130                                     \n67                   Альгинатная маска  ",
      "text/html": "<div>\n<style scoped>\n    .dataframe tbody tr th:only-of-type {\n        vertical-align: middle;\n    }\n\n    .dataframe tbody tr th {\n        vertical-align: top;\n    }\n\n    .dataframe thead th {\n        text-align: right;\n    }\n</style>\n<table border=\"1\" class=\"dataframe\">\n  <thead>\n    <tr style=\"text-align: right;\">\n      <th></th>\n      <th>services</th>\n      <th>titles</th>\n    </tr>\n  </thead>\n  <tbody>\n    <tr>\n      <th>161</th>\n      <td>[{'id': 10922882, 'title': 'Моделирование лица...</td>\n      <td>Моделирование лица и тела/120 мин</td>\n    </tr>\n    <tr>\n      <th>130</th>\n      <td>[]</td>\n      <td></td>\n    </tr>\n    <tr>\n      <th>67</th>\n      <td>[{'id': 10922851, 'title': 'Альгинатная маска'...</td>\n      <td>Альгинатная маска</td>\n    </tr>\n  </tbody>\n</table>\n</div>"
     },
     "execution_count": 56,
     "metadata": {},
     "output_type": "execute_result"
    }
   ],
   "source": [
    "FX = lambda row_: row_[row_.find('title')+9:row_.find('cost')-4]\n",
    "df['titles'] = df.services.apply(FX)\n",
    "df.sample(3)"
   ],
   "metadata": {
    "collapsed": false
   }
  },
  {
   "cell_type": "code",
   "execution_count": 57,
   "outputs": [
    {
     "data": {
      "text/plain": "titles\nМоделирование лица и тела/120 мин                                            44\nРучной лифтинг лица/60 мин                                                   25\nРучной лифтинг лица+коррекция осанки/90 мин                                  22\nАльгинатная маска                                                            11\nПервый визит: диагностика + моделирование лицо/тело (одна зона) / 30 мин.    11\nМоделирование тела/60 мин                                                     7\nКоррекция осанки/40 мин                                                       3\nРучной лифтинг лица/90 мин                                                    3\nМужская Коррекция осанки/40 мин                                               2\nМужское Моделирование лица и тела/120 мин                                     2\nЧёткий контур + Буккальная техника/60 мин                                     2\nМоделирование тела/90 мин                                                     1\nУслуга                                                                        1\nштраф 500 р                                                                   1\nName: titles, dtype: int64"
     },
     "execution_count": 57,
     "metadata": {},
     "output_type": "execute_result"
    }
   ],
   "source": [
    "df = df.loc[df.services != '[]']\n",
    "df.groupby('titles')['titles'].count().sort_values(ascending=False)"
   ],
   "metadata": {
    "collapsed": false
   }
  }
 ],
 "metadata": {
  "kernelspec": {
   "display_name": "Python 3",
   "language": "python",
   "name": "python3"
  },
  "language_info": {
   "codemirror_mode": {
    "name": "ipython",
    "version": 2
   },
   "file_extension": ".py",
   "mimetype": "text/x-python",
   "name": "python",
   "nbconvert_exporter": "python",
   "pygments_lexer": "ipython2",
   "version": "2.7.6"
  }
 },
 "nbformat": 4,
 "nbformat_minor": 0
}
