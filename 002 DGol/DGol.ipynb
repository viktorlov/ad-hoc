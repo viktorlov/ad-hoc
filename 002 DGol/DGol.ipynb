{
 "cells": [
  {
   "cell_type": "code",
   "execution_count": 1,
   "metadata": {
    "collapsed": true
   },
   "outputs": [],
   "source": [
    "import pandas as pd"
   ]
  },
  {
   "cell_type": "code",
   "execution_count": 2,
   "metadata": {
    "collapsed": false
   },
   "outputs": [],
   "source": [
    "df = pd.read_csv('list_services.csv', usecols=['services'])"
   ]
  },
  {
   "cell_type": "code",
   "execution_count": 3,
   "metadata": {
    "collapsed": false
   },
   "outputs": [
    {
     "data": {
      "text/html": [
       "<div>\n",
       "<style scoped>\n",
       "    .dataframe tbody tr th:only-of-type {\n",
       "        vertical-align: middle;\n",
       "    }\n",
       "\n",
       "    .dataframe tbody tr th {\n",
       "        vertical-align: top;\n",
       "    }\n",
       "\n",
       "    .dataframe thead th {\n",
       "        text-align: right;\n",
       "    }\n",
       "</style>\n",
       "<table border=\"1\" class=\"dataframe\">\n",
       "  <thead>\n",
       "    <tr style=\"text-align: right;\">\n",
       "      <th></th>\n",
       "      <th>services</th>\n",
       "      <th>titles</th>\n",
       "    </tr>\n",
       "  </thead>\n",
       "  <tbody>\n",
       "    <tr>\n",
       "      <th>161</th>\n",
       "      <td>[{'id': 10922882, 'title': 'Моделирование лица...</td>\n",
       "      <td>Моделирование лица и тела/120 мин</td>\n",
       "    </tr>\n",
       "    <tr>\n",
       "      <th>52</th>\n",
       "      <td>[{'id': 10922882, 'title': 'Моделирование лица...</td>\n",
       "      <td>Моделирование лица и тела/120 мин</td>\n",
       "    </tr>\n",
       "    <tr>\n",
       "      <th>77</th>\n",
       "      <td>[{'id': 10922873, 'title': 'Ручной лифтинг лиц...</td>\n",
       "      <td>Ручной лифтинг лица/60 мин</td>\n",
       "    </tr>\n",
       "  </tbody>\n",
       "</table>\n",
       "</div>"
      ],
      "text/plain": [
       "                                              services  \\\n",
       "161  [{'id': 10922882, 'title': 'Моделирование лица...   \n",
       "52   [{'id': 10922882, 'title': 'Моделирование лица...   \n",
       "77   [{'id': 10922873, 'title': 'Ручной лифтинг лиц...   \n",
       "\n",
       "                                titles  \n",
       "161  Моделирование лица и тела/120 мин  \n",
       "52   Моделирование лица и тела/120 мин  \n",
       "77          Ручной лифтинг лица/60 мин  "
      ]
     },
     "execution_count": 3,
     "metadata": {},
     "output_type": "execute_result"
    }
   ],
   "source": [
    "FX = lambda row_: row_[row_.find('title')+9:row_.find('cost')-4]\n",
    "df['titles'] = df.services.apply(FX)\n",
    "df.sample(3)"
   ]
  },
  {
   "cell_type": "code",
   "execution_count": 4,
   "metadata": {
    "collapsed": false
   },
   "outputs": [
    {
     "data": {
      "text/plain": [
       "titles\n",
       "Моделирование лица и тела/120 мин                                            44\n",
       "Ручной лифтинг лица/60 мин                                                   25\n",
       "Ручной лифтинг лица+коррекция осанки/90 мин                                  22\n",
       "Альгинатная маска                                                            11\n",
       "Первый визит: диагностика + моделирование лицо/тело (одна зона) / 30 мин.    11\n",
       "Моделирование тела/60 мин                                                     7\n",
       "Коррекция осанки/40 мин                                                       3\n",
       "Ручной лифтинг лица/90 мин                                                    3\n",
       "Мужская Коррекция осанки/40 мин                                               2\n",
       "Мужское Моделирование лица и тела/120 мин                                     2\n",
       "Чёткий контур + Буккальная техника/60 мин                                     2\n",
       "Моделирование тела/90 мин                                                     1\n",
       "Услуга                                                                        1\n",
       "штраф 500 р                                                                   1\n",
       "Name: titles, dtype: int64"
      ]
     },
     "execution_count": 4,
     "metadata": {},
     "output_type": "execute_result"
    }
   ],
   "source": [
    "df = df.loc[df.services != '[]']\n",
    "df.groupby('titles')['titles'].count().sort_values(ascending=False)"
   ]
  }
 ],
 "metadata": {
  "kernelspec": {
   "display_name": "Python 3.10.8 64-bit",
   "language": "python",
   "name": "python3"
  },
  "language_info": {
   "codemirror_mode": {
    "name": "ipython",
    "version": 3
   },
   "file_extension": ".py",
   "mimetype": "text/x-python",
   "name": "python",
   "nbconvert_exporter": "python",
   "pygments_lexer": "ipython3",
   "version": "3.10.8"
  },
  "vscode": {
   "interpreter": {
    "hash": "375637b3874f6e14805c3e0604614584adf55707c1ff6ed46e3c6ce45827bb52"
   }
  }
 },
 "nbformat": 4,
 "nbformat_minor": 0
}
