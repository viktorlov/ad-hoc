{
 "cells": [
  {
   "cell_type": "code",
   "execution_count": 214,
   "outputs": [],
   "source": [
    "import pandas as pd\n",
    "import hashlib"
   ],
   "metadata": {
    "collapsed": false
   }
  },
  {
   "cell_type": "code",
   "execution_count": 215,
   "outputs": [],
   "source": [
    "with open(\"text.txt\", encoding='utf-8') as file:\n",
    "    words = file.readlines()"
   ],
   "metadata": {
    "collapsed": false
   }
  },
  {
   "cell_type": "code",
   "execution_count": 216,
   "outputs": [],
   "source": [
    "words = [x.strip('\\n') for x in words]"
   ],
   "metadata": {
    "collapsed": false
   }
  },
  {
   "cell_type": "code",
   "execution_count": 217,
   "outputs": [],
   "source": [
    "one_string = ' '.join(words)"
   ],
   "metadata": {
    "collapsed": false
   }
  },
  {
   "cell_type": "code",
   "execution_count": 218,
   "outputs": [],
   "source": [
    "df = pd.DataFrame(words, columns = ['text'])"
   ],
   "metadata": {
    "collapsed": false
   }
  },
  {
   "cell_type": "code",
   "execution_count": 219,
   "outputs": [],
   "source": [
    "def hashing(arg):\n",
    "    string_bytes = bytes(str(arg), encoding='utf-8')\n",
    "    hash_object = hashlib.md5(string_bytes)\n",
    "    return hash_object.hexdigest()\n",
    "\n",
    "df['_hash_'] = df['text'].apply(hashing)"
   ],
   "metadata": {
    "collapsed": false
   }
  },
  {
   "cell_type": "code",
   "execution_count": 220,
   "outputs": [
    {
     "data": {
      "text/plain": "                                                   text  \\\n0                                                    яп   \n1                                               Янлекс,   \n2                                      ЯндексюПрактикум   \n3               яндекс-практикум, Нетология, geekbrains   \n4                           Яндекс-практикум, нетология   \n...                                                 ...   \n2030                                      Skill Factori   \n2031                                         GeekBrains   \n2032                                contented, skillbox   \n2033                                             Яндекс   \n2034  Различные бесплатные источники по данному напр...   \n\n                                _hash_  \n0     d94118ef19c88f099f1ef104f8c78d17  \n1     24121fee7003e9641ec622b4d8575837  \n2     39aa89fe66766a0bcad4aa23b1e4f1af  \n3     4d9c4338e01c1210a9998cc7a765aa4e  \n4     9612eddc350e1af802ad210e79dd22b1  \n...                                ...  \n2030  0df4324701704c43c6c0d8d0a18a410f  \n2031  251b11633f0abc3703a26c91bf498353  \n2032  732163503d6b5cf40c16204aac665bc1  \n2033  9e452a1cd81a386da19bbf6ba9bb346a  \n2034  aaab983d2530fe9d71321527c477faed  \n\n[2035 rows x 2 columns]",
      "text/html": "<div>\n<style scoped>\n    .dataframe tbody tr th:only-of-type {\n        vertical-align: middle;\n    }\n\n    .dataframe tbody tr th {\n        vertical-align: top;\n    }\n\n    .dataframe thead th {\n        text-align: right;\n    }\n</style>\n<table border=\"1\" class=\"dataframe\">\n  <thead>\n    <tr style=\"text-align: right;\">\n      <th></th>\n      <th>text</th>\n      <th>_hash_</th>\n    </tr>\n  </thead>\n  <tbody>\n    <tr>\n      <th>0</th>\n      <td>яп</td>\n      <td>d94118ef19c88f099f1ef104f8c78d17</td>\n    </tr>\n    <tr>\n      <th>1</th>\n      <td>Янлекс,</td>\n      <td>24121fee7003e9641ec622b4d8575837</td>\n    </tr>\n    <tr>\n      <th>2</th>\n      <td>ЯндексюПрактикум</td>\n      <td>39aa89fe66766a0bcad4aa23b1e4f1af</td>\n    </tr>\n    <tr>\n      <th>3</th>\n      <td>яндекс-практикум, Нетология, geekbrains</td>\n      <td>4d9c4338e01c1210a9998cc7a765aa4e</td>\n    </tr>\n    <tr>\n      <th>4</th>\n      <td>Яндекс-практикум, нетология</td>\n      <td>9612eddc350e1af802ad210e79dd22b1</td>\n    </tr>\n    <tr>\n      <th>...</th>\n      <td>...</td>\n      <td>...</td>\n    </tr>\n    <tr>\n      <th>2030</th>\n      <td>Skill Factori</td>\n      <td>0df4324701704c43c6c0d8d0a18a410f</td>\n    </tr>\n    <tr>\n      <th>2031</th>\n      <td>GeekBrains</td>\n      <td>251b11633f0abc3703a26c91bf498353</td>\n    </tr>\n    <tr>\n      <th>2032</th>\n      <td>contented, skillbox</td>\n      <td>732163503d6b5cf40c16204aac665bc1</td>\n    </tr>\n    <tr>\n      <th>2033</th>\n      <td>Яндекс</td>\n      <td>9e452a1cd81a386da19bbf6ba9bb346a</td>\n    </tr>\n    <tr>\n      <th>2034</th>\n      <td>Различные бесплатные источники по данному напр...</td>\n      <td>aaab983d2530fe9d71321527c477faed</td>\n    </tr>\n  </tbody>\n</table>\n<p>2035 rows × 2 columns</p>\n</div>"
     },
     "execution_count": 220,
     "metadata": {},
     "output_type": "execute_result"
    }
   ],
   "source": [
    "df"
   ],
   "metadata": {
    "collapsed": false
   }
  },
  {
   "cell_type": "code",
   "execution_count": 220,
   "outputs": [],
   "source": [],
   "metadata": {
    "collapsed": false
   }
  }
 ],
 "metadata": {
  "kernelspec": {
   "display_name": "Python 3",
   "language": "python",
   "name": "python3"
  },
  "language_info": {
   "codemirror_mode": {
    "name": "ipython",
    "version": 2
   },
   "file_extension": ".py",
   "mimetype": "text/x-python",
   "name": "python",
   "nbconvert_exporter": "python",
   "pygments_lexer": "ipython2",
   "version": "2.7.6"
  }
 },
 "nbformat": 4,
 "nbformat_minor": 0
}
