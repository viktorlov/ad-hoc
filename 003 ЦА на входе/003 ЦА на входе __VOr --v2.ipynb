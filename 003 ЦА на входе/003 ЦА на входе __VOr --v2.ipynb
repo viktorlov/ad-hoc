{
 "cells": [
  {
   "cell_type": "code",
   "execution_count": null,
   "metadata": {
    "collapsed": true
   },
   "outputs": [],
   "source": [
    "import pandas as pd\n",
    "import json\n",
    "from warnings import filterwarnings as _fw_\n",
    "import matplotlib.pyplot as plt\n",
    "from random import randint\n",
    "from scipy.cluster.hierarchy import dendrogram, linkage, fcluster\n",
    "from sklearn.cluster import KMeans\n",
    "\n",
    "_fw_('ignore')"
   ]
  },
  {
   "cell_type": "code",
   "execution_count": null,
   "outputs": [],
   "source": [
    "df = pd.read_csv('df.csv', encoding='utf-8').drop(columns='Unnamed: 0')\n",
    "# df"
   ],
   "metadata": {
    "collapsed": false
   }
  },
  {
   "cell_type": "code",
   "execution_count": null,
   "outputs": [],
   "source": [
    "with open('binary_columns.json', 'r', encoding='utf-8') as file:\n",
    "    binary_columns = json.load(file)\n",
    "# binary_columns[:-2]"
   ],
   "metadata": {
    "collapsed": false
   }
  },
  {
   "cell_type": "code",
   "execution_count": null,
   "outputs": [],
   "source": [
    "target = binary_columns[0:13]\n",
    "school_head5 = binary_columns[14:30]\n",
    "school_tail5 = binary_columns[31:46]\n",
    "course = binary_columns[47:56]\n",
    "profession = binary_columns[57:66]"
   ],
   "metadata": {
    "collapsed": false
   }
  },
  {
   "cell_type": "markdown",
   "source": [
    "# ИЕРАРХИЧЕСКИЙ КЛАСТЕРНЫЙ АНАЛИЗ"
   ],
   "metadata": {
    "collapsed": false
   }
  },
  {
   "cell_type": "code",
   "execution_count": null,
   "outputs": [],
   "source": [
    "df_H = df[binary_columns[:-2]]"
   ],
   "metadata": {
    "collapsed": false
   }
  },
  {
   "cell_type": "code",
   "execution_count": null,
   "outputs": [],
   "source": [
    "link = linkage(df_H, 'ward', 'euclidean')\n",
    "# link[:5]"
   ],
   "metadata": {
    "collapsed": false
   }
  },
  {
   "cell_type": "code",
   "execution_count": null,
   "outputs": [],
   "source": [
    "dn = dendrogram(link, orientation='right')  # дендрограмма"
   ],
   "metadata": {
    "collapsed": false
   }
  },
  {
   "cell_type": "code",
   "execution_count": null,
   "outputs": [],
   "source": [
    "df_H.loc[:, 'cluster'] = fcluster(link, t=40, criterion='distance')"
   ],
   "metadata": {
    "collapsed": false
   }
  },
  {
   "cell_type": "code",
   "execution_count": null,
   "outputs": [],
   "source": [
    "*clusters, = range(1, df_H.cluster.nunique() + 1)\n",
    "categories = [target, school_head5, school_tail5, course, profession]\n",
    "clusters_dictionary = {}\n",
    "FX = lambda x: df_H.groupby('cluster').mean().loc[:, x].idxmax(axis=1)\n",
    "for i_cluster in clusters:\n",
    "    clusters_dictionary[i_cluster] = {'target': FX(categories[0])[i_cluster],\n",
    "                                      'school_head5': FX(categories[1])[i_cluster],\n",
    "                                      'school_tail5': FX(categories[2])[i_cluster],\n",
    "                                      'course': FX(categories[3])[i_cluster],\n",
    "                                      'profession': FX(categories[4])[i_cluster]}\n",
    "clusters_dictionary"
   ],
   "metadata": {
    "collapsed": false
   }
  },
  {
   "cell_type": "code",
   "execution_count": null,
   "outputs": [],
   "source": [
    "df_H.groupby('cluster').size()"
   ],
   "metadata": {
    "collapsed": false
   }
  },
  {
   "cell_type": "markdown",
   "source": [
    "# КЛАСТЕРНЫЙ АНАЛИЗ МЕТОДОМ K-MEANS"
   ],
   "metadata": {
    "collapsed": false
   }
  },
  {
   "cell_type": "code",
   "execution_count": null,
   "outputs": [],
   "source": [
    "df_K = df[binary_columns[:-2]]"
   ],
   "metadata": {
    "collapsed": false
   }
  },
  {
   "cell_type": "code",
   "execution_count": null,
   "outputs": [],
   "source": [
    "model = KMeans(n_clusters=4, random_state=42, n_init=50, verbose=1, tol=1e-05)\n",
    "model.fit(df_K)"
   ],
   "metadata": {
    "collapsed": false
   }
  },
  {
   "cell_type": "code",
   "execution_count": null,
   "outputs": [],
   "source": [
    "model.labels_"
   ],
   "metadata": {
    "collapsed": false
   }
  },
  {
   "cell_type": "code",
   "execution_count": null,
   "outputs": [],
   "source": [
    "model.cluster_centers_"
   ],
   "metadata": {
    "collapsed": false
   }
  },
  {
   "cell_type": "code",
   "execution_count": null,
   "outputs": [],
   "source": [
    "# пробуем обучать ml-модельку\n",
    "new_respondents = [[randint(0, 1) for _ in range(67)] for __ in range(10)]\n",
    "model.predict(new_respondents)"
   ],
   "metadata": {
    "collapsed": false
   }
  },
  {
   "cell_type": "code",
   "execution_count": null,
   "outputs": [],
   "source": [
    "K = range(1, 11)\n",
    "models = [KMeans(n_clusters=k).fit(df_K) for k in K]\n",
    "dist = [model.inertia_ for model in models]\n",
    "\n",
    "# Plot the elbow\n",
    "plt.plot(K, dist, marker='o')\n",
    "plt.xlabel('число кластеров <<k>>')\n",
    "plt.ylabel('сумма расстояний между центрами кластеров')\n",
    "plt.title('\"Каменистая осыпь\" для определения оптимального <<k>>')\n",
    "plt.show()"
   ],
   "metadata": {
    "collapsed": false
   }
  },
  {
   "cell_type": "code",
   "execution_count": null,
   "outputs": [],
   "source": [
    "model = KMeans(n_clusters=4, random_state=42, n_init=50, verbose=1, tol=1e-05)\n",
    "model.fit(df_K)\n",
    "df_K['cluster'] = model.labels_\n",
    "df_K.groupby('cluster').mean()"
   ],
   "metadata": {
    "collapsed": false
   }
  },
  {
   "cell_type": "code",
   "execution_count": null,
   "outputs": [],
   "source": [
    "*clusters, = range(0, df_K.cluster.nunique())\n",
    "categories = [target, school_head5, school_tail5, course, profession]\n",
    "clusters_dictionary = {}\n",
    "FX = lambda x: df_K.groupby('cluster').mean().loc[:, x].idxmax(axis=1)\n",
    "for i_cluster in clusters:\n",
    "    clusters_dictionary[i_cluster] = {'target': FX(categories[0])[i_cluster],\n",
    "                                      'school_head5': FX(categories[1])[i_cluster],\n",
    "                                      'school_tail5': FX(categories[2])[i_cluster],\n",
    "                                      'course': FX(categories[3])[i_cluster],\n",
    "                                      'profession': FX(categories[4])[i_cluster]}\n",
    "clusters_dictionary"
   ],
   "metadata": {
    "collapsed": false
   }
  },
  {
   "cell_type": "code",
   "execution_count": null,
   "outputs": [],
   "source": [
    "df_K.groupby('cluster').size()"
   ],
   "metadata": {
    "collapsed": false
   }
  },
  {
   "cell_type": "code",
   "execution_count": null,
   "outputs": [],
   "source": [],
   "metadata": {
    "collapsed": false
   }
  }
 ],
 "metadata": {
  "kernelspec": {
   "display_name": "Python 3",
   "language": "python",
   "name": "python3"
  },
  "language_info": {
   "codemirror_mode": {
    "name": "ipython",
    "version": 2
   },
   "file_extension": ".py",
   "mimetype": "text/x-python",
   "name": "python",
   "nbconvert_exporter": "python",
   "pygments_lexer": "ipython2",
   "version": "2.7.6"
  }
 },
 "nbformat": 4,
 "nbformat_minor": 0
}
