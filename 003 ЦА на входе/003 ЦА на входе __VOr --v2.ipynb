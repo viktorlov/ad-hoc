{
 "cells": [
  {
   "cell_type": "code",
   "execution_count": 209,
   "metadata": {
    "collapsed": true
   },
   "outputs": [],
   "source": [
    "import pandas as pd\n",
    "import json"
   ]
  },
  {
   "cell_type": "code",
   "execution_count": 210,
   "outputs": [],
   "source": [
    "df = pd.read_csv('df.csv', encoding='utf-8').drop(columns='Unnamed: 0')\n",
    "# df"
   ],
   "metadata": {
    "collapsed": false
   }
  },
  {
   "cell_type": "code",
   "execution_count": 211,
   "outputs": [],
   "source": [
    "with open('binary_columns.json', 'r', encoding='utf-8') as file:\n",
    "    binary_columns = json.load(file)\n",
    "# binary_columns[:-2]"
   ],
   "metadata": {
    "collapsed": false
   }
  },
  {
   "cell_type": "code",
   "execution_count": 212,
   "outputs": [],
   "source": [
    "target = binary_columns[0:13]\n",
    "school_head5 = binary_columns[14:30]\n",
    "school_tail5 = binary_columns[31:46]\n",
    "course = binary_columns[47:56]\n",
    "profession = binary_columns[57:66]"
   ],
   "metadata": {
    "collapsed": false
   }
  },
  {
   "cell_type": "raw",
   "source": [
    "--------------------------------------------------------------------------------------------------------------------"
   ],
   "metadata": {
    "collapsed": false
   }
  },
  {
   "cell_type": "code",
   "execution_count": 213,
   "outputs": [],
   "source": [
    "import matplotlib\n",
    "# import matplotlib.pyplot as plt\n",
    "matplotlib.style.use('ggplot')\n",
    "%matplotlib inline"
   ],
   "metadata": {
    "collapsed": false
   }
  },
  {
   "cell_type": "code",
   "execution_count": 214,
   "outputs": [],
   "source": [
    "dfc = df[binary_columns[:-2]]"
   ],
   "metadata": {
    "collapsed": false
   }
  },
  {
   "cell_type": "code",
   "execution_count": 215,
   "outputs": [],
   "source": [
    "from scipy.cluster.hierarchy import dendrogram, linkage, fcluster\n",
    "link = linkage(dfc, 'ward', 'euclidean')"
   ],
   "metadata": {
    "collapsed": false
   }
  },
  {
   "cell_type": "code",
   "execution_count": 216,
   "outputs": [],
   "source": [
    "# link[:5]"
   ],
   "metadata": {
    "collapsed": false
   }
  },
  {
   "cell_type": "code",
   "execution_count": 217,
   "outputs": [
    {
     "data": {
      "text/plain": "<Figure size 640x480 with 1 Axes>",
      "image/png": "[encoded data removed]"
     },
     "metadata": {},
     "output_type": "display_data"
    }
   ],
   "source": [
    "dn = dendrogram(link, orientation='right')"
   ],
   "metadata": {
    "collapsed": false
   }
  },
  {
   "cell_type": "code",
   "execution_count": 218,
   "outputs": [
    {
     "name": "stderr",
     "output_type": "stream",
     "text": [
      "C:\\Users\\dynee\\AppData\\Local\\Temp\\ipykernel_2416\\1802391729.py:1: SettingWithCopyWarning: \n",
      "A value is trying to be set on a copy of a slice from a DataFrame.\n",
      "Try using .loc[row_indexer,col_indexer] = value instead\n",
      "\n",
      "See the caveats in the documentation: https://pandas.pydata.org/pandas-docs/stable/user_guide/indexing.html#returning-a-view-versus-a-copy\n",
      "  dfc.loc[:,'cluster'] = fcluster(link, t=30, criterion='distance')\n"
     ]
    }
   ],
   "source": [
    "dfc.loc[:,'cluster'] = fcluster(link, t=30, criterion='distance')"
   ],
   "metadata": {
    "collapsed": false
   }
  },
  {
   "cell_type": "code",
   "execution_count": 219,
   "outputs": [
    {
     "data": {
      "text/plain": "{1: {'target': 'TARGET Сменить работу и сферу деятельности',\n  'school_head5': 'SCHOOL_HEAD5 Возможность учиться в любое удобное время',\n  'school_tail5': 'SCHOOL_TAIL5 Возможность учиться в любое удобное время',\n  'course': 'COURSE Аналитик данных',\n  'profession': 'PROFESSION Возможность работать удаленно'},\n 2: {'target': 'TARGET Для саморазвития',\n  'school_head5': 'SCHOOL_HEAD5 Возможность учиться в любое удобное время',\n  'school_tail5': 'SCHOOL_TAIL5 Истории успеха выпускников',\n  'course': 'COURSE Аналитик данных',\n  'profession': 'PROFESSION Возможность работать удаленно'},\n 3: {'target': 'TARGET Перейти на удаленную работу',\n  'school_head5': 'SCHOOL_HEAD5 Помощь в трудоустройстве',\n  'school_tail5': 'SCHOOL_TAIL5 Отсутствие установленных сроков сдачи работ',\n  'course': 'COURSE Аналитик данных',\n  'profession': 'PROFESSION Возможность работать удаленно'},\n 4: {'target': 'TARGET Сменить работу и сферу деятельности',\n  'school_head5': 'SCHOOL_HEAD5 Возможность учиться в любое удобное время',\n  'school_tail5': 'SCHOOL_TAIL5 Отсутствие установленных сроков сдачи работ',\n  'course': 'COURSE Java-разработчик',\n  'profession': 'PROFESSION Возможность работать удаленно'},\n 5: {'target': 'TARGET Сменить работу и сферу деятельности',\n  'school_head5': 'SCHOOL_HEAD5 Помощь в трудоустройстве',\n  'school_tail5': 'SCHOOL_TAIL5 Истории успеха выпускников',\n  'course': 'COURSE Инженер по тестированию',\n  'profession': 'PROFESSION Востребованность профессии'},\n 6: {'target': 'TARGET Перейти на удаленную работу',\n  'school_head5': 'SCHOOL_HEAD5 Помощь в трудоустройстве',\n  'school_tail5': 'SCHOOL_TAIL5 Отсутствие установленных сроков сдачи работ',\n  'course': 'COURSE Инженер по тестированию',\n  'profession': 'PROFESSION Возможность работать удаленно'},\n 7: {'target': 'TARGET Перейти на удаленную работу',\n  'school_head5': 'SCHOOL_HEAD5 Помощь в трудоустройстве',\n  'school_tail5': 'SCHOOL_TAIL5 Истории успеха выпускников',\n  'course': 'COURSE Аналитик данных',\n  'profession': 'PROFESSION Возможность работать удаленно'}}"
     },
     "execution_count": 219,
     "metadata": {},
     "output_type": "execute_result"
    }
   ],
   "source": [
    "*clusters, = range(1,8)\n",
    "categories = [target, school_head5, school_tail5, course, profession]\n",
    "clusters_dictionary = {}\n",
    "clusters_question = {}\n",
    "FX = lambda x: dfc.groupby('cluster').mean().loc[:, x].idxmax(axis=1)\n",
    "for i_cluster in clusters:\n",
    "    clusters_dictionary[i_cluster] = {'target': FX(categories[0])[i_cluster],\n",
    "                                      'school_head5': FX(categories[1])[i_cluster],\n",
    "                                      'school_tail5': FX(categories[2])[i_cluster],\n",
    "                                      'course': FX(categories[3])[i_cluster],\n",
    "                                      'profession': FX(categories[4])[i_cluster]}\n",
    "clusters_dictionary"
   ],
   "metadata": {
    "collapsed": false
   }
  },
  {
   "cell_type": "code",
   "execution_count": 220,
   "outputs": [
    {
     "data": {
      "text/plain": "cluster\n1     981\n2    1539\n3    1421\n4     513\n5    2503\n6     390\n7    2412\ndtype: int64"
     },
     "execution_count": 220,
     "metadata": {},
     "output_type": "execute_result"
    }
   ],
   "source": [
    "dfc.groupby('cluster').size()"
   ],
   "metadata": {
    "collapsed": false
   }
  }
 ],
 "metadata": {
  "kernelspec": {
   "display_name": "Python 3",
   "language": "python",
   "name": "python3"
  },
  "language_info": {
   "codemirror_mode": {
    "name": "ipython",
    "version": 2
   },
   "file_extension": ".py",
   "mimetype": "text/x-python",
   "name": "python",
   "nbconvert_exporter": "python",
   "pygments_lexer": "ipython2",
   "version": "2.7.6"
  }
 },
 "nbformat": 4,
 "nbformat_minor": 0
}
