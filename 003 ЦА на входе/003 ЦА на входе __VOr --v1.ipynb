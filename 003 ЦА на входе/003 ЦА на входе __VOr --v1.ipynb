{
 "cells": [
  {
   "cell_type": "code",
   "execution_count": 18,
   "metadata": {
    "collapsed": true
   },
   "outputs": [],
   "source": [
    "import pandas as pd\n",
    "import numpy as np"
   ]
  },
  {
   "cell_type": "code",
   "execution_count": 29,
   "outputs": [],
   "source": [
    "data = pd.read_excel('data_2.xlsx')"
   ],
   "metadata": {
    "collapsed": false
   }
  },
  {
   "cell_type": "code",
   "execution_count": 30,
   "outputs": [
    {
     "data": {
      "text/plain": "      RESPONSE_ID        TIME_STARTED      DATE_SUBMITTED  \\\n0               4 2022-02-16 16:05:35 2022-02-16 16:07:15   \n1               5 2022-02-16 16:18:37 2022-02-16 16:20:26   \n2               7 2022-02-16 16:24:22 2022-02-16 16:29:50   \n3              10 2022-02-16 18:28:47 2022-02-16 18:31:38   \n4              11 2022-02-16 18:34:18 2022-02-16 18:39:56   \n...           ...                 ...                 ...   \n9754        12117 2022-11-08 17:33:09 2022-11-08 17:36:14   \n9755        12118 2022-11-08 18:43:53 2022-11-08 18:47:24   \n9756        12120 2022-11-09 04:55:35 2022-11-09 05:01:33   \n9757        12122 2022-11-09 06:20:17 2022-11-09 06:25:04   \n9758        12123 2022-11-09 06:32:41 2022-11-09 06:35:37   \n\n                                          SALES_CHANNEL _BLOGGER1 _BLOGGER2  \\\n0           От блогера на YouTube (укажите имя блогера)       NaN       NaN   \n1                                   От коллег на работе       NaN       NaN   \n2                                   От знакомых, друзей       NaN       NaN   \n3     Через поиск в Google / Яндекс / другой поисков...       NaN       NaN   \n4           От блогера на YouTube (укажите имя блогера)       NaN       NaN   \n...                                                 ...       ...       ...   \n9754                      Реклама в Facebook, Вконтакте       NaN       NaN   \n9755                                             Другое       NaN        Vk   \n9756                                    Пост в Telegram       NaN       NaN   \n9757                     Комментарии, отзывы в соцсетях       NaN       NaN   \n9758                                             Другое       NaN     Авито   \n\n      TARGET Сменить работу в своей сфере деятельности  \\\n0                                                    0   \n1                                                    0   \n2                                                    0   \n3                                                    0   \n4                                                    0   \n...                                                ...   \n9754                                                 0   \n9755                                                 0   \n9756                                                 0   \n9757                                                 0   \n9758                                                 0   \n\n      TARGET Сменить работу и сферу деятельности  \\\n0                                              0   \n1                                              1   \n2                                              0   \n3                                              0   \n4                                              1   \n...                                          ...   \n9754                                           0   \n9755                                           1   \n9756                                           1   \n9757                                           0   \n9758                                           0   \n\n      TARGET Увеличить уровень зарплаты  TARGET Найти подработку  ...  \\\n0                                     0                        0  ...   \n1                                     0                        0  ...   \n2                                     1                        0  ...   \n3                                     0                        0  ...   \n4                                     0                        0  ...   \n...                                 ...                      ...  ...   \n9754                                  0                        0  ...   \n9755                                  0                        0  ...   \n9756                                  0                        1  ...   \n9757                                  0                        1  ...   \n9758                                  1                        0  ...   \n\n      PROFESSION Простота трудоустройства  PROFESSION Другое  \\\n0                                       0                  0   \n1                                       0                  0   \n2                                       1                  0   \n3                                       0                  0   \n4                                       1                  0   \n...                                   ...                ...   \n9754                                    0                  0   \n9755                                    1                  0   \n9756                                    0                  0   \n9757                                    0                  0   \n9758                                    0                  0   \n\n      _PROFESSION Другое_4  OTHER_UNIVERSITIES  _OTHER_UNIVERSITY_NAMES  \\\n0                      NaN                   1                      NaN   \n1                      NaN                   1                      NaN   \n2                      NaN                   1                      NaN   \n3                      NaN                   1                      NaN   \n4                      NaN                   1                      NaN   \n...                    ...                 ...                      ...   \n9754                   NaN                   1                      NaN   \n9755                   NaN                   1                      NaN   \n9756                   NaN                   1                      NaN   \n9757                   NaN                   1                      NaN   \n9758                   NaN                   1                      NaN   \n\n      IS_SKYPRO_BENEFITS  _SKYPRO_BENEFITS  SEX   AGE  \\\n0                      1               NaN    1  23.0   \n1                      1               NaN    1  23.0   \n2                      1               NaN    1  23.0   \n3                      0               NaN    0  31.0   \n4                      0               NaN    1  32.0   \n...                  ...               ...  ...   ...   \n9754                   0               NaN    0  32.0   \n9755                   0               NaN    0  29.0   \n9756                   0               NaN    0  21.0   \n9757                   0               NaN    0  43.0   \n9758                   0               NaN    0  38.0   \n\n                      EARNINGS  \n0     100 001 – 150 000 рублей  \n1       50 001 – 70 000 рублей  \n2       30 001 – 40 000 рублей  \n3      70 001 – 100 000 рублей  \n4      Предпочитаю не отвечать  \n...                        ...  \n9754    10 000 – 20 000 рублей  \n9755    30 001 – 40 000 рублей  \n9756    40 001 – 50 000 рублей  \n9757   70 001 – 100 000 рублей  \n9758    20 001 – 30 000 рублей  \n\n[9759 rows x 86 columns]",
      "text/html": "<div>\n<style scoped>\n    .dataframe tbody tr th:only-of-type {\n        vertical-align: middle;\n    }\n\n    .dataframe tbody tr th {\n        vertical-align: top;\n    }\n\n    .dataframe thead th {\n        text-align: right;\n    }\n</style>\n<table border=\"1\" class=\"dataframe\">\n  <thead>\n    <tr style=\"text-align: right;\">\n      <th></th>\n      <th>RESPONSE_ID</th>\n      <th>TIME_STARTED</th>\n      <th>DATE_SUBMITTED</th>\n      <th>SALES_CHANNEL</th>\n      <th>_BLOGGER1</th>\n      <th>_BLOGGER2</th>\n      <th>TARGET Сменить работу в своей сфере деятельности</th>\n      <th>TARGET Сменить работу и сферу деятельности</th>\n      <th>TARGET Увеличить уровень зарплаты</th>\n      <th>TARGET Найти подработку</th>\n      <th>...</th>\n      <th>PROFESSION Простота трудоустройства</th>\n      <th>PROFESSION Другое</th>\n      <th>_PROFESSION Другое_4</th>\n      <th>OTHER_UNIVERSITIES</th>\n      <th>_OTHER_UNIVERSITY_NAMES</th>\n      <th>IS_SKYPRO_BENEFITS</th>\n      <th>_SKYPRO_BENEFITS</th>\n      <th>SEX</th>\n      <th>AGE</th>\n      <th>EARNINGS</th>\n    </tr>\n  </thead>\n  <tbody>\n    <tr>\n      <th>0</th>\n      <td>4</td>\n      <td>2022-02-16 16:05:35</td>\n      <td>2022-02-16 16:07:15</td>\n      <td>От блогера на YouTube (укажите имя блогера)</td>\n      <td>NaN</td>\n      <td>NaN</td>\n      <td>0</td>\n      <td>0</td>\n      <td>0</td>\n      <td>0</td>\n      <td>...</td>\n      <td>0</td>\n      <td>0</td>\n      <td>NaN</td>\n      <td>1</td>\n      <td>NaN</td>\n      <td>1</td>\n      <td>NaN</td>\n      <td>1</td>\n      <td>23.0</td>\n      <td>100 001 – 150 000 рублей</td>\n    </tr>\n    <tr>\n      <th>1</th>\n      <td>5</td>\n      <td>2022-02-16 16:18:37</td>\n      <td>2022-02-16 16:20:26</td>\n      <td>От коллег на работе</td>\n      <td>NaN</td>\n      <td>NaN</td>\n      <td>0</td>\n      <td>1</td>\n      <td>0</td>\n      <td>0</td>\n      <td>...</td>\n      <td>0</td>\n      <td>0</td>\n      <td>NaN</td>\n      <td>1</td>\n      <td>NaN</td>\n      <td>1</td>\n      <td>NaN</td>\n      <td>1</td>\n      <td>23.0</td>\n      <td>50 001 – 70 000 рублей</td>\n    </tr>\n    <tr>\n      <th>2</th>\n      <td>7</td>\n      <td>2022-02-16 16:24:22</td>\n      <td>2022-02-16 16:29:50</td>\n      <td>От знакомых, друзей</td>\n      <td>NaN</td>\n      <td>NaN</td>\n      <td>0</td>\n      <td>0</td>\n      <td>1</td>\n      <td>0</td>\n      <td>...</td>\n      <td>1</td>\n      <td>0</td>\n      <td>NaN</td>\n      <td>1</td>\n      <td>NaN</td>\n      <td>1</td>\n      <td>NaN</td>\n      <td>1</td>\n      <td>23.0</td>\n      <td>30 001 – 40 000 рублей</td>\n    </tr>\n    <tr>\n      <th>3</th>\n      <td>10</td>\n      <td>2022-02-16 18:28:47</td>\n      <td>2022-02-16 18:31:38</td>\n      <td>Через поиск в Google / Яндекс / другой поисков...</td>\n      <td>NaN</td>\n      <td>NaN</td>\n      <td>0</td>\n      <td>0</td>\n      <td>0</td>\n      <td>0</td>\n      <td>...</td>\n      <td>0</td>\n      <td>0</td>\n      <td>NaN</td>\n      <td>1</td>\n      <td>NaN</td>\n      <td>0</td>\n      <td>NaN</td>\n      <td>0</td>\n      <td>31.0</td>\n      <td>70 001 – 100 000 рублей</td>\n    </tr>\n    <tr>\n      <th>4</th>\n      <td>11</td>\n      <td>2022-02-16 18:34:18</td>\n      <td>2022-02-16 18:39:56</td>\n      <td>От блогера на YouTube (укажите имя блогера)</td>\n      <td>NaN</td>\n      <td>NaN</td>\n      <td>0</td>\n      <td>1</td>\n      <td>0</td>\n      <td>0</td>\n      <td>...</td>\n      <td>1</td>\n      <td>0</td>\n      <td>NaN</td>\n      <td>1</td>\n      <td>NaN</td>\n      <td>0</td>\n      <td>NaN</td>\n      <td>1</td>\n      <td>32.0</td>\n      <td>Предпочитаю не отвечать</td>\n    </tr>\n    <tr>\n      <th>...</th>\n      <td>...</td>\n      <td>...</td>\n      <td>...</td>\n      <td>...</td>\n      <td>...</td>\n      <td>...</td>\n      <td>...</td>\n      <td>...</td>\n      <td>...</td>\n      <td>...</td>\n      <td>...</td>\n      <td>...</td>\n      <td>...</td>\n      <td>...</td>\n      <td>...</td>\n      <td>...</td>\n      <td>...</td>\n      <td>...</td>\n      <td>...</td>\n      <td>...</td>\n      <td>...</td>\n    </tr>\n    <tr>\n      <th>9754</th>\n      <td>12117</td>\n      <td>2022-11-08 17:33:09</td>\n      <td>2022-11-08 17:36:14</td>\n      <td>Реклама в Facebook, Вконтакте</td>\n      <td>NaN</td>\n      <td>NaN</td>\n      <td>0</td>\n      <td>0</td>\n      <td>0</td>\n      <td>0</td>\n      <td>...</td>\n      <td>0</td>\n      <td>0</td>\n      <td>NaN</td>\n      <td>1</td>\n      <td>NaN</td>\n      <td>0</td>\n      <td>NaN</td>\n      <td>0</td>\n      <td>32.0</td>\n      <td>10 000 – 20 000 рублей</td>\n    </tr>\n    <tr>\n      <th>9755</th>\n      <td>12118</td>\n      <td>2022-11-08 18:43:53</td>\n      <td>2022-11-08 18:47:24</td>\n      <td>Другое</td>\n      <td>NaN</td>\n      <td>Vk</td>\n      <td>0</td>\n      <td>1</td>\n      <td>0</td>\n      <td>0</td>\n      <td>...</td>\n      <td>1</td>\n      <td>0</td>\n      <td>NaN</td>\n      <td>1</td>\n      <td>NaN</td>\n      <td>0</td>\n      <td>NaN</td>\n      <td>0</td>\n      <td>29.0</td>\n      <td>30 001 – 40 000 рублей</td>\n    </tr>\n    <tr>\n      <th>9756</th>\n      <td>12120</td>\n      <td>2022-11-09 04:55:35</td>\n      <td>2022-11-09 05:01:33</td>\n      <td>Пост в Telegram</td>\n      <td>NaN</td>\n      <td>NaN</td>\n      <td>0</td>\n      <td>1</td>\n      <td>0</td>\n      <td>1</td>\n      <td>...</td>\n      <td>0</td>\n      <td>0</td>\n      <td>NaN</td>\n      <td>1</td>\n      <td>NaN</td>\n      <td>0</td>\n      <td>NaN</td>\n      <td>0</td>\n      <td>21.0</td>\n      <td>40 001 – 50 000 рублей</td>\n    </tr>\n    <tr>\n      <th>9757</th>\n      <td>12122</td>\n      <td>2022-11-09 06:20:17</td>\n      <td>2022-11-09 06:25:04</td>\n      <td>Комментарии, отзывы в соцсетях</td>\n      <td>NaN</td>\n      <td>NaN</td>\n      <td>0</td>\n      <td>0</td>\n      <td>0</td>\n      <td>1</td>\n      <td>...</td>\n      <td>0</td>\n      <td>0</td>\n      <td>NaN</td>\n      <td>1</td>\n      <td>NaN</td>\n      <td>0</td>\n      <td>NaN</td>\n      <td>0</td>\n      <td>43.0</td>\n      <td>70 001 – 100 000 рублей</td>\n    </tr>\n    <tr>\n      <th>9758</th>\n      <td>12123</td>\n      <td>2022-11-09 06:32:41</td>\n      <td>2022-11-09 06:35:37</td>\n      <td>Другое</td>\n      <td>NaN</td>\n      <td>Авито</td>\n      <td>0</td>\n      <td>0</td>\n      <td>1</td>\n      <td>0</td>\n      <td>...</td>\n      <td>0</td>\n      <td>0</td>\n      <td>NaN</td>\n      <td>1</td>\n      <td>NaN</td>\n      <td>0</td>\n      <td>NaN</td>\n      <td>0</td>\n      <td>38.0</td>\n      <td>20 001 – 30 000 рублей</td>\n    </tr>\n  </tbody>\n</table>\n<p>9759 rows × 86 columns</p>\n</div>"
     },
     "execution_count": 30,
     "metadata": {},
     "output_type": "execute_result"
    }
   ],
   "source": [
    "binary_columns = ['TARGET Сменить работу в своей сфере деятельности',\n",
    "                  'TARGET Сменить работу и сферу деятельности',\n",
    "                  'TARGET Увеличить уровень зарплаты',\n",
    "                  'TARGET Найти подработку',\n",
    "                  'TARGET Устроиться на первую работу, стартовать карьеру',\n",
    "                  'TARGET Углубить имеющиеся навыки для текущей работы',\n",
    "                  'TARGET Для саморазвития',\n",
    "                  'TARGET Перейти на удаленную работу',\n",
    "                  'TARGET Подтянуть навыки для текущей работы',\n",
    "                  'TARGET Освоить навыки для применения в своем бизнесе',\n",
    "                  'TARGET В качестве запасного варианта работы, подстраховки на будущее',\n",
    "                  'TARGET Расширить кругозор без цели смены работы',\n",
    "                  'TARGET В качестве хобби, увлечения',\n",
    "                  'SCHOOL_HEAD5 Цена ниже, чем у других компаний',\n",
    "                  'SCHOOL_HEAD5 Доверие бренду',\n",
    "                  'SCHOOL_HEAD5 Положительные отзывы в интернете',\n",
    "                  'SCHOOL_HEAD5 Выдача диплома о профессиональной переподготовке',\n",
    "                  'SCHOOL_HEAD5 Возможность учиться в любое удобное время',\n",
    "                  'SCHOOL_HEAD5 Помощь в трудоустройстве',\n",
    "                  'SCHOOL_HEAD5 Наличие в программе нужных мне тем',\n",
    "                  'SCHOOL_HEAD5 Помощь в выборе подходящей профессии',\n",
    "                  'SCHOOL_HEAD5 Рекомендации друзей, знакомых',\n",
    "                  'SCHOOL_HEAD5 Карьерный опыт преподавателей',\n",
    "                  'SCHOOL_HEAD5 Возможность оформить рассрочку при покупке',\n",
    "                  'SCHOOL_HEAD5 Оперативные ответы на ваши вопросы в ходе обучения',\n",
    "                  'SCHOOL_HEAD5 Возможность живого общения с наставником',\n",
    "                  'SCHOOL_HEAD5 Отсутствие установленных сроков сдачи работ',\n",
    "                  'SCHOOL_HEAD5 Истории успеха выпускников',\n",
    "                  'SCHOOL_HEAD5 Кейсы из практики для портфолио',\n",
    "                  'SCHOOL_TAIL5 Цена ниже, чем у других компаний',\n",
    "                  'SCHOOL_TAIL5 Доверие бренду',\n",
    "                  'SCHOOL_TAIL5 Положительные отзывы в интернете',\n",
    "                  'SCHOOL_TAIL5 Выдача диплома о профессиональной переподготовке',\n",
    "                  'SCHOOL_TAIL5 Возможность учиться в любое удобное время',\n",
    "                  'SCHOOL_TAIL5 Помощь в трудоустройстве',\n",
    "                  'SCHOOL_TAIL5 Наличие в программе нужных мне тем',\n",
    "                  'SCHOOL_TAIL5 Помощь в выборе подходящей профессии',\n",
    "                  'SCHOOL_TAIL5 Рекомендации друзей, знакомых',\n",
    "                  'SCHOOL_TAIL5 Карьерный опыт преподавателей',\n",
    "                  'SCHOOL_TAIL5 Возможность оформить рассрочку при покупке',\n",
    "                  'SCHOOL_TAIL5 Оперативные ответы на ваши вопросы в ходе обучения',\n",
    "                  'SCHOOL_TAIL5 Возможность живого общения с наставником',\n",
    "                  'SCHOOL_TAIL5 Отсутствие установленных сроков сдачи работ',\n",
    "                  'SCHOOL_TAIL5 Истории успеха выпускников',\n",
    "                  'SCHOOL_TAIL5 Кейсы из практики для портфолио',\n",
    "                  'COURSE Насколько вы определились с выбором профессии, которую хотите изучать?',\n",
    "                  'COURSE Аналитик данных',\n",
    "                  'COURSE Инженер по тестированию',\n",
    "                  'COURSE Python-разработчик',\n",
    "                  'COURSE Java-разработчик',\n",
    "                  'COURSE Android-разработчик',\n",
    "                  'COURSE Frontend-разработчик',\n",
    "                  'COURSE Маркетинг',\n",
    "                  'COURSE Веб-дизайн',\n",
    "                  'COURSE Другие',\n",
    "                  'PROFESSION Востребованность профессии',\n",
    "                  'PROFESSION Более высокая зарплата в этой профессии',\n",
    "                  'PROFESSION Более интересный род занятий в работе',\n",
    "                  'PROFESSION Перспективы карьерного роста',\n",
    "                  'PROFESSION Наличие определенных знаний до обучения',\n",
    "                  'PROFESSION Возможность применять знания в текущей работе',\n",
    "                  'PROFESSION Возможность работать удаленно',\n",
    "                  'PROFESSION Возможность работать в IT-сфере',\n",
    "                  'PROFESSION Простота трудоустройства',\n",
    "                  'PROFESSION Другое',\n",
    "                  'OTHER_UNIVERSITIES',\n",
    "                  'IS_SKYPRO_BENEFITS']\n",
    "df = data.copy()\n",
    "df[binary_columns] = df[binary_columns].fillna(0)\n",
    "for each in binary_columns:\n",
    "    df.loc[df[each] != 0, each] = 1\n",
    "    df[each] = df[each].apply(np.int64)\n",
    "mask = {'Мужской': 1, 'Женский': 0}\n",
    "df['SEX'] = df['SEX'].map(mask).apply(np.int64)\n",
    "df"
   ],
   "metadata": {
    "collapsed": false
   }
  },
  {
   "cell_type": "code",
   "execution_count": 20,
   "outputs": [],
   "source": [],
   "metadata": {
    "collapsed": false
   }
  },
  {
   "cell_type": "code",
   "execution_count": null,
   "outputs": [],
   "source": [],
   "metadata": {
    "collapsed": false
   }
  },
  {
   "cell_type": "code",
   "execution_count": null,
   "outputs": [],
   "source": [],
   "metadata": {
    "collapsed": false
   }
  },
  {
   "cell_type": "code",
   "execution_count": null,
   "outputs": [],
   "source": [],
   "metadata": {
    "collapsed": false
   }
  },
  {
   "cell_type": "code",
   "execution_count": 20,
   "outputs": [],
   "source": [],
   "metadata": {
    "collapsed": false
   }
  }
 ],
 "metadata": {
  "kernelspec": {
   "display_name": "Python 3",
   "language": "python",
   "name": "python3"
  },
  "language_info": {
   "codemirror_mode": {
    "name": "ipython",
    "version": 2
   },
   "file_extension": ".py",
   "mimetype": "text/x-python",
   "name": "python",
   "nbconvert_exporter": "python",
   "pygments_lexer": "ipython2",
   "version": "2.7.6"
  }
 },
 "nbformat": 4,
 "nbformat_minor": 0
}
