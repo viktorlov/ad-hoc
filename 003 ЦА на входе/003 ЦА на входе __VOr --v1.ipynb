{
 "cells": [
  {
   "cell_type": "code",
   "execution_count": 1,
   "metadata": {
    "collapsed": true
   },
   "outputs": [],
   "source": [
    "import pandas as pd"
   ]
  },
  {
   "cell_type": "code",
   "execution_count": 2,
   "outputs": [
    {
     "data": {
      "text/plain": "      RESPONSE_ID        TIME_STARTED      DATE_SUBMITTED  \\\n0               4 2022-02-16 16:05:35 2022-02-16 16:07:15   \n1               5 2022-02-16 16:18:37 2022-02-16 16:20:26   \n2               7 2022-02-16 16:24:22 2022-02-16 16:29:50   \n3              10 2022-02-16 18:28:47 2022-02-16 18:31:38   \n4              11 2022-02-16 18:34:18 2022-02-16 18:39:56   \n...           ...                 ...                 ...   \n9754        12117 2022-11-08 17:33:09 2022-11-08 17:36:14   \n9755        12118 2022-11-08 18:43:53 2022-11-08 18:47:24   \n9756        12120 2022-11-09 04:55:35 2022-11-09 05:01:33   \n9757        12122 2022-11-09 06:20:17 2022-11-09 06:25:04   \n9758        12123 2022-11-09 06:32:41 2022-11-09 06:35:37   \n\n                                          SALES_CHANNEL _BLOGGER1 _BLOGGER2  \\\n0           От блогера на YouTube (укажите имя блогера)       NaN       NaN   \n1                                   От коллег на работе       NaN       NaN   \n2                                   От знакомых, друзей       NaN       NaN   \n3     Через поиск в Google / Яндекс / другой поисков...       NaN       NaN   \n4           От блогера на YouTube (укажите имя блогера)       NaN       NaN   \n...                                                 ...       ...       ...   \n9754                      Реклама в Facebook, Вконтакте       NaN       NaN   \n9755                                             Другое       NaN        Vk   \n9756                                    Пост в Telegram       NaN       NaN   \n9757                     Комментарии, отзывы в соцсетях       NaN       NaN   \n9758                                             Другое       NaN     Авито   \n\n     TARGET Сменить работу в своей сфере деятельности  \\\n0                                                 NaN   \n1                                                 NaN   \n2                                                 NaN   \n3                                                 NaN   \n4                                                 NaN   \n...                                               ...   \n9754                                              NaN   \n9755                                              NaN   \n9756                                              NaN   \n9757                                              NaN   \n9758                                              NaN   \n\n     TARGET Сменить работу и сферу деятельности  \\\n0                                           NaN   \n1           Сменить работу и сферу деятельности   \n2                                           NaN   \n3                                           NaN   \n4           Сменить работу и сферу деятельности   \n...                                         ...   \n9754                                        NaN   \n9755        Сменить работу и сферу деятельности   \n9756        Сменить работу и сферу деятельности   \n9757                                        NaN   \n9758                                        NaN   \n\n     TARGET Увеличить уровень зарплаты TARGET Найти подработку  ...  \\\n0                                  NaN                     NaN  ...   \n1                                  NaN                     NaN  ...   \n2           Увеличить уровень зарплаты                     NaN  ...   \n3                                  NaN                     NaN  ...   \n4                                  NaN                     NaN  ...   \n...                                ...                     ...  ...   \n9754                               NaN                     NaN  ...   \n9755                               NaN                     NaN  ...   \n9756                               NaN        Найти подработку  ...   \n9757                               NaN        Найти подработку  ...   \n9758        Увеличить уровень зарплаты                     NaN  ...   \n\n     PROFESSION Простота трудоустройства PROFESSION Другое  \\\n0                                    NaN               NaN   \n1                                    NaN               NaN   \n2               Простота трудоустройства               NaN   \n3                                    NaN               NaN   \n4               Простота трудоустройства               NaN   \n...                                  ...               ...   \n9754                                 NaN               NaN   \n9755            Простота трудоустройства               NaN   \n9756                                 NaN               NaN   \n9757                                 NaN               NaN   \n9758                                 NaN               NaN   \n\n     _PROFESSION Другое_4 OTHER_UNIVERSITIES _OTHER_UNIVERSITY_NAMES  \\\n0                     NaN      Не изучал(-а)                     NaN   \n1                     NaN      Не изучал(-а)                     NaN   \n2                     NaN      Не изучал(-а)                     NaN   \n3                     NaN      Не изучал(-а)                     NaN   \n4                     NaN      Не изучал(-а)                     NaN   \n...                   ...                ...                     ...   \n9754                  NaN      Не изучал(-а)                     NaN   \n9755                  NaN      Не изучал(-а)                     NaN   \n9756                  NaN      Не изучал(-а)                     NaN   \n9757                  NaN      Не изучал(-а)                     NaN   \n9758                  NaN      Не изучал(-а)                     NaN   \n\n     IS_SKYPRO_BENEFITS _SKYPRO_BENEFITS      SEX   AGE  \\\n0      Определенно есть              NaN  Мужской  23.0   \n1            Скорее нет              NaN  Мужской  23.0   \n2           Скорее есть              NaN  Мужской  23.0   \n3                   NaN              NaN  Женский  31.0   \n4                   NaN              NaN  Мужской  32.0   \n...                 ...              ...      ...   ...   \n9754                NaN              NaN  Женский  32.0   \n9755                NaN              NaN  Женский  29.0   \n9756                NaN              NaN  Женский  21.0   \n9757                NaN              NaN  Женский  43.0   \n9758                NaN              NaN  Женский  38.0   \n\n                      EARNINGS  \n0     100 001 – 150 000 рублей  \n1       50 001 – 70 000 рублей  \n2       30 001 – 40 000 рублей  \n3      70 001 – 100 000 рублей  \n4      Предпочитаю не отвечать  \n...                        ...  \n9754    10 000 – 20 000 рублей  \n9755    30 001 – 40 000 рублей  \n9756    40 001 – 50 000 рублей  \n9757   70 001 – 100 000 рублей  \n9758    20 001 – 30 000 рублей  \n\n[9759 rows x 86 columns]",
      "text/html": "<div>\n<style scoped>\n    .dataframe tbody tr th:only-of-type {\n        vertical-align: middle;\n    }\n\n    .dataframe tbody tr th {\n        vertical-align: top;\n    }\n\n    .dataframe thead th {\n        text-align: right;\n    }\n</style>\n<table border=\"1\" class=\"dataframe\">\n  <thead>\n    <tr style=\"text-align: right;\">\n      <th></th>\n      <th>RESPONSE_ID</th>\n      <th>TIME_STARTED</th>\n      <th>DATE_SUBMITTED</th>\n      <th>SALES_CHANNEL</th>\n      <th>_BLOGGER1</th>\n      <th>_BLOGGER2</th>\n      <th>TARGET Сменить работу в своей сфере деятельности</th>\n      <th>TARGET Сменить работу и сферу деятельности</th>\n      <th>TARGET Увеличить уровень зарплаты</th>\n      <th>TARGET Найти подработку</th>\n      <th>...</th>\n      <th>PROFESSION Простота трудоустройства</th>\n      <th>PROFESSION Другое</th>\n      <th>_PROFESSION Другое_4</th>\n      <th>OTHER_UNIVERSITIES</th>\n      <th>_OTHER_UNIVERSITY_NAMES</th>\n      <th>IS_SKYPRO_BENEFITS</th>\n      <th>_SKYPRO_BENEFITS</th>\n      <th>SEX</th>\n      <th>AGE</th>\n      <th>EARNINGS</th>\n    </tr>\n  </thead>\n  <tbody>\n    <tr>\n      <th>0</th>\n      <td>4</td>\n      <td>2022-02-16 16:05:35</td>\n      <td>2022-02-16 16:07:15</td>\n      <td>От блогера на YouTube (укажите имя блогера)</td>\n      <td>NaN</td>\n      <td>NaN</td>\n      <td>NaN</td>\n      <td>NaN</td>\n      <td>NaN</td>\n      <td>NaN</td>\n      <td>...</td>\n      <td>NaN</td>\n      <td>NaN</td>\n      <td>NaN</td>\n      <td>Не изучал(-а)</td>\n      <td>NaN</td>\n      <td>Определенно есть</td>\n      <td>NaN</td>\n      <td>Мужской</td>\n      <td>23.0</td>\n      <td>100 001 – 150 000 рублей</td>\n    </tr>\n    <tr>\n      <th>1</th>\n      <td>5</td>\n      <td>2022-02-16 16:18:37</td>\n      <td>2022-02-16 16:20:26</td>\n      <td>От коллег на работе</td>\n      <td>NaN</td>\n      <td>NaN</td>\n      <td>NaN</td>\n      <td>Сменить работу и сферу деятельности</td>\n      <td>NaN</td>\n      <td>NaN</td>\n      <td>...</td>\n      <td>NaN</td>\n      <td>NaN</td>\n      <td>NaN</td>\n      <td>Не изучал(-а)</td>\n      <td>NaN</td>\n      <td>Скорее нет</td>\n      <td>NaN</td>\n      <td>Мужской</td>\n      <td>23.0</td>\n      <td>50 001 – 70 000 рублей</td>\n    </tr>\n    <tr>\n      <th>2</th>\n      <td>7</td>\n      <td>2022-02-16 16:24:22</td>\n      <td>2022-02-16 16:29:50</td>\n      <td>От знакомых, друзей</td>\n      <td>NaN</td>\n      <td>NaN</td>\n      <td>NaN</td>\n      <td>NaN</td>\n      <td>Увеличить уровень зарплаты</td>\n      <td>NaN</td>\n      <td>...</td>\n      <td>Простота трудоустройства</td>\n      <td>NaN</td>\n      <td>NaN</td>\n      <td>Не изучал(-а)</td>\n      <td>NaN</td>\n      <td>Скорее есть</td>\n      <td>NaN</td>\n      <td>Мужской</td>\n      <td>23.0</td>\n      <td>30 001 – 40 000 рублей</td>\n    </tr>\n    <tr>\n      <th>3</th>\n      <td>10</td>\n      <td>2022-02-16 18:28:47</td>\n      <td>2022-02-16 18:31:38</td>\n      <td>Через поиск в Google / Яндекс / другой поисков...</td>\n      <td>NaN</td>\n      <td>NaN</td>\n      <td>NaN</td>\n      <td>NaN</td>\n      <td>NaN</td>\n      <td>NaN</td>\n      <td>...</td>\n      <td>NaN</td>\n      <td>NaN</td>\n      <td>NaN</td>\n      <td>Не изучал(-а)</td>\n      <td>NaN</td>\n      <td>NaN</td>\n      <td>NaN</td>\n      <td>Женский</td>\n      <td>31.0</td>\n      <td>70 001 – 100 000 рублей</td>\n    </tr>\n    <tr>\n      <th>4</th>\n      <td>11</td>\n      <td>2022-02-16 18:34:18</td>\n      <td>2022-02-16 18:39:56</td>\n      <td>От блогера на YouTube (укажите имя блогера)</td>\n      <td>NaN</td>\n      <td>NaN</td>\n      <td>NaN</td>\n      <td>Сменить работу и сферу деятельности</td>\n      <td>NaN</td>\n      <td>NaN</td>\n      <td>...</td>\n      <td>Простота трудоустройства</td>\n      <td>NaN</td>\n      <td>NaN</td>\n      <td>Не изучал(-а)</td>\n      <td>NaN</td>\n      <td>NaN</td>\n      <td>NaN</td>\n      <td>Мужской</td>\n      <td>32.0</td>\n      <td>Предпочитаю не отвечать</td>\n    </tr>\n    <tr>\n      <th>...</th>\n      <td>...</td>\n      <td>...</td>\n      <td>...</td>\n      <td>...</td>\n      <td>...</td>\n      <td>...</td>\n      <td>...</td>\n      <td>...</td>\n      <td>...</td>\n      <td>...</td>\n      <td>...</td>\n      <td>...</td>\n      <td>...</td>\n      <td>...</td>\n      <td>...</td>\n      <td>...</td>\n      <td>...</td>\n      <td>...</td>\n      <td>...</td>\n      <td>...</td>\n      <td>...</td>\n    </tr>\n    <tr>\n      <th>9754</th>\n      <td>12117</td>\n      <td>2022-11-08 17:33:09</td>\n      <td>2022-11-08 17:36:14</td>\n      <td>Реклама в Facebook, Вконтакте</td>\n      <td>NaN</td>\n      <td>NaN</td>\n      <td>NaN</td>\n      <td>NaN</td>\n      <td>NaN</td>\n      <td>NaN</td>\n      <td>...</td>\n      <td>NaN</td>\n      <td>NaN</td>\n      <td>NaN</td>\n      <td>Не изучал(-а)</td>\n      <td>NaN</td>\n      <td>NaN</td>\n      <td>NaN</td>\n      <td>Женский</td>\n      <td>32.0</td>\n      <td>10 000 – 20 000 рублей</td>\n    </tr>\n    <tr>\n      <th>9755</th>\n      <td>12118</td>\n      <td>2022-11-08 18:43:53</td>\n      <td>2022-11-08 18:47:24</td>\n      <td>Другое</td>\n      <td>NaN</td>\n      <td>Vk</td>\n      <td>NaN</td>\n      <td>Сменить работу и сферу деятельности</td>\n      <td>NaN</td>\n      <td>NaN</td>\n      <td>...</td>\n      <td>Простота трудоустройства</td>\n      <td>NaN</td>\n      <td>NaN</td>\n      <td>Не изучал(-а)</td>\n      <td>NaN</td>\n      <td>NaN</td>\n      <td>NaN</td>\n      <td>Женский</td>\n      <td>29.0</td>\n      <td>30 001 – 40 000 рублей</td>\n    </tr>\n    <tr>\n      <th>9756</th>\n      <td>12120</td>\n      <td>2022-11-09 04:55:35</td>\n      <td>2022-11-09 05:01:33</td>\n      <td>Пост в Telegram</td>\n      <td>NaN</td>\n      <td>NaN</td>\n      <td>NaN</td>\n      <td>Сменить работу и сферу деятельности</td>\n      <td>NaN</td>\n      <td>Найти подработку</td>\n      <td>...</td>\n      <td>NaN</td>\n      <td>NaN</td>\n      <td>NaN</td>\n      <td>Не изучал(-а)</td>\n      <td>NaN</td>\n      <td>NaN</td>\n      <td>NaN</td>\n      <td>Женский</td>\n      <td>21.0</td>\n      <td>40 001 – 50 000 рублей</td>\n    </tr>\n    <tr>\n      <th>9757</th>\n      <td>12122</td>\n      <td>2022-11-09 06:20:17</td>\n      <td>2022-11-09 06:25:04</td>\n      <td>Комментарии, отзывы в соцсетях</td>\n      <td>NaN</td>\n      <td>NaN</td>\n      <td>NaN</td>\n      <td>NaN</td>\n      <td>NaN</td>\n      <td>Найти подработку</td>\n      <td>...</td>\n      <td>NaN</td>\n      <td>NaN</td>\n      <td>NaN</td>\n      <td>Не изучал(-а)</td>\n      <td>NaN</td>\n      <td>NaN</td>\n      <td>NaN</td>\n      <td>Женский</td>\n      <td>43.0</td>\n      <td>70 001 – 100 000 рублей</td>\n    </tr>\n    <tr>\n      <th>9758</th>\n      <td>12123</td>\n      <td>2022-11-09 06:32:41</td>\n      <td>2022-11-09 06:35:37</td>\n      <td>Другое</td>\n      <td>NaN</td>\n      <td>Авито</td>\n      <td>NaN</td>\n      <td>NaN</td>\n      <td>Увеличить уровень зарплаты</td>\n      <td>NaN</td>\n      <td>...</td>\n      <td>NaN</td>\n      <td>NaN</td>\n      <td>NaN</td>\n      <td>Не изучал(-а)</td>\n      <td>NaN</td>\n      <td>NaN</td>\n      <td>NaN</td>\n      <td>Женский</td>\n      <td>38.0</td>\n      <td>20 001 – 30 000 рублей</td>\n    </tr>\n  </tbody>\n</table>\n<p>9759 rows × 86 columns</p>\n</div>"
     },
     "execution_count": 2,
     "metadata": {},
     "output_type": "execute_result"
    }
   ],
   "source": [
    "data_raw = pd.read_excel('data_2.xlsx')\n",
    "data_raw"
   ],
   "metadata": {
    "collapsed": false
   }
  },
  {
   "cell_type": "code",
   "execution_count": 2,
   "outputs": [],
   "source": [],
   "metadata": {
    "collapsed": false
   }
  },
  {
   "cell_type": "code",
   "execution_count": 2,
   "outputs": [],
   "source": [],
   "metadata": {
    "collapsed": false
   }
  },
  {
   "cell_type": "code",
   "execution_count": 2,
   "outputs": [],
   "source": [],
   "metadata": {
    "collapsed": false
   }
  },
  {
   "cell_type": "code",
   "execution_count": 2,
   "outputs": [],
   "source": [],
   "metadata": {
    "collapsed": false
   }
  },
  {
   "cell_type": "code",
   "execution_count": 2,
   "outputs": [],
   "source": [],
   "metadata": {
    "collapsed": false
   }
  },
  {
   "cell_type": "code",
   "execution_count": 2,
   "outputs": [],
   "source": [],
   "metadata": {
    "collapsed": false
   }
  }
 ],
 "metadata": {
  "kernelspec": {
   "display_name": "Python 3",
   "language": "python",
   "name": "python3"
  },
  "language_info": {
   "codemirror_mode": {
    "name": "ipython",
    "version": 2
   },
   "file_extension": ".py",
   "mimetype": "text/x-python",
   "name": "python",
   "nbconvert_exporter": "python",
   "pygments_lexer": "ipython2",
   "version": "2.7.6"
  }
 },
 "nbformat": 4,
 "nbformat_minor": 0
}
