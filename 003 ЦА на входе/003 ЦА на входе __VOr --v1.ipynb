{
 "cells": [
  {
   "cell_type": "code",
   "execution_count": 43,
   "metadata": {
    "collapsed": true
   },
   "outputs": [],
   "source": [
    "import pandas as pd\n",
    "import numpy as np"
   ]
  },
  {
   "cell_type": "code",
   "execution_count": 100,
   "outputs": [],
   "source": [
    "data = pd.read_excel('data_2.xlsx')"
   ],
   "metadata": {
    "collapsed": false
   }
  },
  {
   "cell_type": "code",
   "execution_count": 109,
   "outputs": [],
   "source": [
    "# data.columns"
   ],
   "metadata": {
    "collapsed": false
   }
  },
  {
   "cell_type": "code",
   "execution_count": 110,
   "outputs": [],
   "source": [
    "binary_columns = ['TARGET Сменить работу в своей сфере деятельности',\n",
    "                  'TARGET Сменить работу и сферу деятельности',\n",
    "                  'TARGET Увеличить уровень зарплаты',\n",
    "                  'TARGET Найти подработку',\n",
    "                  'TARGET Устроиться на первую работу, стартовать карьеру',\n",
    "                  'TARGET Углубить имеющиеся навыки для текущей работы',\n",
    "                  'TARGET Для саморазвития',\n",
    "                  'TARGET Перейти на удаленную работу',\n",
    "                  'TARGET Подтянуть навыки для текущей работы',\n",
    "                  'TARGET Освоить навыки для применения в своем бизнесе',\n",
    "                  'TARGET В качестве запасного варианта работы, подстраховки на будущее',\n",
    "                  'TARGET Расширить кругозор без цели смены работы',\n",
    "                  'TARGET В качестве хобби, увлечения',\n",
    "                  'TARGET Другое',\n",
    "                  'SCHOOL_HEAD5 Цена ниже, чем у других компаний',\n",
    "                  'SCHOOL_HEAD5 Доверие бренду',\n",
    "                  'SCHOOL_HEAD5 Положительные отзывы в интернете',\n",
    "                  'SCHOOL_HEAD5 Выдача диплома о профессиональной переподготовке',\n",
    "                  'SCHOOL_HEAD5 Возможность учиться в любое удобное время',\n",
    "                  'SCHOOL_HEAD5 Помощь в трудоустройстве',\n",
    "                  'SCHOOL_HEAD5 Наличие в программе нужных мне тем',\n",
    "                  'SCHOOL_HEAD5 Помощь в выборе подходящей профессии',\n",
    "                  'SCHOOL_HEAD5 Рекомендации друзей, знакомых',\n",
    "                  'SCHOOL_HEAD5 Карьерный опыт преподавателей',\n",
    "                  'SCHOOL_HEAD5 Возможность оформить рассрочку при покупке',\n",
    "                  'SCHOOL_HEAD5 Оперативные ответы на ваши вопросы в ходе обучения',\n",
    "                  'SCHOOL_HEAD5 Возможность живого общения с наставником',\n",
    "                  'SCHOOL_HEAD5 Отсутствие установленных сроков сдачи работ',\n",
    "                  'SCHOOL_HEAD5 Истории успеха выпускников',\n",
    "                  'SCHOOL_HEAD5 Кейсы из практики для портфолио',\n",
    "                  'SCHOOL_HEAD5 Другое',\n",
    "                  'SCHOOL_TAIL5 Цена ниже, чем у других компаний',\n",
    "                  'SCHOOL_TAIL5 Доверие бренду',\n",
    "                  'SCHOOL_TAIL5 Положительные отзывы в интернете',\n",
    "                  'SCHOOL_TAIL5 Выдача диплома о профессиональной переподготовке',\n",
    "                  'SCHOOL_TAIL5 Возможность учиться в любое удобное время',\n",
    "                  'SCHOOL_TAIL5 Помощь в трудоустройстве',\n",
    "                  'SCHOOL_TAIL5 Наличие в программе нужных мне тем',\n",
    "                  'SCHOOL_TAIL5 Помощь в выборе подходящей профессии',\n",
    "                  'SCHOOL_TAIL5 Рекомендации друзей, знакомых',\n",
    "                  'SCHOOL_TAIL5 Карьерный опыт преподавателей',\n",
    "                  'SCHOOL_TAIL5 Возможность оформить рассрочку при покупке',\n",
    "                  'SCHOOL_TAIL5 Оперативные ответы на ваши вопросы в ходе обучения',\n",
    "                  'SCHOOL_TAIL5 Возможность живого общения с наставником',\n",
    "                  'SCHOOL_TAIL5 Отсутствие установленных сроков сдачи работ',\n",
    "                  'SCHOOL_TAIL5 Истории успеха выпускников',\n",
    "                  'SCHOOL_TAIL5 Кейсы из практики для портфолио',\n",
    "                  'COURSE Аналитик данных',\n",
    "                  'COURSE Инженер по тестированию',\n",
    "                  'COURSE Python-разработчик',\n",
    "                  'COURSE Java-разработчик',\n",
    "                  'COURSE Android-разработчик',\n",
    "                  'COURSE Frontend-разработчик',\n",
    "                  'COURSE Маркетинг',\n",
    "                  'COURSE Веб-дизайн',\n",
    "                  'COURSE Другие',\n",
    "                  'COURSE Затрудняюсь ответить',\n",
    "                  'PROFESSION Востребованность профессии',\n",
    "                  'PROFESSION Более высокая зарплата в этой профессии',\n",
    "                  'PROFESSION Более интересный род занятий в работе',\n",
    "                  'PROFESSION Перспективы карьерного роста',\n",
    "                  'PROFESSION Наличие определенных знаний до обучения',\n",
    "                  'PROFESSION Возможность применять знания в текущей работе',\n",
    "                  'PROFESSION Возможность работать удаленно',\n",
    "                  'PROFESSION Возможность работать в IT-сфере',\n",
    "                  'PROFESSION Простота трудоустройства',\n",
    "                  'PROFESSION Другое']\n",
    "df = data.copy()\n",
    "df[binary_columns] = df[binary_columns].fillna(0)\n",
    "for each in binary_columns:\n",
    "    df.loc[df[each] != 0, each] = 1\n",
    "    df[each] = df[each].apply(np.int64)\n",
    "sex = {'Мужской': 1, 'Женский': 0}\n",
    "df['SEX'] = df['SEX'].map(sex).apply(np.int64)\n",
    "binary_columns.append(\"SEX\")\n",
    "universities = {'Не изучал(-а)': 0, 'Изучал(-а) (укажите, каких)': 1}\n",
    "df['OTHER_UNIVERSITIES'] = df['OTHER_UNIVERSITIES'].map(universities).apply(np.int64)\n",
    "binary_columns.append(\"OTHER_UNIVERSITIES\")"
   ],
   "metadata": {
    "collapsed": false
   }
  },
  {
   "cell_type": "code",
   "execution_count": 111,
   "outputs": [
    {
     "data": {
      "text/plain": "      TARGET Сменить работу в своей сфере деятельности  \\\n0                                                    0   \n1                                                    0   \n2                                                    0   \n3                                                    0   \n4                                                    0   \n...                                                ...   \n9754                                                 0   \n9755                                                 0   \n9756                                                 0   \n9757                                                 0   \n9758                                                 0   \n\n      TARGET Сменить работу и сферу деятельности  \\\n0                                              0   \n1                                              1   \n2                                              0   \n3                                              0   \n4                                              1   \n...                                          ...   \n9754                                           0   \n9755                                           1   \n9756                                           1   \n9757                                           0   \n9758                                           0   \n\n      TARGET Увеличить уровень зарплаты  TARGET Найти подработку  \\\n0                                     0                        0   \n1                                     0                        0   \n2                                     1                        0   \n3                                     0                        0   \n4                                     0                        0   \n...                                 ...                      ...   \n9754                                  0                        0   \n9755                                  0                        0   \n9756                                  0                        1   \n9757                                  0                        1   \n9758                                  1                        0   \n\n      TARGET Устроиться на первую работу, стартовать карьеру  \\\n0                                                     1        \n1                                                     0        \n2                                                     0        \n3                                                     0        \n4                                                     0        \n...                                                 ...        \n9754                                                  0        \n9755                                                  0        \n9756                                                  1        \n9757                                                  0        \n9758                                                  0        \n\n      TARGET Углубить имеющиеся навыки для текущей работы  \\\n0                                                     0     \n1                                                     0     \n2                                                     0     \n3                                                     1     \n4                                                     0     \n...                                                 ...     \n9754                                                  0     \n9755                                                  0     \n9756                                                  0     \n9757                                                  0     \n9758                                                  0     \n\n      TARGET Для саморазвития  TARGET Перейти на удаленную работу  \\\n0                           1                                   0   \n1                           0                                   0   \n2                           1                                   1   \n3                           0                                   0   \n4                           0                                   0   \n...                       ...                                 ...   \n9754                        1                                   0   \n9755                        0                                   0   \n9756                        0                                   1   \n9757                        1                                   1   \n9758                        0                                   1   \n\n      TARGET Подтянуть навыки для текущей работы  \\\n0                                              0   \n1                                              0   \n2                                              0   \n3                                              1   \n4                                              0   \n...                                          ...   \n9754                                           0   \n9755                                           0   \n9756                                           0   \n9757                                           1   \n9758                                           0   \n\n      TARGET Освоить навыки для применения в своем бизнесе  \\\n0                                                     0      \n1                                                     0      \n2                                                     0      \n3                                                     0      \n4                                                     0      \n...                                                 ...      \n9754                                                  0      \n9755                                                  0      \n9756                                                  0      \n9757                                                  0      \n9758                                                  1      \n\n      TARGET В качестве запасного варианта работы, подстраховки на будущее  \\\n0                                                     0                      \n1                                                     0                      \n2                                                     1                      \n3                                                     0                      \n4                                                     0                      \n...                                                 ...                      \n9754                                                  1                      \n9755                                                  0                      \n9756                                                  0                      \n9757                                                  1                      \n9758                                                  0                      \n\n      TARGET Расширить кругозор без цели смены работы  \\\n0                                                   0   \n1                                                   0   \n2                                                   0   \n3                                                   1   \n4                                                   0   \n...                                               ...   \n9754                                                0   \n9755                                                0   \n9756                                                0   \n9757                                                0   \n9758                                                0   \n\n      TARGET В качестве хобби, увлечения  TARGET Другое  \n0                                      0              0  \n1                                      0              0  \n2                                      0              0  \n3                                      0              0  \n4                                      0              0  \n...                                  ...            ...  \n9754                                   1              0  \n9755                                   0              0  \n9756                                   0              0  \n9757                                   0              0  \n9758                                   0              0  \n\n[9759 rows x 14 columns]",
      "text/html": "<div>\n<style scoped>\n    .dataframe tbody tr th:only-of-type {\n        vertical-align: middle;\n    }\n\n    .dataframe tbody tr th {\n        vertical-align: top;\n    }\n\n    .dataframe thead th {\n        text-align: right;\n    }\n</style>\n<table border=\"1\" class=\"dataframe\">\n  <thead>\n    <tr style=\"text-align: right;\">\n      <th></th>\n      <th>TARGET Сменить работу в своей сфере деятельности</th>\n      <th>TARGET Сменить работу и сферу деятельности</th>\n      <th>TARGET Увеличить уровень зарплаты</th>\n      <th>TARGET Найти подработку</th>\n      <th>TARGET Устроиться на первую работу, стартовать карьеру</th>\n      <th>TARGET Углубить имеющиеся навыки для текущей работы</th>\n      <th>TARGET Для саморазвития</th>\n      <th>TARGET Перейти на удаленную работу</th>\n      <th>TARGET Подтянуть навыки для текущей работы</th>\n      <th>TARGET Освоить навыки для применения в своем бизнесе</th>\n      <th>TARGET В качестве запасного варианта работы, подстраховки на будущее</th>\n      <th>TARGET Расширить кругозор без цели смены работы</th>\n      <th>TARGET В качестве хобби, увлечения</th>\n      <th>TARGET Другое</th>\n    </tr>\n  </thead>\n  <tbody>\n    <tr>\n      <th>0</th>\n      <td>0</td>\n      <td>0</td>\n      <td>0</td>\n      <td>0</td>\n      <td>1</td>\n      <td>0</td>\n      <td>1</td>\n      <td>0</td>\n      <td>0</td>\n      <td>0</td>\n      <td>0</td>\n      <td>0</td>\n      <td>0</td>\n      <td>0</td>\n    </tr>\n    <tr>\n      <th>1</th>\n      <td>0</td>\n      <td>1</td>\n      <td>0</td>\n      <td>0</td>\n      <td>0</td>\n      <td>0</td>\n      <td>0</td>\n      <td>0</td>\n      <td>0</td>\n      <td>0</td>\n      <td>0</td>\n      <td>0</td>\n      <td>0</td>\n      <td>0</td>\n    </tr>\n    <tr>\n      <th>2</th>\n      <td>0</td>\n      <td>0</td>\n      <td>1</td>\n      <td>0</td>\n      <td>0</td>\n      <td>0</td>\n      <td>1</td>\n      <td>1</td>\n      <td>0</td>\n      <td>0</td>\n      <td>1</td>\n      <td>0</td>\n      <td>0</td>\n      <td>0</td>\n    </tr>\n    <tr>\n      <th>3</th>\n      <td>0</td>\n      <td>0</td>\n      <td>0</td>\n      <td>0</td>\n      <td>0</td>\n      <td>1</td>\n      <td>0</td>\n      <td>0</td>\n      <td>1</td>\n      <td>0</td>\n      <td>0</td>\n      <td>1</td>\n      <td>0</td>\n      <td>0</td>\n    </tr>\n    <tr>\n      <th>4</th>\n      <td>0</td>\n      <td>1</td>\n      <td>0</td>\n      <td>0</td>\n      <td>0</td>\n      <td>0</td>\n      <td>0</td>\n      <td>0</td>\n      <td>0</td>\n      <td>0</td>\n      <td>0</td>\n      <td>0</td>\n      <td>0</td>\n      <td>0</td>\n    </tr>\n    <tr>\n      <th>...</th>\n      <td>...</td>\n      <td>...</td>\n      <td>...</td>\n      <td>...</td>\n      <td>...</td>\n      <td>...</td>\n      <td>...</td>\n      <td>...</td>\n      <td>...</td>\n      <td>...</td>\n      <td>...</td>\n      <td>...</td>\n      <td>...</td>\n      <td>...</td>\n    </tr>\n    <tr>\n      <th>9754</th>\n      <td>0</td>\n      <td>0</td>\n      <td>0</td>\n      <td>0</td>\n      <td>0</td>\n      <td>0</td>\n      <td>1</td>\n      <td>0</td>\n      <td>0</td>\n      <td>0</td>\n      <td>1</td>\n      <td>0</td>\n      <td>1</td>\n      <td>0</td>\n    </tr>\n    <tr>\n      <th>9755</th>\n      <td>0</td>\n      <td>1</td>\n      <td>0</td>\n      <td>0</td>\n      <td>0</td>\n      <td>0</td>\n      <td>0</td>\n      <td>0</td>\n      <td>0</td>\n      <td>0</td>\n      <td>0</td>\n      <td>0</td>\n      <td>0</td>\n      <td>0</td>\n    </tr>\n    <tr>\n      <th>9756</th>\n      <td>0</td>\n      <td>1</td>\n      <td>0</td>\n      <td>1</td>\n      <td>1</td>\n      <td>0</td>\n      <td>0</td>\n      <td>1</td>\n      <td>0</td>\n      <td>0</td>\n      <td>0</td>\n      <td>0</td>\n      <td>0</td>\n      <td>0</td>\n    </tr>\n    <tr>\n      <th>9757</th>\n      <td>0</td>\n      <td>0</td>\n      <td>0</td>\n      <td>1</td>\n      <td>0</td>\n      <td>0</td>\n      <td>1</td>\n      <td>1</td>\n      <td>1</td>\n      <td>0</td>\n      <td>1</td>\n      <td>0</td>\n      <td>0</td>\n      <td>0</td>\n    </tr>\n    <tr>\n      <th>9758</th>\n      <td>0</td>\n      <td>0</td>\n      <td>1</td>\n      <td>0</td>\n      <td>0</td>\n      <td>0</td>\n      <td>0</td>\n      <td>1</td>\n      <td>0</td>\n      <td>1</td>\n      <td>0</td>\n      <td>0</td>\n      <td>0</td>\n      <td>0</td>\n    </tr>\n  </tbody>\n</table>\n<p>9759 rows × 14 columns</p>\n</div>"
     },
     "execution_count": 111,
     "metadata": {},
     "output_type": "execute_result"
    }
   ],
   "source": [
    "df.loc[:, binary_columns].filter(regex='TARGET')"
   ],
   "metadata": {
    "collapsed": false
   }
  },
  {
   "cell_type": "code",
   "execution_count": 112,
   "outputs": [
    {
     "name": "stdout",
     "output_type": "stream",
     "text": [
      "0 >>> TARGET Сменить работу в своей сфере деятельности\n",
      "1 >>> TARGET Сменить работу и сферу деятельности\n",
      "2 >>> TARGET Увеличить уровень зарплаты\n",
      "3 >>> TARGET Найти подработку\n",
      "4 >>> TARGET Устроиться на первую работу, стартовать карьеру\n",
      "5 >>> TARGET Углубить имеющиеся навыки для текущей работы\n",
      "6 >>> TARGET Для саморазвития\n",
      "7 >>> TARGET Перейти на удаленную работу\n",
      "8 >>> TARGET Подтянуть навыки для текущей работы\n",
      "9 >>> TARGET Освоить навыки для применения в своем бизнесе\n",
      "10 >>> TARGET В качестве запасного варианта работы, подстраховки на будущее\n",
      "11 >>> TARGET Расширить кругозор без цели смены работы\n",
      "12 >>> TARGET В качестве хобби, увлечения\n",
      "13 >>> TARGET Другое\n",
      "14 >>> SCHOOL_HEAD5 Цена ниже, чем у других компаний\n",
      "15 >>> SCHOOL_HEAD5 Доверие бренду\n",
      "16 >>> SCHOOL_HEAD5 Положительные отзывы в интернете\n",
      "17 >>> SCHOOL_HEAD5 Выдача диплома о профессиональной переподготовке\n",
      "18 >>> SCHOOL_HEAD5 Возможность учиться в любое удобное время\n",
      "19 >>> SCHOOL_HEAD5 Помощь в трудоустройстве\n",
      "20 >>> SCHOOL_HEAD5 Наличие в программе нужных мне тем\n",
      "21 >>> SCHOOL_HEAD5 Помощь в выборе подходящей профессии\n",
      "22 >>> SCHOOL_HEAD5 Рекомендации друзей, знакомых\n",
      "23 >>> SCHOOL_HEAD5 Карьерный опыт преподавателей\n",
      "24 >>> SCHOOL_HEAD5 Возможность оформить рассрочку при покупке\n",
      "25 >>> SCHOOL_HEAD5 Оперативные ответы на ваши вопросы в ходе обучения\n",
      "26 >>> SCHOOL_HEAD5 Возможность живого общения с наставником\n",
      "27 >>> SCHOOL_HEAD5 Отсутствие установленных сроков сдачи работ\n",
      "28 >>> SCHOOL_HEAD5 Истории успеха выпускников\n",
      "29 >>> SCHOOL_HEAD5 Кейсы из практики для портфолио\n",
      "30 >>> SCHOOL_HEAD5 Другое\n",
      "31 >>> SCHOOL_TAIL5 Цена ниже, чем у других компаний\n",
      "32 >>> SCHOOL_TAIL5 Доверие бренду\n",
      "33 >>> SCHOOL_TAIL5 Положительные отзывы в интернете\n",
      "34 >>> SCHOOL_TAIL5 Выдача диплома о профессиональной переподготовке\n",
      "35 >>> SCHOOL_TAIL5 Возможность учиться в любое удобное время\n",
      "36 >>> SCHOOL_TAIL5 Помощь в трудоустройстве\n",
      "37 >>> SCHOOL_TAIL5 Наличие в программе нужных мне тем\n",
      "38 >>> SCHOOL_TAIL5 Помощь в выборе подходящей профессии\n",
      "39 >>> SCHOOL_TAIL5 Рекомендации друзей, знакомых\n",
      "40 >>> SCHOOL_TAIL5 Карьерный опыт преподавателей\n",
      "41 >>> SCHOOL_TAIL5 Возможность оформить рассрочку при покупке\n",
      "42 >>> SCHOOL_TAIL5 Оперативные ответы на ваши вопросы в ходе обучения\n",
      "43 >>> SCHOOL_TAIL5 Возможность живого общения с наставником\n",
      "44 >>> SCHOOL_TAIL5 Отсутствие установленных сроков сдачи работ\n",
      "45 >>> SCHOOL_TAIL5 Истории успеха выпускников\n",
      "46 >>> SCHOOL_TAIL5 Кейсы из практики для портфолио\n",
      "47 >>> COURSE Аналитик данных\n",
      "48 >>> COURSE Инженер по тестированию\n",
      "49 >>> COURSE Python-разработчик\n",
      "50 >>> COURSE Java-разработчик\n",
      "51 >>> COURSE Android-разработчик\n",
      "52 >>> COURSE Frontend-разработчик\n",
      "53 >>> COURSE Маркетинг\n",
      "54 >>> COURSE Веб-дизайн\n",
      "55 >>> COURSE Другие\n",
      "56 >>> COURSE Затрудняюсь ответить\n",
      "57 >>> PROFESSION Востребованность профессии\n",
      "58 >>> PROFESSION Более высокая зарплата в этой профессии\n",
      "59 >>> PROFESSION Более интересный род занятий в работе\n",
      "60 >>> PROFESSION Перспективы карьерного роста\n",
      "61 >>> PROFESSION Наличие определенных знаний до обучения\n",
      "62 >>> PROFESSION Возможность применять знания в текущей работе\n",
      "63 >>> PROFESSION Возможность работать удаленно\n",
      "64 >>> PROFESSION Возможность работать в IT-сфере\n",
      "65 >>> PROFESSION Простота трудоустройства\n",
      "66 >>> PROFESSION Другое\n",
      "67 >>> SEX\n",
      "68 >>> OTHER_UNIVERSITIES\n"
     ]
    }
   ],
   "source": [
    "for k, v in enumerate(binary_columns):\n",
    "    print(k, v, sep=' >>> ')"
   ],
   "metadata": {
    "collapsed": false
   }
  },
  {
   "cell_type": "code",
   "execution_count": 113,
   "outputs": [],
   "source": [
    "target = binary_columns[0:13]\n",
    "school_head5 = binary_columns[14:30]\n",
    "school_tail5 = binary_columns[31:46]\n",
    "course = binary_columns[47:56]\n",
    "profession = binary_columns[57:66]"
   ],
   "metadata": {
    "collapsed": false
   }
  },
  {
   "cell_type": "code",
   "execution_count": 114,
   "outputs": [],
   "source": [],
   "metadata": {
    "collapsed": false
   }
  },
  {
   "cell_type": "code",
   "execution_count": 114,
   "outputs": [],
   "source": [],
   "metadata": {
    "collapsed": false
   }
  }
 ],
 "metadata": {
  "kernelspec": {
   "display_name": "Python 3",
   "language": "python",
   "name": "python3"
  },
  "language_info": {
   "codemirror_mode": {
    "name": "ipython",
    "version": 2
   },
   "file_extension": ".py",
   "mimetype": "text/x-python",
   "name": "python",
   "nbconvert_exporter": "python",
   "pygments_lexer": "ipython2",
   "version": "2.7.6"
  }
 },
 "nbformat": 4,
 "nbformat_minor": 0
}
