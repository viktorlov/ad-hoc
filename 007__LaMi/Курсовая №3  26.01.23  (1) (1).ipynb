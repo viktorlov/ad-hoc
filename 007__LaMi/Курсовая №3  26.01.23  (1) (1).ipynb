{
 "cells": [
  {
   "cell_type": "code",
   "execution_count": 1,
   "id": "46d49265",
   "metadata": {},
   "outputs": [],
   "source": [
    "### Задача 1\n",
    "\n",
    "#Постройте в Python функцию **statistical_analysis**, которая будет проводить анализ выборки. \n",
    "\n",
    "#**На вход она берет:**\n",
    "\n",
    "#- один ряд ***r*** в формате «список» (*list*) или «кортеж» (*tuple*). Это ряд, который необходимо исследовать.\n",
    "#- один ряд ***q*** в формате «список» (*list*). Это ряд квантильных порогов, для которых необходимо вычислить квантильные значения ряда ***r***. Аргумент ***q*** должен иметь значение по умолчанию *q=[0.1,0.25,0.3,0.4,0.5,0.6,0.75,0.9]* (но при желании значение ряда ***q*** можно было бы заменить)\n",
    "\n",
    "#**И делает следующие шаги:**\n",
    "\n",
    "#1. Проводит проверку на тип данных ряда : если тип данных ряда ***r*** не «список» (*list*) или «кортеж» (*tuple*), то выводит ошибку «Нужен список или кортеж!»  \n",
    "#2. Проводит проверку на длину ряда ***r***: если в нём 4 наблюдения или меньше, то выдает ошибку «Требуется более длинный ряд».\n",
    "#3. Проводит преобразование типа данных «список» (*list*) или «кортеж» (*tuple*) в тип данных Series (*pandas*).\n",
    "#4. Для ряда выводит (с помощью *print* и расшифровки) среднее (метод Series “*mean*”), дисперсию (метод Series “*var*”), стандартное отклонение (метод Series “*std*”).\n",
    "    \n",
    " #   Также записывает эти значения во внутренние переменные и возвращает эти переменные в *return*.\n",
    "    \n",
    "#5. С помощью функции *quantile* из библиотеки *numpy* функция рассчитывает и записывает в отдельную переменную ***qs*** список из квантилей, соответствующих квантильным порогам из ***q***. \n",
    "    \n",
    "    #Можно прочитать документацию функции *quantile:* [https://numpy.org/doc/stable/reference/generated/numpy.quantile.html](https://numpy.org/doc/stable/reference/generated/numpy.quantile.html)\n",
    "    \n",
    "  #  Ряд ***qs*** также должен быть в return функции (вместе со средним, дисперсией и стандартным отклонением из пункта-4).\n",
    "    \n",
    "#6. Оформляет принт результатов квантильного анализа. Для этого необходимо проверить, есть ли среди указанных в аргументе квантильных порогов те, что соответствуют ***медиане***, ***квартилям*** или ***децилям***. Если такие квантильные пороги есть, то для каждого из них оформите print с указанием квантильного порога и его значения.\n",
    "#7. Для ряда функции **statistical_analysis** строит гистограмму с помощью библиотеки *seaborn*."
   ]
  },
  {
   "cell_type": "code",
   "execution_count": 2,
   "id": "216fc64f",
   "metadata": {},
   "outputs": [],
   "source": [
    "import pandas as pd\n",
    "import numpy as np"
   ]
  },
  {
   "cell_type": "code",
   "execution_count": 3,
   "id": "8fe93682",
   "metadata": {},
   "outputs": [],
   "source": [
    "import matplotlib.pyplot as plt\n",
    "import seaborn as sns  #скачиваем библиотеку для гистограммы"
   ]
  },
  {
   "cell_type": "code",
   "execution_count": 4,
   "id": "6b101bcb",
   "metadata": {},
   "outputs": [
    {
     "data": {
      "text/plain": "       id_client id_group  sum_pay  id_point  months_reg\n0        1420218     test   3288.0    1199.0           8\n1        1390221  control   1267.0    1182.0          11\n2        1363404  control   4259.0    1178.0           2\n3        1370042     test   7211.0    1179.0           3\n4        1360376  control    760.0    1178.0          14\n...          ...      ...      ...       ...         ...\n10971    1359021  control    799.0    1178.0           3\n10972    1363347  control   4825.0    1178.0           6\n10973    1373031     test    673.0    1179.0           1\n10974    1370292     test   1120.0    1179.0           1\n10975    1370038     test   5348.0    1179.0           8\n\n[10976 rows x 5 columns]",
      "text/html": "<div>\n<style scoped>\n    .dataframe tbody tr th:only-of-type {\n        vertical-align: middle;\n    }\n\n    .dataframe tbody tr th {\n        vertical-align: top;\n    }\n\n    .dataframe thead th {\n        text-align: right;\n    }\n</style>\n<table border=\"1\" class=\"dataframe\">\n  <thead>\n    <tr style=\"text-align: right;\">\n      <th></th>\n      <th>id_client</th>\n      <th>id_group</th>\n      <th>sum_pay</th>\n      <th>id_point</th>\n      <th>months_reg</th>\n    </tr>\n  </thead>\n  <tbody>\n    <tr>\n      <th>0</th>\n      <td>1420218</td>\n      <td>test</td>\n      <td>3288.0</td>\n      <td>1199.0</td>\n      <td>8</td>\n    </tr>\n    <tr>\n      <th>1</th>\n      <td>1390221</td>\n      <td>control</td>\n      <td>1267.0</td>\n      <td>1182.0</td>\n      <td>11</td>\n    </tr>\n    <tr>\n      <th>2</th>\n      <td>1363404</td>\n      <td>control</td>\n      <td>4259.0</td>\n      <td>1178.0</td>\n      <td>2</td>\n    </tr>\n    <tr>\n      <th>3</th>\n      <td>1370042</td>\n      <td>test</td>\n      <td>7211.0</td>\n      <td>1179.0</td>\n      <td>3</td>\n    </tr>\n    <tr>\n      <th>4</th>\n      <td>1360376</td>\n      <td>control</td>\n      <td>760.0</td>\n      <td>1178.0</td>\n      <td>14</td>\n    </tr>\n    <tr>\n      <th>...</th>\n      <td>...</td>\n      <td>...</td>\n      <td>...</td>\n      <td>...</td>\n      <td>...</td>\n    </tr>\n    <tr>\n      <th>10971</th>\n      <td>1359021</td>\n      <td>control</td>\n      <td>799.0</td>\n      <td>1178.0</td>\n      <td>3</td>\n    </tr>\n    <tr>\n      <th>10972</th>\n      <td>1363347</td>\n      <td>control</td>\n      <td>4825.0</td>\n      <td>1178.0</td>\n      <td>6</td>\n    </tr>\n    <tr>\n      <th>10973</th>\n      <td>1373031</td>\n      <td>test</td>\n      <td>673.0</td>\n      <td>1179.0</td>\n      <td>1</td>\n    </tr>\n    <tr>\n      <th>10974</th>\n      <td>1370292</td>\n      <td>test</td>\n      <td>1120.0</td>\n      <td>1179.0</td>\n      <td>1</td>\n    </tr>\n    <tr>\n      <th>10975</th>\n      <td>1370038</td>\n      <td>test</td>\n      <td>5348.0</td>\n      <td>1179.0</td>\n      <td>8</td>\n    </tr>\n  </tbody>\n</table>\n<p>10976 rows × 5 columns</p>\n</div>"
     },
     "execution_count": 4,
     "metadata": {},
     "output_type": "execute_result"
    }
   ],
   "source": [
    "df = pd.read_csv('Dataset_AB_TEST.csv',sep = ';')\n",
    "df"
   ]
  },
  {
   "cell_type": "code",
   "execution_count": 5,
   "id": "42c4643f",
   "metadata": {},
   "outputs": [
    {
     "name": "stdout",
     "output_type": "stream",
     "text": [
      "<class 'pandas.core.frame.DataFrame'>\n",
      "RangeIndex: 10976 entries, 0 to 10975\n",
      "Data columns (total 5 columns):\n",
      " #   Column      Non-Null Count  Dtype  \n",
      "---  ------      --------------  -----  \n",
      " 0   id_client   10976 non-null  int64  \n",
      " 1   id_group    10902 non-null  object \n",
      " 2   sum_pay     10849 non-null  float64\n",
      " 3   id_point    10895 non-null  float64\n",
      " 4   months_reg  10976 non-null  int64  \n",
      "dtypes: float64(2), int64(2), object(1)\n",
      "memory usage: 428.9+ KB\n"
     ]
    }
   ],
   "source": [
    "df.info()"
   ]
  },
  {
   "cell_type": "code",
   "execution_count": 6,
   "id": "97394a1e",
   "metadata": {},
   "outputs": [],
   "source": [
    "#import numpy as np"
   ]
  },
  {
   "cell_type": "code",
   "execution_count": 7,
   "id": "1e4fa8ee",
   "metadata": {},
   "outputs": [],
   "source": [
    "r=[1, 47, 3, 12, 65]\n",
    "q=[0.1,0.25,0.3,0.4,0.5,0.6,0.75,0.9] \n",
    "\n",
    "def statistical_analysis(r, q):\n",
    "    if (type(r) != list) and (type(r) != tuple):\n",
    "        print('Нужен список или кортеж!') #1 задание\n",
    "    elif len(r) <= 4:\n",
    "        print ('Требуется более длинный ряд') #2 задание\n",
    "    else: \n",
    "        r2 = pd.Series(r) #3. Проводит преобразование типа данных «список» (*list*) или «кортеж» (*tuple*) в тип данных Series (*pandas*).\n",
    "        q2 = pd.Series(q)\n",
    "        print('Среднее = ', r2.mean(), 'Дисперсия =', r2.var(), 'Стандартное отклонение =', r2.std(), r2.describe())  #4 задание\n",
    "        r2_mean = r2.mean() #преобразованные данные в тип данных сериас считаем среднюю\n",
    "        r2_var = r2.var() #считаем дисперсию\n",
    "        r2_std = r2.std() #считаем стандарт.отклонение\n",
    "        qs = np.quantile(r2, q2) #это 5 задание\n",
    "        plt.figure(figsize=(10, 5))  # Зададим размер фигуры\n",
    "        plt.title('Магия вне Хогвартса') # Подпишем заголовок графика\n",
    "        plt.grid() # Добавим сетку\n",
    "        df = sns.load_dataset(\"penguins\")\n",
    "        sns.barplot(x=r2, y=q2)\n",
    "\n",
    "        plt.show()\n",
    "        for i in range(0, len(q)):\n",
    "            if q[i] % 0.5 == 0:\n",
    "                print('Медиана (', q[i],') = ', qs[i])\n",
    "            elif q[i] % 0.25 == 0:\n",
    "                print('Квартиль (', q[i],') = ', qs[i])\n",
    "            elif q[i] % 0.1 == 0:\n",
    "                print('Дециль (', q[i],') = ', qs[i])\n",
    "            elif q[i] % 0.3 == 0:\n",
    "                print('Дециль (', q[i],') = ', qs[i])\n",
    "            elif q[i] % 0.9 == 0:\n",
    "                print('Дециль (', q[i],') = ', qs[i])\n",
    "            else:\n",
    "                print(q[i],'Не является медианой, квантилем, децилем!')\n",
    "\n",
    "#        print('Медиана (', q[4],') = ', qs[4]) #это задание 6\n",
    "#        print('Квартиль (', q[1],') = ', qs[1])\n",
    "#        print('Квартиль (', q[6],') = ', qs[6])\n",
    "#        print('Дециль (', q[0],') = ', qs[0])\n",
    "#        print('Дециль (', q[2],') = ', qs[2])\n",
    "#        print('Дециль (', q[3],') = ', qs[3])\n",
    "#        print('Дециль (', q[5],') = ', qs[5])\n",
    "#        print('Дециль (', q[7],') = ', qs[7])     \n"
   ]
  },
  {
   "cell_type": "code",
   "execution_count": 8,
   "id": "8eb895b9",
   "metadata": {
    "scrolled": false
   },
   "outputs": [
    {
     "name": "stdout",
     "output_type": "stream",
     "text": [
      "Среднее =  25.6 Дисперсия = 827.8 Стандартное отклонение = 28.771513689759182 count     5.000000\n",
      "mean     25.600000\n",
      "std      28.771514\n",
      "min       1.000000\n",
      "25%       3.000000\n",
      "50%      12.000000\n",
      "75%      47.000000\n",
      "max      65.000000\n",
      "dtype: float64\n"
     ]
    },
    {
     "data": {
      "text/plain": "<Figure size 1000x500 with 1 Axes>",
      "image/png": "[encoded data removed]"
     },
     "metadata": {},
     "output_type": "display_data"
    },
    {
     "name": "stdout",
     "output_type": "stream",
     "text": [
      "Дециль ( 0.1 ) =  1.8\n",
      "Квартиль ( 0.25 ) =  3.0\n",
      "Дециль ( 0.3 ) =  4.8\n",
      "Дециль ( 0.4 ) =  8.4\n",
      "Медиана ( 0.5 ) =  12.0\n",
      "Дециль ( 0.6 ) =  25.999999999999996\n",
      "Квартиль ( 0.75 ) =  47.0\n",
      "Дециль ( 0.9 ) =  57.800000000000004\n"
     ]
    }
   ],
   "source": [
    "statistical_analysis(r, q)"
   ]
  },
  {
   "cell_type": "code",
   "execution_count": 9,
   "id": "029cbf93",
   "metadata": {},
   "outputs": [],
   "source": [
    "### Задача 2\n",
    "\n",
    "#Постройте в Python функцию ***test_calc***, которая будет проводить t-тест на равенство средних двух выборок. \n",
    "\n",
    "#**На вход она берет:**\n",
    "\n",
    "#- Ряд 1 (***r1***)\n",
    "#- Ряд 2 (***r2***)\n",
    "#- Уровень значимости ***alpha*** (имеет дефолтное значение = 5%)\n",
    "\n",
    "#**И делает следующие шаги:**\n",
    "\n",
    "#1. Вычисляет значение *t-критерия* и его *p_value* по сравнению средних значений рядов ***r1*** и ***r2.*** \n",
    "#Лучше всего воспользоваться функцией *ttest_ind* из библиотеки *scipy.stats.* Эти значения сохраняются \n",
    "#во внутренние переменные (значение t-критерия в переменную ***s,*** p_value в переменную ***p***).\n",
    "#2. Возвращает (*return*) переменные ***s*** и ***p***.\n",
    "#3. Оформляет принт результатов, принимается ли нулевая гипотеза о равенстве средних или нет \n",
    "#на основании сравнения полученного *p_value* (переменная ***р***) и аргумента ***alpha.***"
   ]
  },
  {
   "cell_type": "code",
   "execution_count": 10,
   "id": "c66edee2",
   "metadata": {},
   "outputs": [],
   "source": [
    "from scipy import stats as st\n",
    "from scipy.stats import ttest_ind  #загружаем титест"
   ]
  },
  {
   "cell_type": "code",
   "execution_count": 11,
   "id": "ef2f75a7",
   "metadata": {},
   "outputs": [],
   "source": [
    "r1 = df [ df ['id_group'] == 'control']  #создаем новую таблицу r1 \n",
    "#r2 = df [ df ['id_group'] == 'test'] ['sum_pay']\n",
    "r2 = df [ df ['id_group'] == 'test'] \n"
   ]
  },
  {
   "cell_type": "code",
   "execution_count": 12,
   "id": "fbfc69c7",
   "metadata": {},
   "outputs": [
    {
     "data": {
      "text/plain": "(       id_client id_group  sum_pay  id_point  months_reg\n 1        1390221  control   1267.0    1182.0          11\n 2        1363404  control   4259.0    1178.0           2\n 4        1360376  control    760.0    1178.0          14\n 7        1373231  control   4008.0    1179.0           0\n 9        1373288  control   4109.0    1179.0           8\n ...          ...      ...      ...       ...         ...\n 10966    1391333  control   2704.0    1182.0           5\n 10969    1389984  control   1818.0    1182.0           2\n 10970    1362847  control   2055.0    1178.0           4\n 10971    1359021  control    799.0    1178.0           3\n 10972    1363347  control   4825.0    1178.0           6\n \n [5202 rows x 5 columns],\n        id_client id_group  sum_pay  id_point  months_reg\n 0        1420218     test   3288.0    1199.0           8\n 3        1370042     test   7211.0    1179.0           3\n 5        1371160     test    218.0    1179.0           5\n 6        1372110     test   1295.0    1179.0           1\n 8        1372555     test   4708.0    1179.0           9\n ...          ...      ...      ...       ...         ...\n 10967    1359429     test   3371.0    1178.0           3\n 10968    1359869     test   6590.0    1178.0           5\n 10973    1373031     test    673.0    1179.0           1\n 10974    1370292     test   1120.0    1179.0           1\n 10975    1370038     test   5348.0    1179.0           8\n \n [5700 rows x 5 columns])"
     },
     "execution_count": 12,
     "metadata": {},
     "output_type": "execute_result"
    }
   ],
   "source": [
    "r1, r2"
   ]
  },
  {
   "cell_type": "code",
   "execution_count": 13,
   "id": "831404c6",
   "metadata": {},
   "outputs": [],
   "source": [
    "def test_calc(r1, r2, alpha = 0.05):\n",
    "        s, p = ttest_ind ( r1 ['sum_pay'], r2  ['sum_pay'] ) #считаем стат.параметры в двух группах по сумме оплат         \n",
    "        if p < alpha:\n",
    "              print ('Средние значения в выборках равны')\n",
    "        else: print('Средние значения в выборках НЕ равны')\n",
    "               \n",
    "        return s, p\n",
    "        "
   ]
  },
  {
   "cell_type": "code",
   "execution_count": 14,
   "id": "8fed9149",
   "metadata": {},
   "outputs": [
    {
     "name": "stdout",
     "output_type": "stream",
     "text": [
      "Средние значения в выборках НЕ равны\n"
     ]
    }
   ],
   "source": [
    " s, p = test_calc(r1, r2)    "
   ]
  },
  {
   "cell_type": "code",
   "execution_count": 15,
   "id": "06778fea",
   "metadata": {},
   "outputs": [],
   "source": [
    "### Задача 3\n",
    "\n",
    "#Постройте в Python функцию **mann_whitney_func**, которая будет проводить тест Манна-Уитни для двух выборок.\n",
    "\n",
    "#**На вход она берет:**\n",
    "\n",
    "#- Ряд 1 (***r1***)\n",
    "#- Ряд 2 (***r2***)\n",
    "#- Уровень значимости ***alpha*** (имеет дефолтное значение = 5%)\n",
    "\n",
    "#**И делает следующие шаги:**\n",
    "\n",
    "#1. Вычисляет значение статистики Манна — Уитни и p_value нулевой гипотезы теста Манна-Уитни. \n",
    "#Значение статистики записывается во внутреннюю переменную ***s***, а *p_value* - во внутреннюю переменную ***p***.\n",
    "#2. Принт результата в зависимости от соотношения p_value и alpha («Распределения (не) равны»).\n",
    "#3. Возвращает (в *return*) — внутренние переменные ***s*** и ***p***."
   ]
  },
  {
   "cell_type": "code",
   "execution_count": 16,
   "id": "2009062c",
   "metadata": {},
   "outputs": [],
   "source": [
    "def mann_whitney_func (r1,r2, alpha = 0.05):\n",
    "        s, p = st.mannwhitneyu (x, y)\n",
    "    \n",
    "        if p < alpha:\n",
    "            print ('Распределения НЕ равны')\n",
    "        else: print ('Распределение равны')\n",
    "    \n",
    "        return s, p\n",
    "    "
   ]
  },
  {
   "cell_type": "code",
   "execution_count": 17,
   "id": "6a2ff9bf",
   "metadata": {},
   "outputs": [
    {
     "name": "stdout",
     "output_type": "stream",
     "text": [
      "Средние значения в выборках НЕ равны\n"
     ]
    }
   ],
   "source": [
    "s, p = test_calc(r1, r2)"
   ]
  },
  {
   "cell_type": "code",
   "execution_count": 17,
   "id": "6dd576b5",
   "metadata": {},
   "outputs": [],
   "source": []
  },
  {
   "cell_type": "code",
   "execution_count": 21,
   "id": "8ace9458",
   "metadata": {},
   "outputs": [],
   "source": [
    "fs = (14,7) ### размер графиков\n",
    "\n",
    "iq = [0.1,0.25,0.3,0.4,0.5,0.6,0.75,0.9]\n",
    "\n",
    "iq_names = ['1ый дециль (10%) ........ >>>',\n",
    "            '1ый квартиль (25%) ...... >>>',\n",
    "            '3ий дециль (30%) ........ >>>',\n",
    "            '4ый дециль (40%) ........ >>>',\n",
    "            'Медиана (50%) ........... >>>',\n",
    "            '6ой дециль (60%) ........ >>>',\n",
    "            '3ий квартиль (75%) ...... >>>',\n",
    "            '9ый дециль (90%) ........ >>>']\n",
    "\n",
    "st_names = ['Среднее значение ........ >>>',\n",
    "            'Дисперсия ............... >>>',\n",
    "            'Стандартное отклонение .. >>>']\n",
    "\n",
    "dct = dict()\n",
    "dct['types'] = [list, tuple]\n",
    "dct['length'] = 4\n",
    "dct['numeric'] = [int, float]\n",
    "\n",
    "def show_hist(r1, r2, graph_title = '', xlabel = 'Размер платежа', ylabel = 'Кол-во людей'):\n",
    "\n",
    "    for r in r1, r2:\n",
    "        if type(r) not in dct['types']:\n",
    "            return print(\"Нужен список или кортеж!\")\n",
    "        if len(r) <= dct['length']:\n",
    "            return print(\"Требуется более длинный ряд!\")\n",
    "        for each in range(len(r)):\n",
    "            if type(r[each]) not in dct['numeric']:\n",
    "                return print('Ты должен был бороться со злом, а не примкнуть к нему!')\n",
    "\n",
    "    import re\n",
    "    import traceback\n",
    "\n",
    "    stack = traceback.extract_stack()\n",
    "    arg_name = re.sub('show_hist\\((.*)\\)', '\\g<1>', stack[-2][-1])\n",
    "    arg_list = arg_name.split(',')\n",
    "\n",
    "    plt.figure(figsize=fs)\n",
    "    plt.title(graph_title)\n",
    "    plt.xlabel(xlabel)\n",
    "    plt.ylabel(ylabel)\n",
    "    sns.histplot(r1, color='r', alpha=0.65, binwidth=200, binrange=[0,11000], label = arg_list[0].strip())\n",
    "    sns.histplot(r2, color='g', alpha=0.35, binwidth=200, binrange=[0,11000], label = arg_list[1].strip())\n",
    "    plt.axvline(pd.Series(r1).mean(), color='r', linestyle='--', linewidth=2, label = 'среднее '+arg_list[0].strip())\n",
    "    plt.axvline(pd.Series(r2).mean(), color='g', linestyle='--', linewidth=2, label = 'среднее '+arg_list[1].strip())\n",
    "    plt.legend()\n",
    "    plt.show()"
   ]
  },
  {
   "cell_type": "code",
   "execution_count": 22,
   "outputs": [
    {
     "name": "stdout",
     "output_type": "stream",
     "text": [
      "Нужен список или кортеж!\n"
     ]
    }
   ],
   "source": [
    "show_hist(r1, r2)"
   ],
   "metadata": {
    "collapsed": false
   }
  },
  {
   "cell_type": "code",
   "execution_count": 25,
   "outputs": [
    {
     "data": {
      "text/plain": "<AxesSubplot: >"
     },
     "execution_count": 25,
     "metadata": {},
     "output_type": "execute_result"
    },
    {
     "data": {
      "text/plain": "<Figure size 1400x700 with 1 Axes>",
      "image/png": "[encoded data removed]"
     },
     "metadata": {},
     "output_type": "display_data"
    }
   ],
   "source": [
    "df.sum_pay.hist(figsize=(14,7), bins=len(df.sum_pay)//100, grid=False)"
   ],
   "metadata": {
    "collapsed": false
   }
  },
  {
   "cell_type": "code",
   "execution_count": 26,
   "outputs": [],
   "source": [
    "import sketch"
   ],
   "metadata": {
    "collapsed": false
   }
  },
  {
   "cell_type": "code",
   "execution_count": 31,
   "outputs": [
    {
     "data": {
      "text/plain": "<IPython.core.display.HTML object>",
      "text/html": "<div style=\"display:flex;flex-direction:row;justify-content:space-between;\">\n                <pre style=\"width: 100%; white-space: pre-wrap;\" id=\"e08805ec-3c5b-4fce-8a2f-6d55f52c85f2\">\nimport matplotlib.pyplot as plt\n\n# Set figure size\nplt.figure(figsize=(14,7))\n\n# Plot histogram with 100 bins and no grid\nplt.hist(df['sum_pay'], bins=100, edgecolor='black', linewidth=1.2)\n\n# Show plot\nplt.show()\n</pre>\n                <button style=\"height: fit-content;\" onclick=\"navigator.clipboard.writeText(JSON.parse(atob(`IlxuaW1wb3J0IG1hdHBsb3RsaWIucHlwbG90IGFzIHBsdFxuXG4jIFNldCBmaWd1cmUgc2l6ZVxucGx0LmZpZ3VyZShmaWdzaXplPSgxNCw3KSlcblxuIyBQbG90IGhpc3RvZ3JhbSB3aXRoIDEwMCBiaW5zIGFuZCBubyBncmlkXG5wbHQuaGlzdChkZlsnc3VtX3BheSddLCBiaW5zPTEwMCwgZWRnZWNvbG9yPSdibGFjaycsIGxpbmV3aWR0aD0xLjIpXG5cbiMgU2hvdyBwbG90XG5wbHQuc2hvdygpXG4i`)))\">Copy</button>\n                </div>"
     },
     "metadata": {},
     "output_type": "display_data"
    }
   ],
   "source": [
    "df.sketch.howto(\"plot histogram on sum_pay column with 100 bins, no grid and 14*7 figure size\")"
   ],
   "metadata": {
    "collapsed": false
   }
  },
  {
   "cell_type": "code",
   "execution_count": 32,
   "outputs": [
    {
     "data": {
      "text/plain": "<Figure size 1400x700 with 1 Axes>",
      "image/png": "[encoded data removed]"
     },
     "metadata": {},
     "output_type": "display_data"
    }
   ],
   "source": [
    "import matplotlib.pyplot as plt\n",
    "\n",
    "# Set figure size\n",
    "plt.figure(figsize=(14,7))\n",
    "\n",
    "# Plot histogram with 100 bins and no grid\n",
    "plt.hist(df['sum_pay'], bins=100, edgecolor='black', linewidth=1.2)\n",
    "\n",
    "# Show plot\n",
    "plt.show()"
   ],
   "metadata": {
    "collapsed": false
   }
  },
  {
   "cell_type": "code",
   "execution_count": null,
   "outputs": [],
   "source": [],
   "metadata": {
    "collapsed": false
   }
  }
 ],
 "metadata": {
  "kernelspec": {
   "display_name": "Python 3 (ipykernel)",
   "language": "python",
   "name": "python3"
  },
  "language_info": {
   "codemirror_mode": {
    "name": "ipython",
    "version": 3
   },
   "file_extension": ".py",
   "mimetype": "text/x-python",
   "name": "python",
   "nbconvert_exporter": "python",
   "pygments_lexer": "ipython3",
   "version": "3.9.13"
  }
 },
 "nbformat": 4,
 "nbformat_minor": 5
}
